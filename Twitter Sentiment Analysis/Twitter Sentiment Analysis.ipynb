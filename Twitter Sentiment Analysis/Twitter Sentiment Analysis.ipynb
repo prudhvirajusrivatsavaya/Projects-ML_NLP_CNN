{
 "cells": [
  {
   "cell_type": "markdown",
   "id": "11596074-e497-4b02-9fad-f200b96849b0",
   "metadata": {},
   "source": [
    " #### Importing the Libraries"
   ]
  },
  {
   "cell_type": "markdown",
   "id": "383ba46a-692f-478d-858e-446cc50b3e28",
   "metadata": {},
   "source": [
    "Access token : 94964624-Ett186vBSqeroVnXLbdQgFf3CdrTfxWac38XRy7tX\n",
    "\n",
    "Access token secret : qUSwa9G2yC1E8gsnHfHgB7Zp7gMItaYUdqSay0tLIsRsT\n",
    "\n",
    "API key: KDje8sCVZGqoYy42NVdzki2uf\n",
    "\n",
    "API secret key: Yh0lvVcYpC4QxjX16n7gMhP88v6E9cFxDDugkpZyhrsE0F5SGk"
   ]
  },
  {
   "cell_type": "code",
   "execution_count": 2,
   "id": "c6d0bc3e-589d-44d5-9cf2-ed5cc067c8fa",
   "metadata": {},
   "outputs": [],
   "source": [
    "from textblob import TextBlob"
   ]
  },
  {
   "cell_type": "code",
   "execution_count": 4,
   "id": "4599324a-fd2f-425f-96ea-7a2996d1a243",
   "metadata": {},
   "outputs": [],
   "source": [
    "import tweepy"
   ]
  },
  {
   "cell_type": "code",
   "execution_count": 5,
   "id": "8004e038-dfb8-4916-bdd5-573af860ca38",
   "metadata": {},
   "outputs": [],
   "source": [
    "import matplotlib.pyplot as plt"
   ]
  },
  {
   "cell_type": "markdown",
   "id": "37e0ac7c-bbc1-486c-8f79-4a6e29ecd4ea",
   "metadata": {},
   "source": [
    "#### Connecting with the Twitter API"
   ]
  },
  {
   "cell_type": "code",
   "execution_count": 6,
   "id": "4c681606-77a5-4aed-9aeb-3036ec0dc1ef",
   "metadata": {},
   "outputs": [],
   "source": [
    "consumer_key = \"KDje8sCVZGqoYy42NVdzki2uf\"\n",
    "consumer_secret = \"Yh0lvVcYpC4QxjX16n7gMhP88v6E9cFxDDugkpZyhrsE0F5SGk\"\n",
    "access_token = \"94964624-Ett186vBSqeroVnXLbdQgFf3CdrTfxWac38XRy7tX\"\n",
    "access_token_secret = \"qUSwa9G2yC1E8gsnHfHgB7Zp7gMItaYUdqSay0tLIsRsT\""
   ]
  },
  {
   "cell_type": "code",
   "execution_count": 7,
   "id": "46bc14c9-bdc0-4924-ba94-d5c38656cb7b",
   "metadata": {},
   "outputs": [],
   "source": [
    "auth = tweepy.OAuthHandler(consumer_key, consumer_secret)\n",
    "auth.set_access_token(access_token, access_token_secret)\n",
    "\n",
    "api = tweepy.API(auth)"
   ]
  },
  {
   "cell_type": "code",
   "execution_count": 8,
   "id": "37b52e60-8c09-4b65-8a8d-b1c5b3ce364f",
   "metadata": {},
   "outputs": [
    {
     "data": {
      "text/plain": [
       "tweepy.api.API"
      ]
     },
     "execution_count": 8,
     "metadata": {},
     "output_type": "execute_result"
    }
   ],
   "source": [
    "type(api)"
   ]
  },
  {
   "cell_type": "code",
   "execution_count": 9,
   "id": "9f64d520-8146-463a-8a3e-eac1bbfa6917",
   "metadata": {},
   "outputs": [],
   "source": [
    "search_term = \"Money Heist\"\n",
    "no_of_tweets = 1000"
   ]
  },
  {
   "cell_type": "code",
   "execution_count": 10,
   "id": "7ec07e74-65e9-4678-875e-851be0c10dec",
   "metadata": {},
   "outputs": [
    {
     "ename": "AttributeError",
     "evalue": "'API' object has no attribute 'search'",
     "output_type": "error",
     "traceback": [
      "\u001b[1;31m---------------------------------------------------------------------------\u001b[0m",
      "\u001b[1;31mAttributeError\u001b[0m                            Traceback (most recent call last)",
      "Cell \u001b[1;32mIn[10], line 1\u001b[0m\n\u001b[1;32m----> 1\u001b[0m tweets \u001b[38;5;241m=\u001b[39m tweepy\u001b[38;5;241m.\u001b[39mCursor(\u001b[43mapi\u001b[49m\u001b[38;5;241;43m.\u001b[39;49m\u001b[43msearch\u001b[49m, q \u001b[38;5;241m=\u001b[39m search_term)\u001b[38;5;241m.\u001b[39mitems(no_of_tweets)\n",
      "\u001b[1;31mAttributeError\u001b[0m: 'API' object has no attribute 'search'"
     ]
    }
   ],
   "source": [
    "tweets = tweepy.Cursor(api.search, q = search_term).items(no_of_tweets)"
   ]
  },
  {
   "cell_type": "code",
   "execution_count": null,
   "id": "a02fbdab-e21b-49c6-9b07-ea5702a99855",
   "metadata": {},
   "outputs": [],
   "source": []
  },
  {
   "cell_type": "code",
   "execution_count": null,
   "id": "4ecc4aeb-cd6c-44cb-b5ff-bd5c3ad65450",
   "metadata": {},
   "outputs": [],
   "source": []
  },
  {
   "cell_type": "code",
   "execution_count": null,
   "id": "ae75ccda-4820-4508-8047-9a364a916ff8",
   "metadata": {},
   "outputs": [],
   "source": []
  },
  {
   "cell_type": "code",
   "execution_count": null,
   "id": "d734633d-ec63-45dc-ba46-69e84b6d2918",
   "metadata": {},
   "outputs": [],
   "source": []
  }
 ],
 "metadata": {
  "kernelspec": {
   "display_name": "Python 3 (ipykernel)",
   "language": "python",
   "name": "python3"
  },
  "language_info": {
   "codemirror_mode": {
    "name": "ipython",
    "version": 3
   },
   "file_extension": ".py",
   "mimetype": "text/x-python",
   "name": "python",
   "nbconvert_exporter": "python",
   "pygments_lexer": "ipython3",
   "version": "3.8.17"
  }
 },
 "nbformat": 4,
 "nbformat_minor": 5
}
