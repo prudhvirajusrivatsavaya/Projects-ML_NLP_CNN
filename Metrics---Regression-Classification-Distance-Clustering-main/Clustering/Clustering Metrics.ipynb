{
 "cells": [
  {
   "cell_type": "code",
   "execution_count": 1,
   "id": "b86e5e3b-36ba-4453-9d41-c0f532a8c46a",
   "metadata": {},
   "outputs": [
    {
     "name": "stderr",
     "output_type": "stream",
     "text": [
      "C:\\Users\\User\\anaconda3\\envs\\nlp_2\\lib\\site-packages\\sklearn\\cluster\\_kmeans.py:1412: FutureWarning: The default value of `n_init` will change from 10 to 'auto' in 1.4. Set the value of `n_init` explicitly to suppress the warning\n",
      "  super()._check_params_vs_input(X, default_n_init=10)\n"
     ]
    }
   ],
   "source": [
    "from sklearn.metrics import silhouette_score, calinski_harabasz_score, davies_bouldin_score, adjusted_rand_score, normalized_mutual_info_score, fowlkes_mallows_score\n",
    "from sklearn.datasets import make_blobs\n",
    "from sklearn.cluster import KMeans\n",
    "\n",
    "# Generate synthetic data for demonstration\n",
    "X, y = make_blobs(n_samples=300, centers=3, random_state=42)\n",
    "\n",
    "# Create and fit a clustering model (K-Means in this example)\n",
    "kmeans = KMeans(n_clusters=3)\n",
    "kmeans.fit(X)\n",
    "labels = kmeans.labels_"
   ]
  },
  {
   "cell_type": "markdown",
   "id": "4d5f06ad-ff75-4349-86d0-e35a507eedcb",
   "metadata": {},
   "source": [
    "silhouette_score\n",
    "\n",
    "Measures how similar an object is to its own cluster (cohesion) compared to other clusters (separation). Values range from -1 to 1, with higher values indicating better clustering."
   ]
  },
  {
   "cell_type": "code",
   "execution_count": 2,
   "id": "cd446f36-02e7-46ee-ac5f-2919bf5a849f",
   "metadata": {},
   "outputs": [
    {
     "data": {
      "text/plain": [
       "0.8480303059596955"
      ]
     },
     "execution_count": 2,
     "metadata": {},
     "output_type": "execute_result"
    }
   ],
   "source": [
    "# Internal Cluster Evaluation Metrics\n",
    "silhouette = silhouette_score(X, labels)\n",
    "silhouette"
   ]
  },
  {
   "cell_type": "markdown",
   "id": "682031bf-b7ab-4b92-8102-4d7bdcac7c4a",
   "metadata": {},
   "source": [
    "Calinski-Harabasz Index: \n",
    "\n",
    "Measures the ratio of between-cluster variance to within-cluster variance. Higher values indicate better clustering."
   ]
  },
  {
   "cell_type": "code",
   "execution_count": 3,
   "id": "54759016-9130-443c-8e90-26ef70b721f4",
   "metadata": {},
   "outputs": [
    {
     "data": {
      "text/plain": [
       "5196.295097418395"
      ]
     },
     "execution_count": 3,
     "metadata": {},
     "output_type": "execute_result"
    }
   ],
   "source": [
    "calinski_harabasz = calinski_harabasz_score(X, labels)\n",
    "calinski_harabasz"
   ]
  },
  {
   "cell_type": "markdown",
   "id": "136def45-b58d-444e-b4ec-d692db4e5da0",
   "metadata": {},
   "source": [
    "Davies-Bouldin Index: \n",
    "\n",
    "Measures the average similarity between each cluster and its most similar cluster. Lower values indicate better clustering."
   ]
  },
  {
   "cell_type": "code",
   "execution_count": 4,
   "id": "1da8af4b-9d78-48ae-9103-cc707453e793",
   "metadata": {},
   "outputs": [
    {
     "data": {
      "text/plain": [
       "0.21231599538998425"
      ]
     },
     "execution_count": 4,
     "metadata": {},
     "output_type": "execute_result"
    }
   ],
   "source": [
    "davies_bouldin = davies_bouldin_score(X, labels)\n",
    "davies_bouldin"
   ]
  },
  {
   "cell_type": "markdown",
   "id": "afc0dc29-16c9-4304-ba20-2f9804abf8f6",
   "metadata": {},
   "source": [
    "Dunn Index: \n",
    "\n",
    "Measures the ratio of the minimum inter-cluster distance to the maximum intra-cluster distance. Higher values are better."
   ]
  },
  {
   "cell_type": "code",
   "execution_count": 8,
   "id": "3514914b-a755-4c2f-b85f-cef64c98491c",
   "metadata": {},
   "outputs": [
    {
     "name": "stdout",
     "output_type": "stream",
     "text": [
      "Dunn Index: 0.22626992671704618\n"
     ]
    }
   ],
   "source": [
    "import numpy as np\n",
    "from sklearn.metrics import pairwise_distances\n",
    "\n",
    "def dunn_index(clusters, metric='euclidean'):\n",
    "    \"\"\"\n",
    "    Calculate the Dunn Index for a set of clusters.\n",
    "\n",
    "    Parameters:\n",
    "    - clusters: List of arrays, where each array contains the data points of a cluster.\n",
    "    - metric: Distance metric for calculating inter-cluster and intra-cluster distances.\n",
    "\n",
    "    Returns:\n",
    "    - Dunn Index value.\n",
    "    \"\"\"\n",
    "    # Calculate the centroid of each cluster\n",
    "    centroids = [np.mean(cluster, axis=0) for cluster in clusters]\n",
    "\n",
    "    # Calculate the inter-cluster distances\n",
    "    inter_cluster_distances = pairwise_distances(centroids, metric=metric)\n",
    "\n",
    "    # Calculate the maximum inter-cluster distance\n",
    "    max_inter_distance = np.max(inter_cluster_distances)\n",
    "\n",
    "    # Calculate the minimum intra-cluster distance\n",
    "    min_intra_distance = np.inf\n",
    "    for i in range(len(clusters)):\n",
    "        cluster_distance = pairwise_distances(clusters[i], metric=metric)\n",
    "        np.fill_diagonal(cluster_distance, np.inf)  # Exclude self-distances\n",
    "        min_intra_distance = min(min_intra_distance, np.min(cluster_distance))\n",
    "\n",
    "    # Dunn Index is the ratio of minimum intra-cluster distance to maximum inter-cluster distance\n",
    "    dunn_index = min_intra_distance / max_inter_distance\n",
    "\n",
    "    return dunn_index\n",
    "\n",
    "# Example usage\n",
    "cluster1 = np.random.rand(20, 2)\n",
    "cluster2 = np.random.rand(15, 2)\n",
    "cluster3 = np.random.rand(25, 2)\n",
    "\n",
    "clusters = [cluster1, cluster2, cluster3]\n",
    "\n",
    "dunn = dunn_index(clusters)\n",
    "print(f\"Dunn Index: {dunn}\")"
   ]
  },
  {
   "cell_type": "markdown",
   "id": "bf9c6ac8-7e11-48b6-abe8-a965ecae1d3f",
   "metadata": {},
   "source": [
    "External Cluster Evaluation Metrics:\n",
    "\n",
    "These metrics require access to ground truth labels to evaluate the quality of clustering. They are used when you have labeled data for comparison.\n",
    "\n",
    "Adjusted Rand Index (ARI): Measures the similarity between true and predicted clusters, corrected for chance. Values range from -1 to 1, with higher values indicating better clustering.\n",
    "\n",
    "Normalized Mutual Information (NMI): Measures the mutual information between true and predicted clusters, normalized to [0, 1]. Higher values indicate better clustering.\n",
    "\n",
    "Fowlkes-Mallows Index (FMI): Measures the geometric mean of precision and recall between true and predicted clusters. Values range from 0 to 1, with higher values indicating better clustering."
   ]
  },
  {
   "cell_type": "code",
   "execution_count": 5,
   "id": "1f1b2ad8-a190-4007-812d-c17fb50be02f",
   "metadata": {},
   "outputs": [],
   "source": [
    "# External Cluster Evaluation Metrics\n",
    "# Ground truth labels y are used for these metrics\n",
    "ari = adjusted_rand_score(y, labels)\n",
    "nmi = normalized_mutual_info_score(y, labels)\n",
    "fmi = fowlkes_mallows_score(y, labels)"
   ]
  },
  {
   "cell_type": "markdown",
   "id": "864f67d7-b899-4f49-a24b-f09e3beffb08",
   "metadata": {},
   "source": [
    "External Evaluation Metrics for Hierarchical Clustering:\n",
    "\n",
    "These metrics are specific to hierarchical clustering and assess the quality of hierarchical structures.\n",
    "\n",
    "Cophenetic Correlation Coefficient: Measures the correlation between the pairwise distances of data points and the cophenetic distances in the dendrogram. Values closer to 1 indicate better results.\n",
    "\n",
    "Variation of Information (VI): Measures the amount of information shared between two clusterings. Lower values indicate better clustering."
   ]
  },
  {
   "cell_type": "code",
   "execution_count": 6,
   "id": "1a2500d0-275c-4622-87d5-b1976ee444cb",
   "metadata": {},
   "outputs": [],
   "source": [
    "ari = adjusted_rand_score(y, labels)\n",
    "nmi = normalized_mutual_info_score(y, labels)\n",
    "fmi = fowlkes_mallows_score(y, labels)"
   ]
  },
  {
   "cell_type": "code",
   "execution_count": null,
   "id": "1cb045f6-ec76-4896-926f-e50a145e5863",
   "metadata": {},
   "outputs": [],
   "source": []
  }
 ],
 "metadata": {
  "kernelspec": {
   "display_name": "Python 3 (ipykernel)",
   "language": "python",
   "name": "python3"
  },
  "language_info": {
   "codemirror_mode": {
    "name": "ipython",
    "version": 3
   },
   "file_extension": ".py",
   "mimetype": "text/x-python",
   "name": "python",
   "nbconvert_exporter": "python",
   "pygments_lexer": "ipython3",
   "version": "3.9.17"
  }
 },
 "nbformat": 4,
 "nbformat_minor": 5
}
