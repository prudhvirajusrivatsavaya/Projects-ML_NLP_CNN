{
 "cells": [
  {
   "cell_type": "code",
   "execution_count": null,
   "metadata": {},
   "outputs": [],
   "source": [
    "from sklearn.preprocessing import LabelBinarizer\n",
    "from collections import defaultdict\n",
    "import pandas as pd\n",
    "encoding=defaultdict(LabelBinarizer)\n",
    "encoded_df=pd.DataFrame()\n",
    "train_ordinal=train.filter(like='o')  \n",
    "train_ordinal_list=train_ordinal.columns\n",
    "for i in train_ordinal_list:\n",
    "    d=pd.DataFrame(encoding[i].fit_transform(train[i]))\n",
    "    test_column=d.columns.values\n",
    "    list1=[i+'_'+str(j) for j in test_column]\n",
    "    d.columns=list1\n",
    "    encoded_df=pd.concat([encoded_df,d],axis=1)"
   ]
  }
 ],
 "metadata": {
  "kernelspec": {
   "display_name": "Python 3",
   "language": "python",
   "name": "python3"
  },
  "language_info": {
   "codemirror_mode": {
    "name": "ipython",
    "version": 3
   },
   "file_extension": ".py",
   "mimetype": "text/x-python",
   "name": "python",
   "nbconvert_exporter": "python",
   "pygments_lexer": "ipython3",
   "version": "3.6.4"
  }
 },
 "nbformat": 4,
 "nbformat_minor": 2
}
