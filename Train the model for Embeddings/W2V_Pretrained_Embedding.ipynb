{
 "cells": [
  {
   "cell_type": "code",
   "execution_count": 1,
   "id": "b4127bf6-836e-495c-9b37-8a5450e91df2",
   "metadata": {},
   "outputs": [
    {
     "name": "stdout",
     "output_type": "stream",
     "text": [
      "2.13.0\n"
     ]
    }
   ],
   "source": [
    "import tensorflow as tf\n",
    "print(tf.__version__)"
   ]
  },
  {
   "cell_type": "code",
   "execution_count": 2,
   "id": "3ebbf418-3c28-45f2-9deb-cb6fe0c7dc45",
   "metadata": {},
   "outputs": [],
   "source": [
    "import gensim\n",
    "from gensim.models import Word2Vec, KeyedVectors"
   ]
  },
  {
   "cell_type": "code",
   "execution_count": 4,
   "id": "8ff6646b-65c1-4958-b769-c277de34737d",
   "metadata": {
    "scrolled": true
   },
   "outputs": [],
   "source": [
    "model = KeyedVectors.load_word2vec_format('C:/Users/User/Downloads/GoogleNews-vectors-negative300.bin', binary=True, limit=100000)"
   ]
  },
  {
   "cell_type": "code",
   "execution_count": 5,
   "id": "cadf107f-d1ce-45fe-b187-73328223318c",
   "metadata": {},
   "outputs": [
    {
     "data": {
      "text/plain": [
       "[('woman', 0.7664012908935547),\n",
       " ('boy', 0.6824871301651001),\n",
       " ('teenager', 0.6586930155754089),\n",
       " ('teenage_girl', 0.6147903203964233),\n",
       " ('girl', 0.5921714305877686),\n",
       " ('robber', 0.5585119128227234),\n",
       " ('teen_ager', 0.5549196600914001),\n",
       " ('men', 0.5489763021469116),\n",
       " ('guy', 0.5420035123825073),\n",
       " ('person', 0.5342026352882385)]"
      ]
     },
     "execution_count": 5,
     "metadata": {},
     "output_type": "execute_result"
    }
   ],
   "source": [
    "# find 10 closest words in the vector space that we have created\n",
    "model.most_similar('man')"
   ]
  },
  {
   "cell_type": "code",
   "execution_count": 6,
   "id": "445ff2c9-88f6-47cc-b784-2b860e5fe877",
   "metadata": {},
   "outputs": [
    {
     "data": {
      "text/plain": [
       "300"
      ]
     },
     "execution_count": 6,
     "metadata": {},
     "output_type": "execute_result"
    }
   ],
   "source": [
    "# see the vector\n",
    "len(model['man'])\n",
    "\n",
    "# so this is how man is represented in our vector space"
   ]
  },
  {
   "cell_type": "code",
   "execution_count": 7,
   "id": "c34f7e04-5be8-4dab-bcc2-292124987b53",
   "metadata": {},
   "outputs": [
    {
     "data": {
      "text/plain": [
       "[('king', 0.6478992700576782),\n",
       " ('queen', 0.535493791103363),\n",
       " ('women', 0.5233659148216248),\n",
       " ('kings', 0.5162314772605896),\n",
       " ('queens', 0.4995364248752594),\n",
       " ('princes', 0.46233269572257996),\n",
       " ('monarch', 0.45280295610427856),\n",
       " ('monarchy', 0.4293173849582672),\n",
       " ('crown_prince', 0.42302510142326355),\n",
       " ('womens', 0.41756653785705566)]"
      ]
     },
     "execution_count": 7,
     "metadata": {},
     "output_type": "execute_result"
    }
   ],
   "source": [
    "# let us try the famous relationship\n",
    "vec = model['king'] - model['man'] + model['women']\n",
    "model.most_similar([vec])"
   ]
  },
  {
   "cell_type": "code",
   "execution_count": 8,
   "id": "61e0edc9-d84c-4925-84af-4fad6d1ff37e",
   "metadata": {},
   "outputs": [
    {
     "data": {
      "text/plain": [
       "[('France', 0.7724406123161316),\n",
       " ('Paris', 0.6798243522644043),\n",
       " ('Belgium', 0.598486065864563),\n",
       " ('Germany', 0.5652832388877869),\n",
       " ('Spain', 0.550815761089325),\n",
       " ('Italy', 0.5462924838066101),\n",
       " ('Marseille', 0.5372346639633179),\n",
       " ('Switzerland', 0.5364957451820374),\n",
       " ('French', 0.5346113443374634),\n",
       " ('Morocco', 0.5051252841949463)]"
      ]
     },
     "execution_count": 8,
     "metadata": {},
     "output_type": "execute_result"
    }
   ],
   "source": [
    "# Relationship\n",
    "vec = model['Germany'] - model['Berlin'] + model['Paris']\n",
    "model.most_similar([vec])"
   ]
  },
  {
   "cell_type": "code",
   "execution_count": 9,
   "id": "1138ceaf-1919-4db4-a2c1-7694aa8801be",
   "metadata": {},
   "outputs": [
    {
     "data": {
      "text/plain": [
       "[('Messi', 0.7382575273513794),\n",
       " ('Sehwag', 0.6777455806732178),\n",
       " ('Tendulkar', 0.6748222708702087),\n",
       " ('Xavi', 0.6610832810401917),\n",
       " ('Dravid', 0.6569646596908569),\n",
       " ('Dhoni', 0.6550688743591309),\n",
       " ('Lionel_Messi', 0.6407608389854431),\n",
       " ('Forlan', 0.640610933303833),\n",
       " ('Yuvraj', 0.6390379667282104),\n",
       " ('Ponting', 0.6390198469161987)]"
      ]
     },
     "execution_count": 9,
     "metadata": {},
     "output_type": "execute_result"
    }
   ],
   "source": [
    "# Relationship\n",
    "\n",
    "vec = model['Messi'] - model['Football'] + model['Cricket']\n",
    "model.most_similar([vec])"
   ]
  },
  {
   "cell_type": "code",
   "execution_count": null,
   "id": "3b4a8ae4-0a68-4527-9f75-769ed46c03a9",
   "metadata": {},
   "outputs": [],
   "source": []
  },
  {
   "cell_type": "code",
   "execution_count": null,
   "id": "9136d7b2-87c4-47c7-815c-466a43e511cc",
   "metadata": {},
   "outputs": [],
   "source": []
  }
 ],
 "metadata": {
  "kernelspec": {
   "display_name": "Python 3 (ipykernel)",
   "language": "python",
   "name": "python3"
  },
  "language_info": {
   "codemirror_mode": {
    "name": "ipython",
    "version": 3
   },
   "file_extension": ".py",
   "mimetype": "text/x-python",
   "name": "python",
   "nbconvert_exporter": "python",
   "pygments_lexer": "ipython3",
   "version": "3.9.17"
  }
 },
 "nbformat": 4,
 "nbformat_minor": 5
}
