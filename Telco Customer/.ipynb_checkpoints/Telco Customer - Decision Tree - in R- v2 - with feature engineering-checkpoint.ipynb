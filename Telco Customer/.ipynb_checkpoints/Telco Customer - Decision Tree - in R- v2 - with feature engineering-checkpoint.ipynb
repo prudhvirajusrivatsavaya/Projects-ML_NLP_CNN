{
 "cells": [
  {
   "cell_type": "markdown",
   "metadata": {},
   "source": [
    "# Telco Customer Dataset - Churn predcition using Decison Tree"
   ]
  },
  {
   "cell_type": "code",
   "execution_count": 20,
   "metadata": {},
   "outputs": [],
   "source": [
    "# install.packages(\"ggplot2\")\n",
    "# install.packages(\"dplyr\")\n",
    "# install.packages(\"rpart\")\n",
    "# install.packages(\"rattle\")\n",
    "# install.packages(\"rpart.plot\")\n",
    "# install.packages(\"RColorBrewer\")\n",
    "# install.packages(\"party\")\n",
    "# install.packages(\"partykit\")\n",
    "# install.packages(\"caret\")\n",
    "# install.packages(\"heuristica\")"
   ]
  },
  {
   "cell_type": "code",
   "execution_count": 21,
   "metadata": {},
   "outputs": [],
   "source": [
    "library(ggplot2)\n",
    "library(dplyr)\n",
    "library(rpart)\n",
    "# library(dummies)\n",
    "# library(rattle)\n",
    "library(rpart.plot)\n",
    "library(heuristica)\n",
    "# library(RColorBrewer)\n",
    "# library(party)\n",
    "# library(partykit)\n",
    "# library(caret)"
   ]
  },
  {
   "cell_type": "markdown",
   "metadata": {},
   "source": [
    "## Reading dataset"
   ]
  },
  {
   "cell_type": "code",
   "execution_count": 22,
   "metadata": {},
   "outputs": [
    {
     "name": "stdout",
     "output_type": "stream",
     "text": [
      "'data.frame':\t7043 obs. of  21 variables:\n",
      " $ customerID      : Factor w/ 7043 levels \"0002-ORFBO\",\"0003-MKNFE\",..: 5376 3963 2565 5536 6512 6552 1003 4771 5605 4535 ...\n",
      " $ gender          : Factor w/ 2 levels \"Female\",\"Male\": 1 2 2 2 1 1 2 1 1 2 ...\n",
      " $ SeniorCitizen   : int  0 0 0 0 0 0 0 0 0 0 ...\n",
      " $ Partner         : Factor w/ 2 levels \"No\",\"Yes\": 2 1 1 1 1 1 1 1 2 1 ...\n",
      " $ Dependents      : Factor w/ 2 levels \"No\",\"Yes\": 1 1 1 1 1 1 2 1 1 2 ...\n",
      " $ tenure          : int  1 34 2 45 2 8 22 10 28 62 ...\n",
      " $ PhoneService    : Factor w/ 2 levels \"No\",\"Yes\": 1 2 2 1 2 2 2 1 2 2 ...\n",
      " $ MultipleLines   : Factor w/ 3 levels \"No\",\"No phone service\",..: 2 1 1 2 1 3 3 2 3 1 ...\n",
      " $ InternetService : Factor w/ 3 levels \"DSL\",\"Fiber optic\",..: 1 1 1 1 2 2 2 1 2 1 ...\n",
      " $ OnlineSecurity  : Factor w/ 3 levels \"No\",\"No internet service\",..: 1 3 3 3 1 1 1 3 1 3 ...\n",
      " $ OnlineBackup    : Factor w/ 3 levels \"No\",\"No internet service\",..: 3 1 3 1 1 1 3 1 1 3 ...\n",
      " $ DeviceProtection: Factor w/ 3 levels \"No\",\"No internet service\",..: 1 3 1 3 1 3 1 1 3 1 ...\n",
      " $ TechSupport     : Factor w/ 3 levels \"No\",\"No internet service\",..: 1 1 1 3 1 1 1 1 3 1 ...\n",
      " $ StreamingTV     : Factor w/ 3 levels \"No\",\"No internet service\",..: 1 1 1 1 1 3 3 1 3 1 ...\n",
      " $ StreamingMovies : Factor w/ 3 levels \"No\",\"No internet service\",..: 1 1 1 1 1 3 1 1 3 1 ...\n",
      " $ Contract        : Factor w/ 3 levels \"Month-to-month\",..: 1 2 1 2 1 1 1 1 1 2 ...\n",
      " $ PaperlessBilling: Factor w/ 2 levels \"No\",\"Yes\": 2 1 2 1 2 2 2 1 2 1 ...\n",
      " $ PaymentMethod   : Factor w/ 4 levels \"Bank transfer (automatic)\",..: 3 4 4 1 3 3 2 4 3 1 ...\n",
      " $ MonthlyCharges  : num  29.9 57 53.9 42.3 70.7 ...\n",
      " $ TotalCharges    : num  29.9 1889.5 108.2 1840.8 151.7 ...\n",
      " $ Churn           : Factor w/ 2 levels \"No\",\"Yes\": 1 1 2 1 2 2 1 1 2 1 ...\n"
     ]
    },
    {
     "data": {
      "text/plain": [
       "      customerID      gender     SeniorCitizen    Partner    Dependents\n",
       " 0002-ORFBO:   1   Female:3488   Min.   :0.0000   No :3641   No :4933  \n",
       " 0003-MKNFE:   1   Male  :3555   1st Qu.:0.0000   Yes:3402   Yes:2110  \n",
       " 0004-TLHLJ:   1                 Median :0.0000                        \n",
       " 0011-IGKFF:   1                 Mean   :0.1621                        \n",
       " 0013-EXCHZ:   1                 3rd Qu.:0.0000                        \n",
       " 0013-MHZWF:   1                 Max.   :1.0000                        \n",
       " (Other)   :7037                                                       \n",
       "     tenure      PhoneService          MultipleLines     InternetService\n",
       " Min.   : 0.00   No : 682     No              :3390   DSL        :2421  \n",
       " 1st Qu.: 9.00   Yes:6361     No phone service: 682   Fiber optic:3096  \n",
       " Median :29.00                Yes             :2971   No         :1526  \n",
       " Mean   :32.37                                                          \n",
       " 3rd Qu.:55.00                                                          \n",
       " Max.   :72.00                                                          \n",
       "                                                                        \n",
       "             OnlineSecurity              OnlineBackup \n",
       " No                 :3498   No                 :3088  \n",
       " No internet service:1526   No internet service:1526  \n",
       " Yes                :2019   Yes                :2429  \n",
       "                                                      \n",
       "                                                      \n",
       "                                                      \n",
       "                                                      \n",
       "            DeviceProtection              TechSupport  \n",
       " No                 :3095    No                 :3473  \n",
       " No internet service:1526    No internet service:1526  \n",
       " Yes                :2422    Yes                :2044  \n",
       "                                                       \n",
       "                                                       \n",
       "                                                       \n",
       "                                                       \n",
       "              StreamingTV              StreamingMovies           Contract   \n",
       " No                 :2810   No                 :2785   Month-to-month:3875  \n",
       " No internet service:1526   No internet service:1526   One year      :1473  \n",
       " Yes                :2707   Yes                :2732   Two year      :1695  \n",
       "                                                                            \n",
       "                                                                            \n",
       "                                                                            \n",
       "                                                                            \n",
       " PaperlessBilling                   PaymentMethod  MonthlyCharges  \n",
       " No :2872         Bank transfer (automatic):1544   Min.   : 18.25  \n",
       " Yes:4171         Credit card (automatic)  :1522   1st Qu.: 35.50  \n",
       "                  Electronic check         :2365   Median : 70.35  \n",
       "                  Mailed check             :1612   Mean   : 64.76  \n",
       "                                                   3rd Qu.: 89.85  \n",
       "                                                   Max.   :118.75  \n",
       "                                                                   \n",
       "  TotalCharges    Churn     \n",
       " Min.   :  18.8   No :5174  \n",
       " 1st Qu.: 401.4   Yes:1869  \n",
       " Median :1397.5             \n",
       " Mean   :2283.3             \n",
       " 3rd Qu.:3794.7             \n",
       " Max.   :8684.8             \n",
       " NA's   :11                 "
      ]
     },
     "metadata": {},
     "output_type": "display_data"
    },
    {
     "data": {
      "text/plain": [
       "\n",
       "       No       Yes \n",
       "0.7346301 0.2653699 "
      ]
     },
     "metadata": {},
     "output_type": "display_data"
    }
   ],
   "source": [
    "data.set.orig = read.csv(file=\"Datasets/Teleco_Cust_Attr.csv\",header = T)\n",
    "str(data.set.orig)\n",
    "summary(data.set.orig)\n",
    "prop.table(table(data.set.orig$Churn))"
   ]
  },
  {
   "cell_type": "markdown",
   "metadata": {},
   "source": [
    "## Data preprocessing"
   ]
  },
  {
   "cell_type": "code",
   "execution_count": 23,
   "metadata": {
    "scrolled": false
   },
   "outputs": [
    {
     "data": {
      "text/html": [
       "<dl class=dl-horizontal>\n",
       "\t<dt>gender</dt>\n",
       "\t\t<dd>0</dd>\n",
       "\t<dt>SeniorCitizen</dt>\n",
       "\t\t<dd>0</dd>\n",
       "\t<dt>Partner</dt>\n",
       "\t\t<dd>0</dd>\n",
       "\t<dt>Dependents</dt>\n",
       "\t\t<dd>0</dd>\n",
       "\t<dt>tenure</dt>\n",
       "\t\t<dd>0</dd>\n",
       "\t<dt>PhoneService</dt>\n",
       "\t\t<dd>0</dd>\n",
       "\t<dt>MultipleLines</dt>\n",
       "\t\t<dd>0</dd>\n",
       "\t<dt>InternetService</dt>\n",
       "\t\t<dd>0</dd>\n",
       "\t<dt>OnlineSecurity</dt>\n",
       "\t\t<dd>0</dd>\n",
       "\t<dt>OnlineBackup</dt>\n",
       "\t\t<dd>0</dd>\n",
       "\t<dt>DeviceProtection</dt>\n",
       "\t\t<dd>0</dd>\n",
       "\t<dt>TechSupport</dt>\n",
       "\t\t<dd>0</dd>\n",
       "\t<dt>StreamingTV</dt>\n",
       "\t\t<dd>0</dd>\n",
       "\t<dt>StreamingMovies</dt>\n",
       "\t\t<dd>0</dd>\n",
       "\t<dt>Contract</dt>\n",
       "\t\t<dd>0</dd>\n",
       "\t<dt>PaperlessBilling</dt>\n",
       "\t\t<dd>0</dd>\n",
       "\t<dt>PaymentMethod</dt>\n",
       "\t\t<dd>0</dd>\n",
       "\t<dt>MonthlyCharges</dt>\n",
       "\t\t<dd>0</dd>\n",
       "\t<dt>TotalCharges</dt>\n",
       "\t\t<dd>11</dd>\n",
       "\t<dt>Churn</dt>\n",
       "\t\t<dd>0</dd>\n",
       "</dl>\n"
      ],
      "text/latex": [
       "\\begin{description*}\n",
       "\\item[gender] 0\n",
       "\\item[SeniorCitizen] 0\n",
       "\\item[Partner] 0\n",
       "\\item[Dependents] 0\n",
       "\\item[tenure] 0\n",
       "\\item[PhoneService] 0\n",
       "\\item[MultipleLines] 0\n",
       "\\item[InternetService] 0\n",
       "\\item[OnlineSecurity] 0\n",
       "\\item[OnlineBackup] 0\n",
       "\\item[DeviceProtection] 0\n",
       "\\item[TechSupport] 0\n",
       "\\item[StreamingTV] 0\n",
       "\\item[StreamingMovies] 0\n",
       "\\item[Contract] 0\n",
       "\\item[PaperlessBilling] 0\n",
       "\\item[PaymentMethod] 0\n",
       "\\item[MonthlyCharges] 0\n",
       "\\item[TotalCharges] 11\n",
       "\\item[Churn] 0\n",
       "\\end{description*}\n"
      ],
      "text/markdown": [
       "gender\n",
       ":   0SeniorCitizen\n",
       ":   0Partner\n",
       ":   0Dependents\n",
       ":   0tenure\n",
       ":   0PhoneService\n",
       ":   0MultipleLines\n",
       ":   0InternetService\n",
       ":   0OnlineSecurity\n",
       ":   0OnlineBackup\n",
       ":   0DeviceProtection\n",
       ":   0TechSupport\n",
       ":   0StreamingTV\n",
       ":   0StreamingMovies\n",
       ":   0Contract\n",
       ":   0PaperlessBilling\n",
       ":   0PaymentMethod\n",
       ":   0MonthlyCharges\n",
       ":   0TotalCharges\n",
       ":   11Churn\n",
       ":   0\n",
       "\n"
      ],
      "text/plain": [
       "          gender    SeniorCitizen          Partner       Dependents \n",
       "               0                0                0                0 \n",
       "          tenure     PhoneService    MultipleLines  InternetService \n",
       "               0                0                0                0 \n",
       "  OnlineSecurity     OnlineBackup DeviceProtection      TechSupport \n",
       "               0                0                0                0 \n",
       "     StreamingTV  StreamingMovies         Contract PaperlessBilling \n",
       "               0                0                0                0 \n",
       "   PaymentMethod   MonthlyCharges     TotalCharges            Churn \n",
       "               0                0               11                0 "
      ]
     },
     "metadata": {},
     "output_type": "display_data"
    }
   ],
   "source": [
    "data.set.orig$customerID = NULL\n",
    "sapply(data.set.orig,function(x){sum(is.na(x))})"
   ]
  },
  {
   "cell_type": "markdown",
   "metadata": {},
   "source": [
    "### Handling nulls"
   ]
  },
  {
   "cell_type": "code",
   "execution_count": 24,
   "metadata": {},
   "outputs": [],
   "source": [
    "data.set.orig$TotalCharges = ifelse(is.na(data.set.orig$TotalCharges),data.set.orig$MonthlyCharges*data.set.orig$tenure,data.set.orig$TotalCharges)"
   ]
  },
  {
   "cell_type": "code",
   "execution_count": 26,
   "metadata": {
    "scrolled": false
   },
   "outputs": [
    {
     "data": {
      "text/html": [
       "<ol class=list-inline>\n",
       "\t<li>0</li>\n",
       "\t<li>1</li>\n",
       "</ol>\n"
      ],
      "text/latex": [
       "\\begin{enumerate*}\n",
       "\\item 0\n",
       "\\item 1\n",
       "\\end{enumerate*}\n"
      ],
      "text/markdown": [
       "1. 0\n",
       "2. 1\n",
       "\n",
       "\n"
      ],
      "text/plain": [
       "[1] 0 1"
      ]
     },
     "metadata": {},
     "output_type": "display_data"
    }
   ],
   "source": [
    "unique(data.set.orig$SeniorCitizen)\n",
    "data.set.orig$SeniorCitizen = as.factor(data.set.orig$SeniorCitizen)"
   ]
  },
  {
   "cell_type": "markdown",
   "metadata": {},
   "source": [
    "## Merging categories"
   ]
  },
  {
   "cell_type": "code",
   "execution_count": 7,
   "metadata": {},
   "outputs": [],
   "source": [
    "# data.set$OnlineSecurity==\"No internet service\"\n",
    "# data.set[data.set$OnlineSecurity==\"No internet service\",]"
   ]
  },
  {
   "cell_type": "code",
   "execution_count": 8,
   "metadata": {},
   "outputs": [],
   "source": [
    "# data.set$InternetService = as.character(data.set$InternetService)\n",
    "# data.set[data.set$InternetService!=\"No\",c(\"InternetService\")]=\"Yes\"\n",
    "# data.set$InternetService = as.factor(data.set$InternetService)\n",
    "\n",
    "# data.set$MultipleLines = as.character(data.set$MultipleLines)\n",
    "# data.set[data.set$MultipleLines==\"No phone service\",c(\"MultipleLines\")]=\"No\"\n",
    "# data.set$MultipleLines = as.factor(data.set$MultipleLines)\n",
    "\n",
    "# data.set$OnlineSecurity = as.character(data.set$OnlineSecurity)\n",
    "# data.set[data.set$OnlineSecurity==\"No internet service\",c(\"OnlineSecurity\")]=\"No\"\n",
    "# data.set$OnlineSecurity = as.factor(data.set$OnlineSecurity)\n",
    "\n",
    "# data.set$OnlineBackup = as.character(data.set$OnlineBackup)\n",
    "# data.set[data.set$OnlineBackup==\"No internet service\",c(\"OnlineBackup\")]=\"No\"\n",
    "# data.set$OnlineBackup = as.factor(data.set$OnlineBackup)\n",
    "\n",
    "\n",
    "# data.set$DeviceProtection = as.character(data.set$DeviceProtection)\n",
    "# data.set[data.set$DeviceProtection==\"No internet service\",c(\"DeviceProtection\")]=\"No\"\n",
    "# data.set$DeviceProtection = as.factor(data.set$DeviceProtection)\n",
    "\n",
    "# data.set$TechSupport = as.character(data.set$TechSupport)\n",
    "# data.set[data.set$TechSupport==\"No internet service\",c(\"TechSupport\")]=\"No\"\n",
    "# data.set$TechSupport = as.factor(data.set$TechSupport)\n",
    "\n",
    "# data.set$StreamingTV = as.character(data.set$StreamingTV)\n",
    "# data.set[data.set$StreamingTV==\"No internet service\",c(\"StreamingTV\")]=\"No\"\n",
    "# data.set$StreamingTV = as.factor(data.set$StreamingTV)\n",
    "\n",
    "\n",
    "# data.set$StreamingMovies = as.character(data.set$StreamingMovies)\n",
    "# data.set[data.set$StreamingMovies==\"No internet service\",c(\"StreamingMovies\")]=\"No\"\n",
    "# data.set$StreamingMovies = as.factor(data.set$StreamingMovies)\n"
   ]
  },
  {
   "cell_type": "code",
   "execution_count": 27,
   "metadata": {},
   "outputs": [
    {
     "name": "stdout",
     "output_type": "stream",
     "text": [
      "'data.frame':\t7043 obs. of  20 variables:\n",
      " $ gender          : Factor w/ 2 levels \"Female\",\"Male\": 1 2 2 2 1 1 2 1 1 2 ...\n",
      " $ SeniorCitizen   : Factor w/ 2 levels \"0\",\"1\": 1 1 1 1 1 1 1 1 1 1 ...\n",
      " $ Partner         : Factor w/ 2 levels \"No\",\"Yes\": 2 1 1 1 1 1 1 1 2 1 ...\n",
      " $ Dependents      : Factor w/ 2 levels \"No\",\"Yes\": 1 1 1 1 1 1 2 1 1 2 ...\n",
      " $ tenure          : int  1 34 2 45 2 8 22 10 28 62 ...\n",
      " $ PhoneService    : Factor w/ 2 levels \"No\",\"Yes\": 1 2 2 1 2 2 2 1 2 2 ...\n",
      " $ MultipleLines   : Factor w/ 3 levels \"No\",\"No phone service\",..: 2 1 1 2 1 3 3 2 3 1 ...\n",
      " $ InternetService : Factor w/ 3 levels \"DSL\",\"Fiber optic\",..: 1 1 1 1 2 2 2 1 2 1 ...\n",
      " $ OnlineSecurity  : Factor w/ 3 levels \"No\",\"No internet service\",..: 1 3 3 3 1 1 1 3 1 3 ...\n",
      " $ OnlineBackup    : Factor w/ 3 levels \"No\",\"No internet service\",..: 3 1 3 1 1 1 3 1 1 3 ...\n",
      " $ DeviceProtection: Factor w/ 3 levels \"No\",\"No internet service\",..: 1 3 1 3 1 3 1 1 3 1 ...\n",
      " $ TechSupport     : Factor w/ 3 levels \"No\",\"No internet service\",..: 1 1 1 3 1 1 1 1 3 1 ...\n",
      " $ StreamingTV     : Factor w/ 3 levels \"No\",\"No internet service\",..: 1 1 1 1 1 3 3 1 3 1 ...\n",
      " $ StreamingMovies : Factor w/ 3 levels \"No\",\"No internet service\",..: 1 1 1 1 1 3 1 1 3 1 ...\n",
      " $ Contract        : Factor w/ 3 levels \"Month-to-month\",..: 1 2 1 2 1 1 1 1 1 2 ...\n",
      " $ PaperlessBilling: Factor w/ 2 levels \"No\",\"Yes\": 2 1 2 1 2 2 2 1 2 1 ...\n",
      " $ PaymentMethod   : Factor w/ 4 levels \"Bank transfer (automatic)\",..: 3 4 4 1 3 3 2 4 3 1 ...\n",
      " $ MonthlyCharges  : num  29.9 57 53.9 42.3 70.7 ...\n",
      " $ TotalCharges    : num  29.9 1889.5 108.2 1840.8 151.7 ...\n",
      " $ Churn           : Factor w/ 2 levels \"No\",\"Yes\": 1 1 2 1 2 2 1 1 2 1 ...\n"
     ]
    },
    {
     "data": {
      "text/plain": [
       "                \n",
       "                   No  Yes\n",
       "  Month-to-month 2220 1655\n",
       "  One year       1307  166\n",
       "  Two year       1647   48"
      ]
     },
     "metadata": {},
     "output_type": "display_data"
    },
    {
     "data": {
      "text/html": [
       "3875"
      ],
      "text/latex": [
       "3875"
      ],
      "text/markdown": [
       "3875"
      ],
      "text/plain": [
       "[1] 3875"
      ]
     },
     "metadata": {},
     "output_type": "display_data"
    },
    {
     "name": "stdout",
     "output_type": "stream",
     "text": [
      "'data.frame':\t3875 obs. of  20 variables:\n",
      " $ gender          : Factor w/ 2 levels \"Female\",\"Male\": 1 2 1 1 2 1 1 2 2 2 ...\n",
      " $ SeniorCitizen   : Factor w/ 2 levels \"0\",\"1\": 1 1 1 1 1 1 1 1 1 1 ...\n",
      " $ Partner         : Factor w/ 2 levels \"No\",\"Yes\": 2 1 1 1 1 1 2 2 1 1 ...\n",
      " $ Dependents      : Factor w/ 2 levels \"No\",\"Yes\": 1 1 1 1 2 1 1 2 1 1 ...\n",
      " $ tenure          : int  1 2 2 8 22 10 28 13 49 25 ...\n",
      " $ PhoneService    : Factor w/ 2 levels \"No\",\"Yes\": 1 2 2 2 2 1 2 2 2 2 ...\n",
      " $ MultipleLines   : Factor w/ 3 levels \"No\",\"No phone service\",..: 2 1 1 3 3 2 3 1 3 1 ...\n",
      " $ InternetService : Factor w/ 3 levels \"DSL\",\"Fiber optic\",..: 1 1 2 2 2 1 2 1 2 2 ...\n",
      " $ OnlineSecurity  : Factor w/ 3 levels \"No\",\"No internet service\",..: 1 3 1 1 1 3 1 3 1 3 ...\n",
      " $ OnlineBackup    : Factor w/ 3 levels \"No\",\"No internet service\",..: 3 3 1 1 3 1 1 1 3 1 ...\n",
      " $ DeviceProtection: Factor w/ 3 levels \"No\",\"No internet service\",..: 1 1 1 3 1 1 3 1 3 3 ...\n",
      " $ TechSupport     : Factor w/ 3 levels \"No\",\"No internet service\",..: 1 1 1 1 1 1 3 1 1 3 ...\n",
      " $ StreamingTV     : Factor w/ 3 levels \"No\",\"No internet service\",..: 1 1 1 3 3 1 3 1 3 3 ...\n",
      " $ StreamingMovies : Factor w/ 3 levels \"No\",\"No internet service\",..: 1 1 1 3 1 1 3 1 3 3 ...\n",
      " $ Contract        : Factor w/ 1 level \"Month-to-month\": 1 1 1 1 1 1 1 1 1 1 ...\n",
      " $ PaperlessBilling: Factor w/ 2 levels \"No\",\"Yes\": 2 2 2 2 2 1 2 2 2 2 ...\n",
      " $ PaymentMethod   : Factor w/ 4 levels \"Bank transfer (automatic)\",..: 3 4 3 3 2 4 3 4 1 3 ...\n",
      " $ MonthlyCharges  : num  29.9 53.9 70.7 99.7 89.1 ...\n",
      " $ TotalCharges    : num  29.9 108.2 151.7 820.5 1949.4 ...\n",
      " $ Churn           : Factor w/ 2 levels \"No\",\"Yes\": 1 2 2 2 1 1 2 1 2 1 ...\n"
     ]
    },
    {
     "data": {
      "text/plain": [
       "                \n",
       "                   No  Yes\n",
       "  Month-to-month 2220 1655"
      ]
     },
     "metadata": {},
     "output_type": "display_data"
    }
   ],
   "source": [
    "str(data.set.orig)\n",
    "table(data.set.orig$Contract,data.set.orig$Churn)\n",
    "\n",
    "\n",
    "data.set.orig$Contract = as.character(data.set.orig$Contract)\n",
    "data.set = data.set.orig[data.set.orig$Contract==\"Month-to-month\",]\n",
    "data.set.orig$Contract = as.factor(data.set.orig$Contract)\n",
    "data.set$Contract = as.factor(data.set$Contract)\n",
    "nrow(data.set)\n",
    "str(data.set)\n",
    "table(data.set$Contract,data.set$Churn)"
   ]
  },
  {
   "cell_type": "markdown",
   "metadata": {},
   "source": [
    "## Test Train Split for Month-to-month"
   ]
  },
  {
   "cell_type": "code",
   "execution_count": 28,
   "metadata": {},
   "outputs": [
    {
     "data": {
      "text/html": [
       "3875"
      ],
      "text/latex": [
       "3875"
      ],
      "text/markdown": [
       "3875"
      ],
      "text/plain": [
       "[1] 3875"
      ]
     },
     "metadata": {},
     "output_type": "display_data"
    },
    {
     "data": {
      "text/html": [
       "2712"
      ],
      "text/latex": [
       "2712"
      ],
      "text/markdown": [
       "2712"
      ],
      "text/plain": [
       "[1] 2712"
      ]
     },
     "metadata": {},
     "output_type": "display_data"
    },
    {
     "data": {
      "text/html": [
       "1163"
      ],
      "text/latex": [
       "1163"
      ],
      "text/markdown": [
       "1163"
      ],
      "text/plain": [
       "[1] 1163"
      ]
     },
     "metadata": {},
     "output_type": "display_data"
    }
   ],
   "source": [
    "set.seed(987)\n",
    "sample = sample(1:nrow(data.set),size=.7*nrow(data.set))\n",
    "train.data.set = data.set[sample,]\n",
    "test.data.set = data.set[-sample,]\n",
    "nrow(data.set)\n",
    "nrow(train.data.set)\n",
    "nrow(test.data.set)"
   ]
  },
  {
   "cell_type": "markdown",
   "metadata": {},
   "source": [
    "## Decision Tree"
   ]
  },
  {
   "cell_type": "code",
   "execution_count": 29,
   "metadata": {
    "scrolled": false
   },
   "outputs": [
    {
     "name": "stdout",
     "output_type": "stream",
     "text": [
      "Call:\n",
      "rpart(formula = Churn ~ ., data = train.data.set, method = \"class\")\n",
      "  n= 2712 \n",
      "\n",
      "          CP nsplit rel error    xerror       xstd\n",
      "1 0.12253642      0 1.0000000 1.0000000 0.02209449\n",
      "2 0.11053985      1 0.8774636 0.9391602 0.02189829\n",
      "3 0.01285347      2 0.7669237 0.7832048 0.02109367\n",
      "4 0.01156812      4 0.7412168 0.7969152 0.02118262\n",
      "5 0.01028278      7 0.7043702 0.7866324 0.02111625\n",
      "6 0.01000000      8 0.6940874 0.7746358 0.02103622\n",
      "\n",
      "Variable importance\n",
      "  MonthlyCharges  InternetService           tenure     TotalCharges \n",
      "              17               16               16               14 \n",
      "    OnlineBackup    MultipleLines   OnlineSecurity      TechSupport \n",
      "               8                7                7                7 \n",
      "   PaymentMethod          Partner DeviceProtection      StreamingTV \n",
      "               2                2                2                2 \n",
      "\n",
      "Node number 1: 2712 observations,    complexity param=0.1225364\n",
      "  predicted class=No   expected loss=0.4303097  P(node) =1\n",
      "    class counts:  1545  1167\n",
      "   probabilities: 0.570 0.430 \n",
      "  left son=2 (1217 obs) right son=3 (1495 obs)\n",
      "  Primary splits:\n",
      "      InternetService splits as  LRL,          improve=92.01675, (0 missing)\n",
      "      OnlineSecurity  splits as  RLL,          improve=79.21583, (0 missing)\n",
      "      TechSupport     splits as  RLL,          improve=72.45216, (0 missing)\n",
      "      MonthlyCharges  < 68.625   to the left,  improve=71.03731, (0 missing)\n",
      "      PaymentMethod   splits as  LLRL,         improve=70.82384, (0 missing)\n",
      "  Surrogate splits:\n",
      "      MonthlyCharges < 68.425   to the left,  agree=0.971, adj=0.936, (0 split)\n",
      "      MultipleLines  splits as  LLR,          agree=0.699, adj=0.329, (0 split)\n",
      "      TechSupport    splits as  RLL,          agree=0.690, adj=0.309, (0 split)\n",
      "      OnlineSecurity splits as  RLR,          agree=0.689, adj=0.306, (0 split)\n",
      "      OnlineBackup   splits as  RLR,          agree=0.689, adj=0.306, (0 split)\n",
      "\n",
      "Node number 2: 1217 observations,    complexity param=0.01285347\n",
      "  predicted class=No   expected loss=0.2859491  P(node) =0.4487463\n",
      "    class counts:   869   348\n",
      "   probabilities: 0.714 0.286 \n",
      "  left son=4 (713 obs) right son=5 (504 obs)\n",
      "  Primary splits:\n",
      "      tenure         < 5.5      to the right, improve=36.97209, (0 missing)\n",
      "      TotalCharges   < 139.55   to the right, improve=26.79992, (0 missing)\n",
      "      OnlineSecurity splits as  RLL,          improve=15.69395, (0 missing)\n",
      "      TechSupport    splits as  RLL,          improve=14.69792, (0 missing)\n",
      "      OnlineBackup   splits as  RLL,          improve=14.61977, (0 missing)\n",
      "  Surrogate splits:\n",
      "      TotalCharges    < 155.775  to the right, agree=0.919, adj=0.804, (0 split)\n",
      "      PaymentMethod   splits as  LLLR,         agree=0.632, adj=0.111, (0 split)\n",
      "      MonthlyCharges  < 24.65    to the right, agree=0.615, adj=0.071, (0 split)\n",
      "      InternetService splits as  L-R,          agree=0.600, adj=0.034, (0 split)\n",
      "      OnlineSecurity  splits as  LRL,          agree=0.600, adj=0.034, (0 split)\n",
      "\n",
      "Node number 3: 1495 observations,    complexity param=0.1105398\n",
      "  predicted class=Yes  expected loss=0.4521739  P(node) =0.5512537\n",
      "    class counts:   676   819\n",
      "   probabilities: 0.452 0.548 \n",
      "  left son=6 (771 obs) right son=7 (724 obs)\n",
      "  Primary splits:\n",
      "      tenure         < 15.5     to the right, improve=55.04662, (0 missing)\n",
      "      TotalCharges   < 1557.175 to the right, improve=50.73912, (0 missing)\n",
      "      PaymentMethod  splits as  LLRL,         improve=21.17047, (0 missing)\n",
      "      OnlineSecurity splits as  R-L,          improve=19.33479, (0 missing)\n",
      "      TechSupport    splits as  R-L,          improve=14.06877, (0 missing)\n",
      "  Surrogate splits:\n",
      "      TotalCharges   < 1345.6   to the right, agree=0.973, adj=0.943, (0 split)\n",
      "      MonthlyCharges < 83.225   to the right, agree=0.678, adj=0.334, (0 split)\n",
      "      MultipleLines  splits as  R-L,          agree=0.641, adj=0.260, (0 split)\n",
      "      Partner        splits as  RL,           agree=0.624, adj=0.224, (0 split)\n",
      "      OnlineBackup   splits as  R-L,          agree=0.618, adj=0.211, (0 split)\n",
      "\n",
      "Node number 4: 713 observations\n",
      "  predicted class=No   expected loss=0.1823282  P(node) =0.2629056\n",
      "    class counts:   583   130\n",
      "   probabilities: 0.818 0.182 \n",
      "\n",
      "Node number 5: 504 observations,    complexity param=0.01285347\n",
      "  predicted class=No   expected loss=0.4325397  P(node) =0.1858407\n",
      "    class counts:   286   218\n",
      "   probabilities: 0.567 0.433 \n",
      "  left son=10 (254 obs) right son=11 (250 obs)\n",
      "  Primary splits:\n",
      "      TechSupport      splits as  RLL, improve=16.11821, (0 missing)\n",
      "      OnlineSecurity   splits as  RLL, improve=14.68213, (0 missing)\n",
      "      InternetService  splits as  R-L, improve=13.44088, (0 missing)\n",
      "      OnlineBackup     splits as  RLR, improve=13.44088, (0 missing)\n",
      "      DeviceProtection splits as  RLR, improve=13.44088, (0 missing)\n",
      "  Surrogate splits:\n",
      "      InternetService  splits as  R-L, agree=0.883, adj=0.764, (0 split)\n",
      "      OnlineSecurity   splits as  RLR, agree=0.883, adj=0.764, (0 split)\n",
      "      OnlineBackup     splits as  RLR, agree=0.883, adj=0.764, (0 split)\n",
      "      DeviceProtection splits as  RLR, agree=0.883, adj=0.764, (0 split)\n",
      "      StreamingTV      splits as  RLR, agree=0.883, adj=0.764, (0 split)\n",
      "\n",
      "Node number 6: 771 observations,    complexity param=0.01156812\n",
      "  predicted class=No   expected loss=0.4163424  P(node) =0.284292\n",
      "    class counts:   450   321\n",
      "   probabilities: 0.584 0.416 \n",
      "  left son=12 (158 obs) right son=13 (613 obs)\n",
      "  Primary splits:\n",
      "      tenure         < 51.5     to the right, improve=13.189000, (0 missing)\n",
      "      PaymentMethod  splits as  LLRL,         improve=12.749580, (0 missing)\n",
      "      TotalCharges   < 3642.75  to the right, improve= 9.116324, (0 missing)\n",
      "      TechSupport    splits as  R-L,          improve= 6.772992, (0 missing)\n",
      "      OnlineSecurity splits as  R-L,          improve= 5.624718, (0 missing)\n",
      "  Surrogate splits:\n",
      "      TotalCharges   < 4892.775 to the right, agree=0.935, adj=0.684, (0 split)\n",
      "      MonthlyCharges < 107.625  to the right, agree=0.796, adj=0.006, (0 split)\n",
      "\n",
      "Node number 7: 724 observations\n",
      "  predicted class=Yes  expected loss=0.3121547  P(node) =0.2669617\n",
      "    class counts:   226   498\n",
      "   probabilities: 0.312 0.688 \n",
      "\n",
      "Node number 10: 254 observations\n",
      "  predicted class=No   expected loss=0.3070866  P(node) =0.09365782\n",
      "    class counts:   176    78\n",
      "   probabilities: 0.693 0.307 \n",
      "\n",
      "Node number 11: 250 observations,    complexity param=0.01028278\n",
      "  predicted class=Yes  expected loss=0.44  P(node) =0.09218289\n",
      "    class counts:   110   140\n",
      "   probabilities: 0.440 0.560 \n",
      "  left son=22 (38 obs) right son=23 (212 obs)\n",
      "  Primary splits:\n",
      "      OnlineSecurity  splits as  R-L,          improve=4.255114, (0 missing)\n",
      "      MonthlyCharges  < 50.925   to the right, improve=3.608007, (0 missing)\n",
      "      TotalCharges    < 99.85    to the right, improve=2.680996, (0 missing)\n",
      "      StreamingMovies splits as  L-R,          improve=2.305602, (0 missing)\n",
      "      PhoneService    splits as  RL,           improve=2.062224, (0 missing)\n",
      "\n",
      "Node number 12: 158 observations\n",
      "  predicted class=No   expected loss=0.2341772  P(node) =0.05825959\n",
      "    class counts:   121    37\n",
      "   probabilities: 0.766 0.234 \n",
      "\n",
      "Node number 13: 613 observations,    complexity param=0.01156812\n",
      "  predicted class=No   expected loss=0.4632953  P(node) =0.2260324\n",
      "    class counts:   329   284\n",
      "   probabilities: 0.537 0.463 \n",
      "  left son=26 (270 obs) right son=27 (343 obs)\n",
      "  Primary splits:\n",
      "      PaymentMethod    splits as  LLRL,         improve=9.010969, (0 missing)\n",
      "      MonthlyCharges   < 95.525   to the left,  improve=5.462456, (0 missing)\n",
      "      TechSupport      splits as  R-L,          improve=4.669996, (0 missing)\n",
      "      PaperlessBilling splits as  LR,           improve=4.220970, (0 missing)\n",
      "      StreamingTV      splits as  L-R,          improve=3.957385, (0 missing)\n",
      "  Surrogate splits:\n",
      "      MonthlyCharges  < 76.025   to the left,  agree=0.586, adj=0.059, (0 split)\n",
      "      StreamingMovies splits as  L-R,          agree=0.571, adj=0.026, (0 split)\n",
      "      TotalCharges    < 1216.15  to the left,  agree=0.568, adj=0.019, (0 split)\n",
      "      OnlineSecurity  splits as  R-L,          agree=0.564, adj=0.011, (0 split)\n",
      "      tenure          < 47.5     to the right, agree=0.561, adj=0.004, (0 split)\n",
      "\n",
      "Node number 22: 38 observations\n",
      "  predicted class=No   expected loss=0.3421053  P(node) =0.0140118\n",
      "    class counts:    25    13\n",
      "   probabilities: 0.658 0.342 \n",
      "\n",
      "Node number 23: 212 observations\n",
      "  predicted class=Yes  expected loss=0.4009434  P(node) =0.07817109\n",
      "    class counts:    85   127\n",
      "   probabilities: 0.401 0.599 \n",
      "\n",
      "Node number 26: 270 observations\n",
      "  predicted class=No   expected loss=0.3666667  P(node) =0.09955752\n",
      "    class counts:   171    99\n",
      "   probabilities: 0.633 0.367 \n",
      "\n",
      "Node number 27: 343 observations,    complexity param=0.01156812\n",
      "  predicted class=Yes  expected loss=0.4606414  P(node) =0.1264749\n",
      "    class counts:   158   185\n",
      "   probabilities: 0.461 0.539 \n",
      "  left son=54 (104 obs) right son=55 (239 obs)\n",
      "  Primary splits:\n",
      "      MultipleLines    splits as  L-R,          improve=4.036288, (0 missing)\n",
      "      PaperlessBilling splits as  LR,           improve=3.873032, (0 missing)\n",
      "      MonthlyCharges   < 95.575   to the left,  improve=2.637541, (0 missing)\n",
      "      TotalCharges     < 3188.45  to the right, improve=2.611846, (0 missing)\n",
      "      OnlineSecurity   splits as  R-L,          improve=2.171973, (0 missing)\n",
      "  Surrogate splits:\n",
      "      MonthlyCharges < 78.825   to the left,  agree=0.738, adj=0.135, (0 split)\n",
      "      TotalCharges   < 1494.55  to the left,  agree=0.717, adj=0.067, (0 split)\n",
      "\n",
      "Node number 54: 104 observations\n",
      "  predicted class=No   expected loss=0.4230769  P(node) =0.03834808\n",
      "    class counts:    60    44\n",
      "   probabilities: 0.577 0.423 \n",
      "\n",
      "Node number 55: 239 observations\n",
      "  predicted class=Yes  expected loss=0.4100418  P(node) =0.08812684\n",
      "    class counts:    98   141\n",
      "   probabilities: 0.410 0.590 \n",
      "\n"
     ]
    },
    {
     "data": {
      "text/html": [
       "<dl class=dl-horizontal>\n",
       "\t<dt>MonthlyCharges</dt>\n",
       "\t\t<dd>108.320441118415</dd>\n",
       "\t<dt>InternetService</dt>\n",
       "\t\t<dd>105.578139434845</dd>\n",
       "\t<dt>tenure</dt>\n",
       "\t\t<dd>105.241081852512</dd>\n",
       "\t<dt>TotalCharges</dt>\n",
       "\t\t<dd>91.0928617430337</dd>\n",
       "\t<dt>OnlineBackup</dt>\n",
       "\t\t<dd>52.1494337282361</dd>\n",
       "\t<dt>MultipleLines</dt>\n",
       "\t\t<dd>48.5739588243815</dd>\n",
       "\t<dt>OnlineSecurity</dt>\n",
       "\t\t<dd>46.1189638292004</dd>\n",
       "\t<dt>TechSupport</dt>\n",
       "\t\t<dd>44.5473794115923</dd>\n",
       "\t<dt>PaymentMethod</dt>\n",
       "\t\t<dd>13.1189792020152</dd>\n",
       "\t<dt>Partner</dt>\n",
       "\t\t<dd>12.317061607417</dd>\n",
       "\t<dt>DeviceProtection</dt>\n",
       "\t\t<dd>12.3143126109236</dd>\n",
       "\t<dt>StreamingTV</dt>\n",
       "\t\t<dd>12.3143126109236</dd>\n",
       "\t<dt>StreamingMovies</dt>\n",
       "\t\t<dd>0.233617723326415</dd>\n",
       "</dl>\n"
      ],
      "text/latex": [
       "\\begin{description*}\n",
       "\\item[MonthlyCharges] 108.320441118415\n",
       "\\item[InternetService] 105.578139434845\n",
       "\\item[tenure] 105.241081852512\n",
       "\\item[TotalCharges] 91.0928617430337\n",
       "\\item[OnlineBackup] 52.1494337282361\n",
       "\\item[MultipleLines] 48.5739588243815\n",
       "\\item[OnlineSecurity] 46.1189638292004\n",
       "\\item[TechSupport] 44.5473794115923\n",
       "\\item[PaymentMethod] 13.1189792020152\n",
       "\\item[Partner] 12.317061607417\n",
       "\\item[DeviceProtection] 12.3143126109236\n",
       "\\item[StreamingTV] 12.3143126109236\n",
       "\\item[StreamingMovies] 0.233617723326415\n",
       "\\end{description*}\n"
      ],
      "text/markdown": [
       "MonthlyCharges\n",
       ":   108.320441118415InternetService\n",
       ":   105.578139434845tenure\n",
       ":   105.241081852512TotalCharges\n",
       ":   91.0928617430337OnlineBackup\n",
       ":   52.1494337282361MultipleLines\n",
       ":   48.5739588243815OnlineSecurity\n",
       ":   46.1189638292004TechSupport\n",
       ":   44.5473794115923PaymentMethod\n",
       ":   13.1189792020152Partner\n",
       ":   12.317061607417DeviceProtection\n",
       ":   12.3143126109236StreamingTV\n",
       ":   12.3143126109236StreamingMovies\n",
       ":   0.233617723326415\n",
       "\n"
      ],
      "text/plain": [
       "  MonthlyCharges  InternetService           tenure     TotalCharges \n",
       "     108.3204411      105.5781394      105.2410819       91.0928617 \n",
       "    OnlineBackup    MultipleLines   OnlineSecurity      TechSupport \n",
       "      52.1494337       48.5739588       46.1189638       44.5473794 \n",
       "   PaymentMethod          Partner DeviceProtection      StreamingTV \n",
       "      13.1189792       12.3170616       12.3143126       12.3143126 \n",
       " StreamingMovies \n",
       "       0.2336177 "
      ]
     },
     "metadata": {},
     "output_type": "display_data"
    }
   ],
   "source": [
    "dec.tree.1 = rpart( Churn ~ . , data=train.data.set,  method = \"class\")\n",
    "summary(dec.tree.1)\n",
    "dec.tree.1$variable.importance"
   ]
  },
  {
   "cell_type": "code",
   "execution_count": 30,
   "metadata": {},
   "outputs": [
    {
     "data": {
      "image/png": "[encoded data removed]",
      "text/plain": [
       "plot without title"
      ]
     },
     "metadata": {},
     "output_type": "display_data"
    }
   ],
   "source": [
    "rpart.plot(dec.tree.1)\n",
    "# ?rpart"
   ]
  },
  {
   "cell_type": "code",
   "execution_count": 31,
   "metadata": {},
   "outputs": [
    {
     "data": {
      "text/html": [
       "<table>\n",
       "<thead><tr><th scope=col>Churn</th><th scope=col>Churn.pred</th></tr></thead>\n",
       "<tbody>\n",
       "\t<tr><td>No </td><td>No </td></tr>\n",
       "\t<tr><td>No </td><td>No </td></tr>\n",
       "\t<tr><td>Yes</td><td>Yes</td></tr>\n",
       "\t<tr><td>No </td><td>No </td></tr>\n",
       "\t<tr><td>No </td><td>Yes</td></tr>\n",
       "\t<tr><td>No </td><td>No </td></tr>\n",
       "</tbody>\n",
       "</table>\n"
      ],
      "text/latex": [
       "\\begin{tabular}{r|ll}\n",
       " Churn & Churn.pred\\\\\n",
       "\\hline\n",
       "\t No  & No \\\\\n",
       "\t No  & No \\\\\n",
       "\t Yes & Yes\\\\\n",
       "\t No  & No \\\\\n",
       "\t No  & Yes\\\\\n",
       "\t No  & No \\\\\n",
       "\\end{tabular}\n"
      ],
      "text/markdown": [
       "\n",
       "Churn | Churn.pred | \n",
       "|---|---|---|---|---|---|\n",
       "| No  | No  | \n",
       "| No  | No  | \n",
       "| Yes | Yes | \n",
       "| No  | No  | \n",
       "| No  | Yes | \n",
       "| No  | No  | \n",
       "\n",
       "\n"
      ],
      "text/plain": [
       "  Churn Churn.pred\n",
       "1 No    No        \n",
       "2 No    No        \n",
       "3 Yes   Yes       \n",
       "4 No    No        \n",
       "5 No    Yes       \n",
       "6 No    No        "
      ]
     },
     "metadata": {},
     "output_type": "display_data"
    },
    {
     "data": {
      "text/plain": [
       "\n",
       "  No  Yes \n",
       "1545 1167 "
      ]
     },
     "metadata": {},
     "output_type": "display_data"
    }
   ],
   "source": [
    "## Predictions\n",
    "pred.train.data.set = as.data.frame(train.data.set$Churn)\n",
    "colnames(pred.train.data.set)[1] = \"Churn\"\n",
    "pred.train.data.set$Churn.pred = predict(dec.tree.1,newdata = train.data.set,type=\"class\")\n",
    "head(pred.train.data.set)\n",
    "table(pred.train.data.set$Churn)"
   ]
  },
  {
   "cell_type": "code",
   "execution_count": 32,
   "metadata": {},
   "outputs": [
    {
     "data": {
      "text/plain": [
       "     \n",
       "        No  Yes\n",
       "  No  1136  409\n",
       "  Yes  401  766"
      ]
     },
     "metadata": {},
     "output_type": "display_data"
    },
    {
     "data": {
      "text/html": [
       "1136"
      ],
      "text/latex": [
       "1136"
      ],
      "text/markdown": [
       "1136"
      ],
      "text/plain": [
       "[1] 1136"
      ]
     },
     "metadata": {},
     "output_type": "display_data"
    },
    {
     "data": {
      "text/html": [
       "409"
      ],
      "text/latex": [
       "409"
      ],
      "text/markdown": [
       "409"
      ],
      "text/plain": [
       "[1] 409"
      ]
     },
     "metadata": {},
     "output_type": "display_data"
    },
    {
     "data": {
      "text/html": [
       "401"
      ],
      "text/latex": [
       "401"
      ],
      "text/markdown": [
       "401"
      ],
      "text/plain": [
       "[1] 401"
      ]
     },
     "metadata": {},
     "output_type": "display_data"
    },
    {
     "data": {
      "text/html": [
       "766"
      ],
      "text/latex": [
       "766"
      ],
      "text/markdown": [
       "766"
      ],
      "text/plain": [
       "[1] 766"
      ]
     },
     "metadata": {},
     "output_type": "display_data"
    },
    {
     "data": {
      "text/html": [
       "0.701327433628319"
      ],
      "text/latex": [
       "0.701327433628319"
      ],
      "text/markdown": [
       "0.701327433628319"
      ],
      "text/plain": [
       "[1] 0.7013274"
      ]
     },
     "metadata": {},
     "output_type": "display_data"
    },
    {
     "data": {
      "text/html": [
       "0.651914893617021"
      ],
      "text/latex": [
       "0.651914893617021"
      ],
      "text/markdown": [
       "0.651914893617021"
      ],
      "text/plain": [
       "[1] 0.6519149"
      ]
     },
     "metadata": {},
     "output_type": "display_data"
    },
    {
     "data": {
      "text/html": [
       "0.656383890317052"
      ],
      "text/latex": [
       "0.656383890317052"
      ],
      "text/markdown": [
       "0.656383890317052"
      ],
      "text/plain": [
       "[1] 0.6563839"
      ]
     },
     "metadata": {},
     "output_type": "display_data"
    },
    {
     "data": {
      "text/html": [
       "0.654141759180188"
      ],
      "text/latex": [
       "0.654141759180188"
      ],
      "text/markdown": [
       "0.654141759180188"
      ],
      "text/plain": [
       "[1] 0.6541418"
      ]
     },
     "metadata": {},
     "output_type": "display_data"
    }
   ],
   "source": [
    "table(pred.train.data.set$Churn,pred.train.data.set$Churn.pred)\n",
    "tr.TN = table(pred.train.data.set$Churn,pred.train.data.set$Churn.pred)[1]\n",
    "tr.FP = table(pred.train.data.set$Churn,pred.train.data.set$Churn.pred)[3]\n",
    "tr.FN = table(pred.train.data.set$Churn,pred.train.data.set$Churn.pred)[2]\n",
    "tr.TP = table(pred.train.data.set$Churn,pred.train.data.set$Churn.pred)[4]\n",
    "\n",
    "tr.TN\n",
    "tr.FP\n",
    "tr.FN\n",
    "tr.TP\n",
    "\n",
    "tr.Accuray = (tr.TN+tr.TP)/(tr.TN+tr.TP+tr.FN+tr.FP)\n",
    "tr.Precision = (tr.TP)/(tr.TP+tr.FP)\n",
    "tr.Recall = (tr.TP)/(tr.TP+tr.FN)\n",
    "tr.F1 = 2*tr.Precision*tr.Recall/(tr.Precision+tr.Recall)\n",
    "\n",
    "tr.Accuray\n",
    "tr.Precision\n",
    "tr.Recall\n",
    "tr.F1"
   ]
  },
  {
   "cell_type": "code",
   "execution_count": 33,
   "metadata": {},
   "outputs": [
    {
     "data": {
      "text/plain": [
       "\n",
       " No Yes \n",
       "675 488 "
      ]
     },
     "metadata": {},
     "output_type": "display_data"
    },
    {
     "data": {
      "text/html": [
       "1163"
      ],
      "text/latex": [
       "1163"
      ],
      "text/markdown": [
       "1163"
      ],
      "text/plain": [
       "[1] 1163"
      ]
     },
     "metadata": {},
     "output_type": "display_data"
    }
   ],
   "source": [
    "## Predictions\n",
    "pred.test.data.set = as.data.frame(test.data.set$Churn)\n",
    "colnames(pred.test.data.set)[1] = \"Churn\"\n",
    "pred.test.data.set$Churn.pred = predict(dec.tree.1,newdata = test.data.set,type=\"class\")\n",
    "# head(pred.test.data.set)\n",
    "table(pred.test.data.set$Churn)\n",
    "nrow(pred.test.data.set)"
   ]
  },
  {
   "cell_type": "code",
   "execution_count": 34,
   "metadata": {},
   "outputs": [
    {
     "data": {
      "text/plain": [
       "     \n",
       "       No Yes\n",
       "  No  482 193\n",
       "  Yes 167 321"
      ]
     },
     "metadata": {},
     "output_type": "display_data"
    },
    {
     "data": {
      "text/html": [
       "0.690455717970765"
      ],
      "text/latex": [
       "0.690455717970765"
      ],
      "text/markdown": [
       "0.690455717970765"
      ],
      "text/plain": [
       "[1] 0.6904557"
      ]
     },
     "metadata": {},
     "output_type": "display_data"
    },
    {
     "data": {
      "text/html": [
       "0.624513618677043"
      ],
      "text/latex": [
       "0.624513618677043"
      ],
      "text/markdown": [
       "0.624513618677043"
      ],
      "text/plain": [
       "[1] 0.6245136"
      ]
     },
     "metadata": {},
     "output_type": "display_data"
    },
    {
     "data": {
      "text/html": [
       "0.657786885245902"
      ],
      "text/latex": [
       "0.657786885245902"
      ],
      "text/markdown": [
       "0.657786885245902"
      ],
      "text/plain": [
       "[1] 0.6577869"
      ]
     },
     "metadata": {},
     "output_type": "display_data"
    },
    {
     "data": {
      "text/html": [
       "0.640718562874252"
      ],
      "text/latex": [
       "0.640718562874252"
      ],
      "text/markdown": [
       "0.640718562874252"
      ],
      "text/plain": [
       "[1] 0.6407186"
      ]
     },
     "metadata": {},
     "output_type": "display_data"
    }
   ],
   "source": [
    "table(pred.test.data.set$Churn,pred.test.data.set$Churn.pred)\n",
    "tt.TN = table(pred.test.data.set$Churn,pred.test.data.set$Churn.pred)[1]\n",
    "tt.FP = table(pred.test.data.set$Churn,pred.test.data.set$Churn.pred)[3]\n",
    "tt.FN = table(pred.test.data.set$Churn,pred.test.data.set$Churn.pred)[2]\n",
    "tt.TP = table(pred.test.data.set$Churn,pred.test.data.set$Churn.pred)[4]\n",
    "\n",
    "tt.Precision = (tt.TP)/(tt.TP+tt.FP)\n",
    "tt.Accuray = (tt.TN+tt.TP)/(tt.TN+tt.TP+tt.FN+tt.FP)\n",
    "tt.Recall = (tt.TP)/(tt.TP+tt.FN)\n",
    "tt.F1 = 2*tt.Precision*tt.Recall/(tt.Precision+tt.Recall)\n",
    "\n",
    "tt.Accuray\n",
    "tt.Precision\n",
    "tt.Recall\n",
    "tt.F1"
   ]
  },
  {
   "cell_type": "markdown",
   "metadata": {},
   "source": [
    "## Test Train Split for Not Month-to-month"
   ]
  },
  {
   "cell_type": "code",
   "execution_count": 37,
   "metadata": {},
   "outputs": [
    {
     "name": "stdout",
     "output_type": "stream",
     "text": [
      "'data.frame':\t7043 obs. of  20 variables:\n",
      " $ gender          : Factor w/ 2 levels \"Female\",\"Male\": 1 2 2 2 1 1 2 1 1 2 ...\n",
      " $ SeniorCitizen   : Factor w/ 2 levels \"0\",\"1\": 1 1 1 1 1 1 1 1 1 1 ...\n",
      " $ Partner         : Factor w/ 2 levels \"No\",\"Yes\": 2 1 1 1 1 1 1 1 2 1 ...\n",
      " $ Dependents      : Factor w/ 2 levels \"No\",\"Yes\": 1 1 1 1 1 1 2 1 1 2 ...\n",
      " $ tenure          : int  1 34 2 45 2 8 22 10 28 62 ...\n",
      " $ PhoneService    : Factor w/ 2 levels \"No\",\"Yes\": 1 2 2 1 2 2 2 1 2 2 ...\n",
      " $ MultipleLines   : Factor w/ 3 levels \"No\",\"No phone service\",..: 2 1 1 2 1 3 3 2 3 1 ...\n",
      " $ InternetService : Factor w/ 3 levels \"DSL\",\"Fiber optic\",..: 1 1 1 1 2 2 2 1 2 1 ...\n",
      " $ OnlineSecurity  : Factor w/ 3 levels \"No\",\"No internet service\",..: 1 3 3 3 1 1 1 3 1 3 ...\n",
      " $ OnlineBackup    : Factor w/ 3 levels \"No\",\"No internet service\",..: 3 1 3 1 1 1 3 1 1 3 ...\n",
      " $ DeviceProtection: Factor w/ 3 levels \"No\",\"No internet service\",..: 1 3 1 3 1 3 1 1 3 1 ...\n",
      " $ TechSupport     : Factor w/ 3 levels \"No\",\"No internet service\",..: 1 1 1 3 1 1 1 1 3 1 ...\n",
      " $ StreamingTV     : Factor w/ 3 levels \"No\",\"No internet service\",..: 1 1 1 1 1 3 3 1 3 1 ...\n",
      " $ StreamingMovies : Factor w/ 3 levels \"No\",\"No internet service\",..: 1 1 1 1 1 3 1 1 3 1 ...\n",
      " $ Contract        : Factor w/ 3 levels \"Month-to-month\",..: 1 2 1 2 1 1 1 1 1 2 ...\n",
      " $ PaperlessBilling: Factor w/ 2 levels \"No\",\"Yes\": 2 1 2 1 2 2 2 1 2 1 ...\n",
      " $ PaymentMethod   : Factor w/ 4 levels \"Bank transfer (automatic)\",..: 3 4 4 1 3 3 2 4 3 1 ...\n",
      " $ MonthlyCharges  : num  29.9 57 53.9 42.3 70.7 ...\n",
      " $ TotalCharges    : num  29.9 1889.5 108.2 1840.8 151.7 ...\n",
      " $ Churn           : Factor w/ 2 levels \"No\",\"Yes\": 1 1 2 1 2 2 1 1 2 1 ...\n"
     ]
    },
    {
     "data": {
      "text/plain": [
       "                \n",
       "                   No  Yes\n",
       "  Month-to-month 2220 1655\n",
       "  One year       1307  166\n",
       "  Two year       1647   48"
      ]
     },
     "metadata": {},
     "output_type": "display_data"
    },
    {
     "data": {
      "text/html": [
       "3168"
      ],
      "text/latex": [
       "3168"
      ],
      "text/markdown": [
       "3168"
      ],
      "text/plain": [
       "[1] 3168"
      ]
     },
     "metadata": {},
     "output_type": "display_data"
    },
    {
     "name": "stdout",
     "output_type": "stream",
     "text": [
      "'data.frame':\t3168 obs. of  20 variables:\n",
      " $ gender          : Factor w/ 2 levels \"Female\",\"Male\": 2 2 2 2 2 1 1 2 2 1 ...\n",
      " $ SeniorCitizen   : Factor w/ 2 levels \"0\",\"1\": 1 1 1 1 1 1 1 1 1 1 ...\n",
      " $ Partner         : Factor w/ 2 levels \"No\",\"Yes\": 1 1 1 1 2 2 1 1 2 2 ...\n",
      " $ Dependents      : Factor w/ 2 levels \"No\",\"Yes\": 1 1 2 1 1 2 1 2 1 1 ...\n",
      " $ tenure          : int  34 45 62 16 58 69 52 71 12 58 ...\n",
      " $ PhoneService    : Factor w/ 2 levels \"No\",\"Yes\": 2 1 2 2 2 2 2 2 2 2 ...\n",
      " $ MultipleLines   : Factor w/ 3 levels \"No\",\"No phone service\",..: 1 2 1 1 3 3 1 3 1 3 ...\n",
      " $ InternetService : Factor w/ 3 levels \"DSL\",\"Fiber optic\",..: 1 1 1 3 2 2 3 2 3 1 ...\n",
      " $ OnlineSecurity  : Factor w/ 3 levels \"No\",\"No internet service\",..: 3 3 3 2 1 3 2 3 2 1 ...\n",
      " $ OnlineBackup    : Factor w/ 3 levels \"No\",\"No internet service\",..: 1 1 3 2 1 3 2 1 2 3 ...\n",
      " $ DeviceProtection: Factor w/ 3 levels \"No\",\"No internet service\",..: 3 3 1 2 3 3 2 3 2 1 ...\n",
      " $ TechSupport     : Factor w/ 3 levels \"No\",\"No internet service\",..: 1 3 1 2 1 3 2 1 2 3 ...\n",
      " $ StreamingTV     : Factor w/ 3 levels \"No\",\"No internet service\",..: 1 1 1 2 3 3 2 3 2 1 ...\n",
      " $ StreamingMovies : Factor w/ 3 levels \"No\",\"No internet service\",..: 1 1 1 2 3 3 2 3 2 1 ...\n",
      " $ Contract        : Factor w/ 2 levels \"One year\",\"Two year\": 1 1 1 2 1 2 1 2 1 2 ...\n",
      " $ PaperlessBilling: Factor w/ 2 levels \"No\",\"Yes\": 1 1 1 1 1 1 1 1 1 2 ...\n",
      " $ PaymentMethod   : Factor w/ 4 levels \"Bank transfer (automatic)\",..: 4 1 1 2 2 2 4 1 1 2 ...\n",
      " $ MonthlyCharges  : num  57 42.3 56.1 18.9 100.3 ...\n",
      " $ TotalCharges    : num  1890 1841 3488 327 5681 ...\n",
      " $ Churn           : Factor w/ 2 levels \"No\",\"Yes\": 1 1 1 1 1 1 1 1 1 1 ...\n"
     ]
    },
    {
     "data": {
      "text/plain": [
       "          \n",
       "             No  Yes\n",
       "  One year 1307  166\n",
       "  Two year 1647   48"
      ]
     },
     "metadata": {},
     "output_type": "display_data"
    },
    {
     "data": {
      "text/plain": [
       "\n",
       "  No  Yes \n",
       "2954  214 "
      ]
     },
     "metadata": {},
     "output_type": "display_data"
    }
   ],
   "source": [
    "str(data.set.orig)\n",
    "table(data.set.orig$Contract,data.set.orig$Churn)\n",
    "\n",
    "data.set.orig$Contract = as.character(data.set.orig$Contract)\n",
    "data.set = data.set.orig[!(data.set.orig$Contract==\"Month-to-month\"),]\n",
    "data.set.orig$Contract = as.factor(data.set.orig$Contract)\n",
    "\n",
    "data.set$Contract = as.factor(data.set$Contract)\n",
    "nrow(data.set)\n",
    "str(data.set)\n",
    "table(data.set$Contract,data.set$Churn)\n",
    "table(data.set$Churn)\n",
    "data.set$Contract = NULL"
   ]
  },
  {
   "cell_type": "code",
   "execution_count": 38,
   "metadata": {},
   "outputs": [
    {
     "data": {
      "text/html": [
       "3168"
      ],
      "text/latex": [
       "3168"
      ],
      "text/markdown": [
       "3168"
      ],
      "text/plain": [
       "[1] 3168"
      ]
     },
     "metadata": {},
     "output_type": "display_data"
    },
    {
     "data": {
      "text/html": [
       "2217"
      ],
      "text/latex": [
       "2217"
      ],
      "text/markdown": [
       "2217"
      ],
      "text/plain": [
       "[1] 2217"
      ]
     },
     "metadata": {},
     "output_type": "display_data"
    },
    {
     "data": {
      "text/html": [
       "951"
      ],
      "text/latex": [
       "951"
      ],
      "text/markdown": [
       "951"
      ],
      "text/plain": [
       "[1] 951"
      ]
     },
     "metadata": {},
     "output_type": "display_data"
    }
   ],
   "source": [
    "set.seed(987)\n",
    "sample = sample(1:nrow(data.set),size=.7*nrow(data.set))\n",
    "train.data.set = data.set[sample,]\n",
    "test.data.set = data.set[-sample,]\n",
    "nrow(data.set)\n",
    "nrow(train.data.set)\n",
    "nrow(test.data.set)"
   ]
  },
  {
   "cell_type": "markdown",
   "metadata": {},
   "source": [
    "## Decision Tree"
   ]
  },
  {
   "cell_type": "code",
   "execution_count": 41,
   "metadata": {
    "scrolled": false
   },
   "outputs": [
    {
     "name": "stdout",
     "output_type": "stream",
     "text": [
      "Call:\n",
      "rpart(formula = Churn ~ ., data = train.data.set, method = \"class\")\n",
      "  n= 2217 \n",
      "\n",
      "  CP nsplit rel error xerror xstd\n",
      "1  0      0         1      0    0\n",
      "\n",
      "Node number 1: 2217 observations\n",
      "  predicted class=No  expected loss=0.06630582  P(node) =1\n",
      "    class counts:  2070   147\n",
      "   probabilities: 0.934 0.066 \n",
      "\n"
     ]
    },
    {
     "data": {
      "text/plain": [
       "NULL"
      ]
     },
     "metadata": {},
     "output_type": "display_data"
    }
   ],
   "source": [
    "dec.tree.1 = rpart( Churn ~ . , data=train.data.set,  method = \"class\")\n",
    "summary(dec.tree.1)\n",
    "dec.tree.1$variable.importance"
   ]
  },
  {
   "cell_type": "code",
   "execution_count": 42,
   "metadata": {},
   "outputs": [
    {
     "data": {
      "image/png": "[encoded data removed]",
      "text/plain": [
       "plot without title"
      ]
     },
     "metadata": {},
     "output_type": "display_data"
    }
   ],
   "source": [
    "rpart.plot(dec.tree.1)\n",
    "# ?rpart"
   ]
  },
  {
   "cell_type": "code",
   "execution_count": 43,
   "metadata": {},
   "outputs": [
    {
     "data": {
      "text/html": [
       "<table>\n",
       "<thead><tr><th scope=col>Churn</th><th scope=col>Churn.pred</th></tr></thead>\n",
       "<tbody>\n",
       "\t<tr><td>No</td><td>No</td></tr>\n",
       "\t<tr><td>No</td><td>No</td></tr>\n",
       "\t<tr><td>No</td><td>No</td></tr>\n",
       "\t<tr><td>No</td><td>No</td></tr>\n",
       "\t<tr><td>No</td><td>No</td></tr>\n",
       "\t<tr><td>No</td><td>No</td></tr>\n",
       "</tbody>\n",
       "</table>\n"
      ],
      "text/latex": [
       "\\begin{tabular}{r|ll}\n",
       " Churn & Churn.pred\\\\\n",
       "\\hline\n",
       "\t No & No\\\\\n",
       "\t No & No\\\\\n",
       "\t No & No\\\\\n",
       "\t No & No\\\\\n",
       "\t No & No\\\\\n",
       "\t No & No\\\\\n",
       "\\end{tabular}\n"
      ],
      "text/markdown": [
       "\n",
       "Churn | Churn.pred | \n",
       "|---|---|---|---|---|---|\n",
       "| No | No | \n",
       "| No | No | \n",
       "| No | No | \n",
       "| No | No | \n",
       "| No | No | \n",
       "| No | No | \n",
       "\n",
       "\n"
      ],
      "text/plain": [
       "  Churn Churn.pred\n",
       "1 No    No        \n",
       "2 No    No        \n",
       "3 No    No        \n",
       "4 No    No        \n",
       "5 No    No        \n",
       "6 No    No        "
      ]
     },
     "metadata": {},
     "output_type": "display_data"
    },
    {
     "data": {
      "text/plain": [
       "\n",
       "  No  Yes \n",
       "2070  147 "
      ]
     },
     "metadata": {},
     "output_type": "display_data"
    }
   ],
   "source": [
    "## Predictions\n",
    "pred.train.data.set = as.data.frame(train.data.set$Churn)\n",
    "colnames(pred.train.data.set)[1] = \"Churn\"\n",
    "pred.train.data.set$Churn.pred = predict(dec.tree.1,newdata = train.data.set,type=\"class\")\n",
    "head(pred.train.data.set)\n",
    "table(pred.train.data.set$Churn)"
   ]
  },
  {
   "cell_type": "code",
   "execution_count": 44,
   "metadata": {},
   "outputs": [
    {
     "data": {
      "text/plain": [
       "     \n",
       "        No  Yes\n",
       "  No  2070    0\n",
       "  Yes  147    0"
      ]
     },
     "metadata": {},
     "output_type": "display_data"
    },
    {
     "data": {
      "text/html": [
       "2070"
      ],
      "text/latex": [
       "2070"
      ],
      "text/markdown": [
       "2070"
      ],
      "text/plain": [
       "[1] 2070"
      ]
     },
     "metadata": {},
     "output_type": "display_data"
    },
    {
     "data": {
      "text/html": [
       "0"
      ],
      "text/latex": [
       "0"
      ],
      "text/markdown": [
       "0"
      ],
      "text/plain": [
       "[1] 0"
      ]
     },
     "metadata": {},
     "output_type": "display_data"
    },
    {
     "data": {
      "text/html": [
       "147"
      ],
      "text/latex": [
       "147"
      ],
      "text/markdown": [
       "147"
      ],
      "text/plain": [
       "[1] 147"
      ]
     },
     "metadata": {},
     "output_type": "display_data"
    },
    {
     "data": {
      "text/html": [
       "0"
      ],
      "text/latex": [
       "0"
      ],
      "text/markdown": [
       "0"
      ],
      "text/plain": [
       "[1] 0"
      ]
     },
     "metadata": {},
     "output_type": "display_data"
    },
    {
     "data": {
      "text/html": [
       "0.933694181326116"
      ],
      "text/latex": [
       "0.933694181326116"
      ],
      "text/markdown": [
       "0.933694181326116"
      ],
      "text/plain": [
       "[1] 0.9336942"
      ]
     },
     "metadata": {},
     "output_type": "display_data"
    },
    {
     "data": {
      "text/html": [
       "NaN"
      ],
      "text/latex": [
       "NaN"
      ],
      "text/markdown": [
       "NaN"
      ],
      "text/plain": [
       "[1] NaN"
      ]
     },
     "metadata": {},
     "output_type": "display_data"
    },
    {
     "data": {
      "text/html": [
       "0"
      ],
      "text/latex": [
       "0"
      ],
      "text/markdown": [
       "0"
      ],
      "text/plain": [
       "[1] 0"
      ]
     },
     "metadata": {},
     "output_type": "display_data"
    },
    {
     "data": {
      "text/html": [
       "NaN"
      ],
      "text/latex": [
       "NaN"
      ],
      "text/markdown": [
       "NaN"
      ],
      "text/plain": [
       "[1] NaN"
      ]
     },
     "metadata": {},
     "output_type": "display_data"
    }
   ],
   "source": [
    "table(pred.train.data.set$Churn,pred.train.data.set$Churn.pred)\n",
    "tr.TN = table(pred.train.data.set$Churn,pred.train.data.set$Churn.pred)[1]\n",
    "tr.FP = table(pred.train.data.set$Churn,pred.train.data.set$Churn.pred)[3]\n",
    "tr.FN = table(pred.train.data.set$Churn,pred.train.data.set$Churn.pred)[2]\n",
    "tr.TP = table(pred.train.data.set$Churn,pred.train.data.set$Churn.pred)[4]\n",
    "\n",
    "tr.TN\n",
    "tr.FP\n",
    "tr.FN\n",
    "tr.TP\n",
    "\n",
    "tr.Accuray = (tr.TN+tr.TP)/(tr.TN+tr.TP+tr.FN+tr.FP)\n",
    "tr.Precision = (tr.TP)/(tr.TP+tr.FP)\n",
    "tr.Recall = (tr.TP)/(tr.TP+tr.FN)\n",
    "tr.F1 = 2*tr.Precision*tr.Recall/(tr.Precision+tr.Recall)\n",
    "\n",
    "tr.Accuray\n",
    "tr.Precision\n",
    "tr.Recall\n",
    "tr.F1"
   ]
  },
  {
   "cell_type": "code",
   "execution_count": 45,
   "metadata": {},
   "outputs": [
    {
     "data": {
      "text/plain": [
       "\n",
       " No Yes \n",
       "884  67 "
      ]
     },
     "metadata": {},
     "output_type": "display_data"
    },
    {
     "data": {
      "text/html": [
       "951"
      ],
      "text/latex": [
       "951"
      ],
      "text/markdown": [
       "951"
      ],
      "text/plain": [
       "[1] 951"
      ]
     },
     "metadata": {},
     "output_type": "display_data"
    }
   ],
   "source": [
    "## Predictions\n",
    "pred.test.data.set = as.data.frame(test.data.set$Churn)\n",
    "colnames(pred.test.data.set)[1] = \"Churn\"\n",
    "pred.test.data.set$Churn.pred = predict(dec.tree.1,newdata = test.data.set,type=\"class\")\n",
    "# head(pred.test.data.set)\n",
    "table(pred.test.data.set$Churn)\n",
    "nrow(pred.test.data.set)"
   ]
  },
  {
   "cell_type": "code",
   "execution_count": 46,
   "metadata": {},
   "outputs": [
    {
     "data": {
      "text/plain": [
       "     \n",
       "       No Yes\n",
       "  No  884   0\n",
       "  Yes  67   0"
      ]
     },
     "metadata": {},
     "output_type": "display_data"
    },
    {
     "data": {
      "text/html": [
       "884"
      ],
      "text/latex": [
       "884"
      ],
      "text/markdown": [
       "884"
      ],
      "text/plain": [
       "[1] 884"
      ]
     },
     "metadata": {},
     "output_type": "display_data"
    },
    {
     "data": {
      "text/html": [
       "0"
      ],
      "text/latex": [
       "0"
      ],
      "text/markdown": [
       "0"
      ],
      "text/plain": [
       "[1] 0"
      ]
     },
     "metadata": {},
     "output_type": "display_data"
    },
    {
     "data": {
      "text/html": [
       "67"
      ],
      "text/latex": [
       "67"
      ],
      "text/markdown": [
       "67"
      ],
      "text/plain": [
       "[1] 67"
      ]
     },
     "metadata": {},
     "output_type": "display_data"
    },
    {
     "data": {
      "text/html": [
       "0"
      ],
      "text/latex": [
       "0"
      ],
      "text/markdown": [
       "0"
      ],
      "text/plain": [
       "[1] 0"
      ]
     },
     "metadata": {},
     "output_type": "display_data"
    },
    {
     "data": {
      "text/html": [
       "0.929547844374343"
      ],
      "text/latex": [
       "0.929547844374343"
      ],
      "text/markdown": [
       "0.929547844374343"
      ],
      "text/plain": [
       "[1] 0.9295478"
      ]
     },
     "metadata": {},
     "output_type": "display_data"
    },
    {
     "data": {
      "text/html": [
       "NaN"
      ],
      "text/latex": [
       "NaN"
      ],
      "text/markdown": [
       "NaN"
      ],
      "text/plain": [
       "[1] NaN"
      ]
     },
     "metadata": {},
     "output_type": "display_data"
    },
    {
     "data": {
      "text/html": [
       "0"
      ],
      "text/latex": [
       "0"
      ],
      "text/markdown": [
       "0"
      ],
      "text/plain": [
       "[1] 0"
      ]
     },
     "metadata": {},
     "output_type": "display_data"
    },
    {
     "data": {
      "text/html": [
       "NaN"
      ],
      "text/latex": [
       "NaN"
      ],
      "text/markdown": [
       "NaN"
      ],
      "text/plain": [
       "[1] NaN"
      ]
     },
     "metadata": {},
     "output_type": "display_data"
    }
   ],
   "source": [
    "table(pred.test.data.set$Churn,pred.test.data.set$Churn.pred)\n",
    "tt.TN = table(pred.test.data.set$Churn,pred.test.data.set$Churn.pred)[1]\n",
    "tt.FP = table(pred.test.data.set$Churn,pred.test.data.set$Churn.pred)[3]\n",
    "tt.FN = table(pred.test.data.set$Churn,pred.test.data.set$Churn.pred)[2]\n",
    "tt.TP = table(pred.test.data.set$Churn,pred.test.data.set$Churn.pred)[4]\n",
    "\n",
    "tt.TN\n",
    "tt.FP\n",
    "tt.FN\n",
    "tt.TP\n",
    "\n",
    "tt.Precision = (tt.TP)/(tt.TP+tt.FP)\n",
    "tt.Accuray = (tt.TN+tt.TP)/(tt.TN+tt.TP+tt.FN+tt.FP)\n",
    "\n",
    "tt.Recall = (tt.TP)/(tt.TP+tt.FN)\n",
    "tt.F1 = 2*tt.Precision*tt.Recall/(tt.Precision+tt.Recall)\n",
    "\n",
    "tt.Accuray\n",
    "tt.Precision\n",
    "tt.Recall\n",
    "tt.F1"
   ]
  }
 ],
 "metadata": {
  "kernelspec": {
   "display_name": "R",
   "language": "R",
   "name": "ir"
  },
  "language_info": {
   "codemirror_mode": "r",
   "file_extension": ".r",
   "mimetype": "text/x-r-source",
   "name": "R",
   "pygments_lexer": "r",
   "version": "3.4.1"
  }
 },
 "nbformat": 4,
 "nbformat_minor": 2
}
