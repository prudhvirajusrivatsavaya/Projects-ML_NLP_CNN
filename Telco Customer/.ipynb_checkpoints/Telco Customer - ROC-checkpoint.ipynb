{
 "cells": [
  {
   "cell_type": "markdown",
   "metadata": {},
   "source": [
    "# Telco Customer Churn\n",
    "\n",
    "Problem Statement : Predict the customer churn in the given dataset with the given input variavbles. <br>\n",
    "Dataset Name : Teleco_Cust_Attr.csv <br>\n",
    "Rows : 7043 <br>\n",
    "Cols : 21 <br>\n",
    "\n",
    "0. Libraries\n",
    "1. Data Preparation\n",
    "2. Missing Value Treatment"
   ]
  },
  {
   "cell_type": "markdown",
   "metadata": {},
   "source": [
    "## 0. Libraries"
   ]
  },
  {
   "cell_type": "code",
   "execution_count": 74,
   "metadata": {},
   "outputs": [],
   "source": [
    "import numpy as np\n",
    "import pandas as pd\n",
    "\n",
    "# Visualization\n",
    "import matplotlib.pyplot as plt\n",
    "import scipy.stats as stats\n",
    "import seaborn as sn\n",
    "\n",
    "# Data Transformation\n",
    "from sklearn.preprocessing import LabelEncoder, OneHotEncoder\n",
    "from sklearn.preprocessing import StandardScaler,MinMaxScaler\n",
    "\n",
    "#Data Split\n",
    "from sklearn.model_selection import train_test_split \n",
    "\n",
    "#Grid Search\n",
    "from sklearn.model_selection import GridSearchCV\n",
    "\n",
    "# Models\n",
    "from sklearn.tree import DecisionTreeClassifier\n",
    "\n",
    "# Metrics\n",
    "from sklearn.metrics import confusion_matrix\n",
    "from sklearn.metrics import classification_report\n",
    "from sklearn.metrics import roc_curve, auc\n",
    "from sklearn.metrics import precision_recall_curve\n",
    "\n",
    "#Validation\n",
    "from sklearn.model_selection import KFold\n",
    "from sklearn.model_selection import cross_val_score\n",
    "from sklearn.model_selection import StratifiedKFold\n",
    "\n",
    "from collections import defaultdict\n",
    "\n",
    "pd.set_option(\"display.max_columns\",1000)"
   ]
  },
  {
   "cell_type": "markdown",
   "metadata": {},
   "source": [
    "## 1. Data Preparation\n",
    "\n",
    "This section considers : \n",
    "\n",
    "- Reading input dataset\n",
    "- Data Cleaning\n",
    "    - Trim Columns\n",
    "    - Drop Duplicates\n",
    "    - Datatype Conversion "
   ]
  },
  {
   "cell_type": "markdown",
   "metadata": {},
   "source": [
    "### 1.1 Read Input File"
   ]
  },
  {
   "cell_type": "code",
   "execution_count": 75,
   "metadata": {
    "scrolled": false
   },
   "outputs": [
    {
     "data": {
      "text/html": [
       "<div>\n",
       "<style scoped>\n",
       "    .dataframe tbody tr th:only-of-type {\n",
       "        vertical-align: middle;\n",
       "    }\n",
       "\n",
       "    .dataframe tbody tr th {\n",
       "        vertical-align: top;\n",
       "    }\n",
       "\n",
       "    .dataframe thead th {\n",
       "        text-align: right;\n",
       "    }\n",
       "</style>\n",
       "<table border=\"1\" class=\"dataframe\">\n",
       "  <thead>\n",
       "    <tr style=\"text-align: right;\">\n",
       "      <th></th>\n",
       "      <th>customerID</th>\n",
       "      <th>gender</th>\n",
       "      <th>SeniorCitizen</th>\n",
       "      <th>Partner</th>\n",
       "      <th>Dependents</th>\n",
       "      <th>tenure</th>\n",
       "      <th>PhoneService</th>\n",
       "      <th>MultipleLines</th>\n",
       "      <th>InternetService</th>\n",
       "      <th>OnlineSecurity</th>\n",
       "      <th>OnlineBackup</th>\n",
       "      <th>DeviceProtection</th>\n",
       "      <th>TechSupport</th>\n",
       "      <th>StreamingTV</th>\n",
       "      <th>StreamingMovies</th>\n",
       "      <th>Contract</th>\n",
       "      <th>PaperlessBilling</th>\n",
       "      <th>PaymentMethod</th>\n",
       "      <th>MonthlyCharges</th>\n",
       "      <th>TotalCharges</th>\n",
       "      <th>Churn</th>\n",
       "    </tr>\n",
       "  </thead>\n",
       "  <tbody>\n",
       "    <tr>\n",
       "      <th>0</th>\n",
       "      <td>7590-VHVEG</td>\n",
       "      <td>Female</td>\n",
       "      <td>0</td>\n",
       "      <td>Yes</td>\n",
       "      <td>No</td>\n",
       "      <td>1</td>\n",
       "      <td>No</td>\n",
       "      <td>No phone service</td>\n",
       "      <td>DSL</td>\n",
       "      <td>No</td>\n",
       "      <td>Yes</td>\n",
       "      <td>No</td>\n",
       "      <td>No</td>\n",
       "      <td>No</td>\n",
       "      <td>No</td>\n",
       "      <td>Month-to-month</td>\n",
       "      <td>Yes</td>\n",
       "      <td>Electronic check</td>\n",
       "      <td>29.85</td>\n",
       "      <td>29.85</td>\n",
       "      <td>No</td>\n",
       "    </tr>\n",
       "    <tr>\n",
       "      <th>1</th>\n",
       "      <td>5575-GNVDE</td>\n",
       "      <td>Male</td>\n",
       "      <td>0</td>\n",
       "      <td>No</td>\n",
       "      <td>No</td>\n",
       "      <td>34</td>\n",
       "      <td>Yes</td>\n",
       "      <td>No</td>\n",
       "      <td>DSL</td>\n",
       "      <td>Yes</td>\n",
       "      <td>No</td>\n",
       "      <td>Yes</td>\n",
       "      <td>No</td>\n",
       "      <td>No</td>\n",
       "      <td>No</td>\n",
       "      <td>One year</td>\n",
       "      <td>No</td>\n",
       "      <td>Mailed check</td>\n",
       "      <td>56.95</td>\n",
       "      <td>1889.5</td>\n",
       "      <td>No</td>\n",
       "    </tr>\n",
       "    <tr>\n",
       "      <th>2</th>\n",
       "      <td>3668-QPYBK</td>\n",
       "      <td>Male</td>\n",
       "      <td>0</td>\n",
       "      <td>No</td>\n",
       "      <td>No</td>\n",
       "      <td>2</td>\n",
       "      <td>Yes</td>\n",
       "      <td>No</td>\n",
       "      <td>DSL</td>\n",
       "      <td>Yes</td>\n",
       "      <td>Yes</td>\n",
       "      <td>No</td>\n",
       "      <td>No</td>\n",
       "      <td>No</td>\n",
       "      <td>No</td>\n",
       "      <td>Month-to-month</td>\n",
       "      <td>Yes</td>\n",
       "      <td>Mailed check</td>\n",
       "      <td>53.85</td>\n",
       "      <td>108.15</td>\n",
       "      <td>Yes</td>\n",
       "    </tr>\n",
       "    <tr>\n",
       "      <th>3</th>\n",
       "      <td>7795-CFOCW</td>\n",
       "      <td>Male</td>\n",
       "      <td>0</td>\n",
       "      <td>No</td>\n",
       "      <td>No</td>\n",
       "      <td>45</td>\n",
       "      <td>No</td>\n",
       "      <td>No phone service</td>\n",
       "      <td>DSL</td>\n",
       "      <td>Yes</td>\n",
       "      <td>No</td>\n",
       "      <td>Yes</td>\n",
       "      <td>Yes</td>\n",
       "      <td>No</td>\n",
       "      <td>No</td>\n",
       "      <td>One year</td>\n",
       "      <td>No</td>\n",
       "      <td>Bank transfer (automatic)</td>\n",
       "      <td>42.30</td>\n",
       "      <td>1840.75</td>\n",
       "      <td>No</td>\n",
       "    </tr>\n",
       "    <tr>\n",
       "      <th>4</th>\n",
       "      <td>9237-HQITU</td>\n",
       "      <td>Female</td>\n",
       "      <td>0</td>\n",
       "      <td>No</td>\n",
       "      <td>No</td>\n",
       "      <td>2</td>\n",
       "      <td>Yes</td>\n",
       "      <td>No</td>\n",
       "      <td>Fiber optic</td>\n",
       "      <td>No</td>\n",
       "      <td>No</td>\n",
       "      <td>No</td>\n",
       "      <td>No</td>\n",
       "      <td>No</td>\n",
       "      <td>No</td>\n",
       "      <td>Month-to-month</td>\n",
       "      <td>Yes</td>\n",
       "      <td>Electronic check</td>\n",
       "      <td>70.70</td>\n",
       "      <td>151.65</td>\n",
       "      <td>Yes</td>\n",
       "    </tr>\n",
       "  </tbody>\n",
       "</table>\n",
       "</div>"
      ],
      "text/plain": [
       "   customerID  gender  SeniorCitizen Partner Dependents  tenure PhoneService  \\\n",
       "0  7590-VHVEG  Female              0     Yes         No       1           No   \n",
       "1  5575-GNVDE    Male              0      No         No      34          Yes   \n",
       "2  3668-QPYBK    Male              0      No         No       2          Yes   \n",
       "3  7795-CFOCW    Male              0      No         No      45           No   \n",
       "4  9237-HQITU  Female              0      No         No       2          Yes   \n",
       "\n",
       "      MultipleLines InternetService OnlineSecurity OnlineBackup  \\\n",
       "0  No phone service             DSL             No          Yes   \n",
       "1                No             DSL            Yes           No   \n",
       "2                No             DSL            Yes          Yes   \n",
       "3  No phone service             DSL            Yes           No   \n",
       "4                No     Fiber optic             No           No   \n",
       "\n",
       "  DeviceProtection TechSupport StreamingTV StreamingMovies        Contract  \\\n",
       "0               No          No          No              No  Month-to-month   \n",
       "1              Yes          No          No              No        One year   \n",
       "2               No          No          No              No  Month-to-month   \n",
       "3              Yes         Yes          No              No        One year   \n",
       "4               No          No          No              No  Month-to-month   \n",
       "\n",
       "  PaperlessBilling              PaymentMethod  MonthlyCharges TotalCharges  \\\n",
       "0              Yes           Electronic check           29.85        29.85   \n",
       "1               No               Mailed check           56.95       1889.5   \n",
       "2              Yes               Mailed check           53.85       108.15   \n",
       "3               No  Bank transfer (automatic)           42.30      1840.75   \n",
       "4              Yes           Electronic check           70.70       151.65   \n",
       "\n",
       "  Churn  \n",
       "0    No  \n",
       "1    No  \n",
       "2   Yes  \n",
       "3    No  \n",
       "4   Yes  "
      ]
     },
     "execution_count": 75,
     "metadata": {},
     "output_type": "execute_result"
    }
   ],
   "source": [
    "master_dataset = pd.read_csv(\"Datasets/Teleco_Cust_Attr.csv\",header=0)\n",
    "master_dataset.head()"
   ]
  },
  {
   "cell_type": "code",
   "execution_count": 76,
   "metadata": {},
   "outputs": [
    {
     "name": "stdout",
     "output_type": "stream",
     "text": [
      "Rows  7043\n",
      "Cols  21\n"
     ]
    }
   ],
   "source": [
    "num_rows = master_dataset.shape[0]\n",
    "num_cols = master_dataset.shape[1]\n",
    "print(\"Rows \",num_rows)\n",
    "print(\"Cols \",num_cols)"
   ]
  },
  {
   "cell_type": "markdown",
   "metadata": {},
   "source": [
    "In the given dataset, Churn is the target variable and the dataset has 20 input variables with 7043 records. "
   ]
  },
  {
   "cell_type": "markdown",
   "metadata": {},
   "source": [
    "### 1.2 Data Cleaning"
   ]
  },
  {
   "cell_type": "markdown",
   "metadata": {},
   "source": [
    "<b>1.2.1 Trim columns </b><br>\n",
    "The function fn_trim_cols takes a dataframe as an input and returns a dataframe after stripping all leading and trailing spaces. "
   ]
  },
  {
   "cell_type": "code",
   "execution_count": 77,
   "metadata": {},
   "outputs": [],
   "source": [
    "def fn_trim_cols(df):\n",
    "    clean_df = df.apply(lambda x: x.str.strip().replace('',np.nan) \n",
    "                        if x.dtype==\"object\"\n",
    "                        else x)\n",
    "    return clean_df\n",
    "\n",
    "master_dataset = fn_trim_cols(master_dataset)"
   ]
  },
  {
   "cell_type": "markdown",
   "metadata": {},
   "source": [
    "<b> 1.2.2 Drop Duplicates </b><br>\n",
    "The function fn_del_dup_rows takes a dataframe as in input and checks for any duplicate records in the dataframe. If found, the duplicate rceords are dropped by preserving only one of the records. \n",
    "Next, the if any empty rows are found, the entire rows are dropped from the dataframe. The function returns two dataframes - the original dataframe and cleaned dataframe after removing duplicates and empty records."
   ]
  },
  {
   "cell_type": "code",
   "execution_count": 78,
   "metadata": {},
   "outputs": [
    {
     "name": "stdout",
     "output_type": "stream",
     "text": [
      "No duplicates found.\n",
      "No empty records found.\n"
     ]
    }
   ],
   "source": [
    "def fn_del_dup_rows(df):\n",
    "    duplicated_df = df.copy()\n",
    "    tot_rows = duplicated_df.shape[0]\n",
    "    \n",
    "    # Dropping duplicate records\n",
    "    df.drop_duplicates(inplace=True)\n",
    "    distinct_rows = df.shape[0]\n",
    "    if(distinct_rows<tot_rows):\n",
    "        print(\"Duplicates found. Total duplicates\",tot_rows-distinct_rows)\n",
    "    else:\n",
    "        print(\"No duplicates found.\")\n",
    "    \n",
    "    #Dropping empty records\n",
    "    tot_rows = df.shape[0]\n",
    "    df.dropna(axis=0, how='all',inplace=True)\n",
    "    distinct_rows = df.shape[0]\n",
    "    if(distinct_rows<tot_rows):\n",
    "        print(\"Empty records found. Total empty records\",tot_rows-distinct_rows)\n",
    "    else:\n",
    "        print(\"No empty records found.\")\n",
    "              \n",
    "    return duplicated_df,df\n",
    "\n",
    "duplicated_df,master_dataset = fn_del_dup_rows(master_dataset)"
   ]
  },
  {
   "cell_type": "markdown",
   "metadata": {},
   "source": [
    "<b> 1.2.3 Datatype Conversion </b><br>\n",
    "Looks like pandas has considered almost all variables as float and 2 variables as objects. Let's assign the actual datatypes to each of the variables. \n",
    "\n",
    "The function get_uniq_vals takes a dataframe as an input and returns a Series of unique values in each column. This helps in identifying the categorical variables in the dataset.\n",
    "\n",
    "The function fn_set_dtypes takes 5 parameters as inputs - the dataframe, a list of all categorical variable names, a list of integers and a list of floats and a list of objects. \n",
    "\n",
    "The function returns a dataframe by assigning the appropriate datatype to each variable."
   ]
  },
  {
   "cell_type": "code",
   "execution_count": 79,
   "metadata": {},
   "outputs": [
    {
     "data": {
      "text/plain": [
       "customerID          7043\n",
       "gender                 2\n",
       "SeniorCitizen          2\n",
       "Partner                2\n",
       "Dependents             2\n",
       "tenure                73\n",
       "PhoneService           2\n",
       "MultipleLines          3\n",
       "InternetService        3\n",
       "OnlineSecurity         3\n",
       "OnlineBackup           3\n",
       "DeviceProtection       3\n",
       "TechSupport            3\n",
       "StreamingTV            3\n",
       "StreamingMovies        3\n",
       "Contract               3\n",
       "PaperlessBilling       2\n",
       "PaymentMethod          4\n",
       "MonthlyCharges      1585\n",
       "TotalCharges        6531\n",
       "Churn                  2\n",
       "dtype: int64"
      ]
     },
     "execution_count": 79,
     "metadata": {},
     "output_type": "execute_result"
    }
   ],
   "source": [
    "def get_uniq_vals(df):\n",
    "    uniq_vals=pd.Series()\n",
    "    for col in df.columns:\n",
    "        uniq_vals[col]=df[col].unique().shape[0]\n",
    "    return uniq_vals\n",
    "        \n",
    "get_uniq_vals(master_dataset)"
   ]
  },
  {
   "cell_type": "code",
   "execution_count": 80,
   "metadata": {},
   "outputs": [
    {
     "data": {
      "text/plain": [
       "Index(['customerID', 'gender', 'SeniorCitizen', 'Partner', 'Dependents',\n",
       "       'tenure', 'PhoneService', 'MultipleLines', 'InternetService',\n",
       "       'OnlineSecurity', 'OnlineBackup', 'DeviceProtection', 'TechSupport',\n",
       "       'StreamingTV', 'StreamingMovies', 'Contract', 'PaperlessBilling',\n",
       "       'PaymentMethod', 'MonthlyCharges', 'TotalCharges', 'Churn'],\n",
       "      dtype='object')"
      ]
     },
     "execution_count": 80,
     "metadata": {},
     "output_type": "execute_result"
    }
   ],
   "source": [
    "master_dataset.columns"
   ]
  },
  {
   "cell_type": "code",
   "execution_count": 81,
   "metadata": {},
   "outputs": [
    {
     "data": {
      "text/plain": [
       "customerID            object\n",
       "gender              category\n",
       "SeniorCitizen       category\n",
       "Partner             category\n",
       "Dependents          category\n",
       "tenure                 int64\n",
       "PhoneService        category\n",
       "MultipleLines       category\n",
       "InternetService     category\n",
       "OnlineSecurity      category\n",
       "OnlineBackup        category\n",
       "DeviceProtection    category\n",
       "TechSupport         category\n",
       "StreamingTV         category\n",
       "StreamingMovies     category\n",
       "Contract            category\n",
       "PaperlessBilling    category\n",
       "PaymentMethod       category\n",
       "MonthlyCharges       float64\n",
       "TotalCharges         float64\n",
       "Churn               category\n",
       "dtype: object"
      ]
     },
     "execution_count": 81,
     "metadata": {},
     "output_type": "execute_result"
    }
   ],
   "source": [
    "def fn_set_dtypes(df,categories_,ints_,floats_,objects_):\n",
    "    for category_ in categories_:\n",
    "        df[category_] = df[category_].astype(\"category\")\n",
    "        \n",
    "    for int_ in ints_:\n",
    "        df[int_] = df[int_].astype(\"int64\")\n",
    "        \n",
    "    for float_ in floats_:\n",
    "        df[float_] = df[float_].astype(\"float64\")\n",
    "        \n",
    "    for object_ in objects_:\n",
    "        df[object_] = df[object_].astype(\"object\")\n",
    "    return df\n",
    "\n",
    "\n",
    "categories_=['gender', 'SeniorCitizen', 'Partner', 'Dependents','PhoneService', 'MultipleLines',\n",
    "             'InternetService','OnlineSecurity', 'OnlineBackup', 'DeviceProtection', 'TechSupport',\n",
    "             'StreamingTV', 'StreamingMovies', 'Contract', 'PaperlessBilling','PaymentMethod','Churn']\n",
    "ints_=['tenure']\n",
    "floats_=['MonthlyCharges','TotalCharges']\n",
    "objects_=['customerID']\n",
    "master_dataset = fn_set_dtypes(master_dataset,categories_,ints_,floats_,objects_)\n",
    "master_dataset.dtypes"
   ]
  },
  {
   "cell_type": "markdown",
   "metadata": {},
   "source": [
    "## 2. Missing Value Treatment\n",
    "\n",
    "Let's check if any variable has missing values in the dataset and use a correct method to impute.\n",
    "\n",
    "The function fn_get_missing_vals takes a dataframe and returns a dataframe which contains the list of all variables and number of missing values in each variable along with percentages. "
   ]
  },
  {
   "cell_type": "code",
   "execution_count": 82,
   "metadata": {},
   "outputs": [
    {
     "data": {
      "text/html": [
       "<div>\n",
       "<style scoped>\n",
       "    .dataframe tbody tr th:only-of-type {\n",
       "        vertical-align: middle;\n",
       "    }\n",
       "\n",
       "    .dataframe tbody tr th {\n",
       "        vertical-align: top;\n",
       "    }\n",
       "\n",
       "    .dataframe thead th {\n",
       "        text-align: right;\n",
       "    }\n",
       "</style>\n",
       "<table border=\"1\" class=\"dataframe\">\n",
       "  <thead>\n",
       "    <tr style=\"text-align: right;\">\n",
       "      <th></th>\n",
       "      <th>Missing Val Count</th>\n",
       "      <th>Percentage</th>\n",
       "    </tr>\n",
       "  </thead>\n",
       "  <tbody>\n",
       "    <tr>\n",
       "      <th>TotalCharges</th>\n",
       "      <td>11</td>\n",
       "      <td>0.156183</td>\n",
       "    </tr>\n",
       "  </tbody>\n",
       "</table>\n",
       "</div>"
      ],
      "text/plain": [
       "              Missing Val Count  Percentage\n",
       "TotalCharges                 11    0.156183"
      ]
     },
     "execution_count": 82,
     "metadata": {},
     "output_type": "execute_result"
    }
   ],
   "source": [
    "def fn_get_missing_vals(df,cols_):\n",
    "    df=df[cols_]\n",
    "    n_rows = df.shape[0]\n",
    "    miss_val_cnts = df.isna().sum()\n",
    "    miss_vals = pd.DataFrame(miss_val_cnts[miss_val_cnts>0],columns=['Missing Val Count'])\n",
    "    if miss_vals.shape[0]==0:\n",
    "        return \"No Missing Values Found\"\n",
    "    miss_vals['Percentage'] = miss_vals['Missing Val Count']*100/n_rows\n",
    "    return miss_vals\n",
    "\n",
    "fn_get_missing_vals(master_dataset,categories_+ints_+floats_+objects_)"
   ]
  },
  {
   "cell_type": "markdown",
   "metadata": {},
   "source": [
    "### Missing Values in TotalCharges\n",
    "\n",
    "<b> Method 1 : Comparing MonthlyCharges, tenure and TotalCharges variables. </b>"
   ]
  },
  {
   "cell_type": "code",
   "execution_count": 83,
   "metadata": {},
   "outputs": [
    {
     "data": {
      "text/html": [
       "<div>\n",
       "<style scoped>\n",
       "    .dataframe tbody tr th:only-of-type {\n",
       "        vertical-align: middle;\n",
       "    }\n",
       "\n",
       "    .dataframe tbody tr th {\n",
       "        vertical-align: top;\n",
       "    }\n",
       "\n",
       "    .dataframe thead th {\n",
       "        text-align: right;\n",
       "    }\n",
       "</style>\n",
       "<table border=\"1\" class=\"dataframe\">\n",
       "  <thead>\n",
       "    <tr style=\"text-align: right;\">\n",
       "      <th></th>\n",
       "      <th>MonthlyCharges</th>\n",
       "      <th>tenure</th>\n",
       "      <th>TotalCharges</th>\n",
       "      <th>TotalCharges_</th>\n",
       "      <th>TotalCharges_diff</th>\n",
       "    </tr>\n",
       "  </thead>\n",
       "  <tbody>\n",
       "    <tr>\n",
       "      <th>0</th>\n",
       "      <td>29.85</td>\n",
       "      <td>1</td>\n",
       "      <td>29.85</td>\n",
       "      <td>29.85</td>\n",
       "      <td>0.00</td>\n",
       "    </tr>\n",
       "    <tr>\n",
       "      <th>1</th>\n",
       "      <td>56.95</td>\n",
       "      <td>34</td>\n",
       "      <td>1889.50</td>\n",
       "      <td>1936.30</td>\n",
       "      <td>46.80</td>\n",
       "    </tr>\n",
       "    <tr>\n",
       "      <th>2</th>\n",
       "      <td>53.85</td>\n",
       "      <td>2</td>\n",
       "      <td>108.15</td>\n",
       "      <td>107.70</td>\n",
       "      <td>-0.45</td>\n",
       "    </tr>\n",
       "    <tr>\n",
       "      <th>3</th>\n",
       "      <td>42.30</td>\n",
       "      <td>45</td>\n",
       "      <td>1840.75</td>\n",
       "      <td>1903.50</td>\n",
       "      <td>62.75</td>\n",
       "    </tr>\n",
       "    <tr>\n",
       "      <th>4</th>\n",
       "      <td>70.70</td>\n",
       "      <td>2</td>\n",
       "      <td>151.65</td>\n",
       "      <td>141.40</td>\n",
       "      <td>-10.25</td>\n",
       "    </tr>\n",
       "    <tr>\n",
       "      <th>5</th>\n",
       "      <td>99.65</td>\n",
       "      <td>8</td>\n",
       "      <td>820.50</td>\n",
       "      <td>797.20</td>\n",
       "      <td>-23.30</td>\n",
       "    </tr>\n",
       "    <tr>\n",
       "      <th>6</th>\n",
       "      <td>89.10</td>\n",
       "      <td>22</td>\n",
       "      <td>1949.40</td>\n",
       "      <td>1960.20</td>\n",
       "      <td>10.80</td>\n",
       "    </tr>\n",
       "    <tr>\n",
       "      <th>7</th>\n",
       "      <td>29.75</td>\n",
       "      <td>10</td>\n",
       "      <td>301.90</td>\n",
       "      <td>297.50</td>\n",
       "      <td>-4.40</td>\n",
       "    </tr>\n",
       "    <tr>\n",
       "      <th>8</th>\n",
       "      <td>104.80</td>\n",
       "      <td>28</td>\n",
       "      <td>3046.05</td>\n",
       "      <td>2934.40</td>\n",
       "      <td>-111.65</td>\n",
       "    </tr>\n",
       "    <tr>\n",
       "      <th>9</th>\n",
       "      <td>56.15</td>\n",
       "      <td>62</td>\n",
       "      <td>3487.95</td>\n",
       "      <td>3481.30</td>\n",
       "      <td>-6.65</td>\n",
       "    </tr>\n",
       "  </tbody>\n",
       "</table>\n",
       "</div>"
      ],
      "text/plain": [
       "   MonthlyCharges  tenure  TotalCharges  TotalCharges_  TotalCharges_diff\n",
       "0           29.85       1         29.85          29.85               0.00\n",
       "1           56.95      34       1889.50        1936.30              46.80\n",
       "2           53.85       2        108.15         107.70              -0.45\n",
       "3           42.30      45       1840.75        1903.50              62.75\n",
       "4           70.70       2        151.65         141.40             -10.25\n",
       "5           99.65       8        820.50         797.20             -23.30\n",
       "6           89.10      22       1949.40        1960.20              10.80\n",
       "7           29.75      10        301.90         297.50              -4.40\n",
       "8          104.80      28       3046.05        2934.40            -111.65\n",
       "9           56.15      62       3487.95        3481.30              -6.65"
      ]
     },
     "execution_count": 83,
     "metadata": {},
     "output_type": "execute_result"
    }
   ],
   "source": [
    "s = master_dataset[[\"MonthlyCharges\",\"tenure\",\"TotalCharges\"]].copy()\n",
    "s[\"TotalCharges_\"] = s[\"MonthlyCharges\"]*s[\"tenure\"]\n",
    "s[\"TotalCharges_diff\"] = s[\"TotalCharges_\"]-s[\"TotalCharges\"]\n",
    "s.head(10)"
   ]
  },
  {
   "cell_type": "code",
   "execution_count": 84,
   "metadata": {},
   "outputs": [
    {
     "data": {
      "text/html": [
       "<div>\n",
       "<style scoped>\n",
       "    .dataframe tbody tr th:only-of-type {\n",
       "        vertical-align: middle;\n",
       "    }\n",
       "\n",
       "    .dataframe tbody tr th {\n",
       "        vertical-align: top;\n",
       "    }\n",
       "\n",
       "    .dataframe thead th {\n",
       "        text-align: right;\n",
       "    }\n",
       "</style>\n",
       "<table border=\"1\" class=\"dataframe\">\n",
       "  <thead>\n",
       "    <tr style=\"text-align: right;\">\n",
       "      <th></th>\n",
       "      <th>MonthlyCharges</th>\n",
       "      <th>tenure</th>\n",
       "      <th>TotalCharges</th>\n",
       "      <th>TotalCharges_</th>\n",
       "      <th>TotalCharges_diff</th>\n",
       "    </tr>\n",
       "  </thead>\n",
       "  <tbody>\n",
       "    <tr>\n",
       "      <th>count</th>\n",
       "      <td>7043.000000</td>\n",
       "      <td>7043.000000</td>\n",
       "      <td>7032.000000</td>\n",
       "      <td>7043.000000</td>\n",
       "      <td>7032.000000</td>\n",
       "    </tr>\n",
       "    <tr>\n",
       "      <th>mean</th>\n",
       "      <td>64.761692</td>\n",
       "      <td>32.371149</td>\n",
       "      <td>2283.300441</td>\n",
       "      <td>2279.581350</td>\n",
       "      <td>-0.153193</td>\n",
       "    </tr>\n",
       "    <tr>\n",
       "      <th>std</th>\n",
       "      <td>30.090047</td>\n",
       "      <td>24.559481</td>\n",
       "      <td>2266.771362</td>\n",
       "      <td>2264.729447</td>\n",
       "      <td>67.255326</td>\n",
       "    </tr>\n",
       "    <tr>\n",
       "      <th>min</th>\n",
       "      <td>18.250000</td>\n",
       "      <td>0.000000</td>\n",
       "      <td>18.800000</td>\n",
       "      <td>0.000000</td>\n",
       "      <td>-373.250000</td>\n",
       "    </tr>\n",
       "    <tr>\n",
       "      <th>25%</th>\n",
       "      <td>35.500000</td>\n",
       "      <td>9.000000</td>\n",
       "      <td>401.450000</td>\n",
       "      <td>394.000000</td>\n",
       "      <td>-28.700000</td>\n",
       "    </tr>\n",
       "    <tr>\n",
       "      <th>50%</th>\n",
       "      <td>70.350000</td>\n",
       "      <td>29.000000</td>\n",
       "      <td>1397.475000</td>\n",
       "      <td>1393.600000</td>\n",
       "      <td>0.000000</td>\n",
       "    </tr>\n",
       "    <tr>\n",
       "      <th>75%</th>\n",
       "      <td>89.850000</td>\n",
       "      <td>55.000000</td>\n",
       "      <td>3794.737500</td>\n",
       "      <td>3786.100000</td>\n",
       "      <td>28.650000</td>\n",
       "    </tr>\n",
       "    <tr>\n",
       "      <th>max</th>\n",
       "      <td>118.750000</td>\n",
       "      <td>72.000000</td>\n",
       "      <td>8684.800000</td>\n",
       "      <td>8550.000000</td>\n",
       "      <td>370.850000</td>\n",
       "    </tr>\n",
       "  </tbody>\n",
       "</table>\n",
       "</div>"
      ],
      "text/plain": [
       "       MonthlyCharges       tenure  TotalCharges  TotalCharges_  \\\n",
       "count     7043.000000  7043.000000   7032.000000    7043.000000   \n",
       "mean        64.761692    32.371149   2283.300441    2279.581350   \n",
       "std         30.090047    24.559481   2266.771362    2264.729447   \n",
       "min         18.250000     0.000000     18.800000       0.000000   \n",
       "25%         35.500000     9.000000    401.450000     394.000000   \n",
       "50%         70.350000    29.000000   1397.475000    1393.600000   \n",
       "75%         89.850000    55.000000   3794.737500    3786.100000   \n",
       "max        118.750000    72.000000   8684.800000    8550.000000   \n",
       "\n",
       "       TotalCharges_diff  \n",
       "count        7032.000000  \n",
       "mean           -0.153193  \n",
       "std            67.255326  \n",
       "min          -373.250000  \n",
       "25%           -28.700000  \n",
       "50%             0.000000  \n",
       "75%            28.650000  \n",
       "max           370.850000  "
      ]
     },
     "execution_count": 84,
     "metadata": {},
     "output_type": "execute_result"
    }
   ],
   "source": [
    "s.describe()"
   ]
  },
  {
   "cell_type": "code",
   "execution_count": 85,
   "metadata": {},
   "outputs": [
    {
     "data": {
      "text/plain": [
       "5639.444924148121"
      ]
     },
     "execution_count": 85,
     "metadata": {},
     "output_type": "execute_result"
    }
   ],
   "source": [
    "np.sqrt(np.sum(np.square(s[\"TotalCharges_diff\"])))"
   ]
  },
  {
   "cell_type": "markdown",
   "metadata": {},
   "source": [
    "Upon comparing the above values, looks like MonthlyCharges X tenure value is closer to TotalCharges. \n",
    "<br><i>Replacing the missing values with MonthlyCharges*tenure</i>"
   ]
  },
  {
   "cell_type": "code",
   "execution_count": 86,
   "metadata": {},
   "outputs": [],
   "source": [
    "null_index=master_dataset.isna()[\"TotalCharges\"]\n",
    "master_dataset[\"TotalCharges\"].fillna(master_dataset[\"MonthlyCharges\"]*master_dataset[\"tenure\"],inplace=True)"
   ]
  },
  {
   "cell_type": "markdown",
   "metadata": {},
   "source": [
    "<b> Method 2 : Predicting TotalCharges column </b>"
   ]
  },
  {
   "cell_type": "code",
   "execution_count": 87,
   "metadata": {},
   "outputs": [
    {
     "data": {
      "text/plain": [
       "'No Missing Values Found'"
      ]
     },
     "execution_count": 87,
     "metadata": {},
     "output_type": "execute_result"
    }
   ],
   "source": [
    "fn_get_missing_vals(master_dataset,categories_+ints_+floats_+objects_)"
   ]
  },
  {
   "cell_type": "markdown",
   "metadata": {},
   "source": [
    "Looks like we've handled all missing values :)"
   ]
  },
  {
   "cell_type": "markdown",
   "metadata": {},
   "source": [
    "## 3. Class Imbalance"
   ]
  },
  {
   "cell_type": "code",
   "execution_count": 88,
   "metadata": {},
   "outputs": [
    {
     "data": {
      "text/plain": [
       "<matplotlib.axes._subplots.AxesSubplot at 0x1a1699ad30>"
      ]
     },
     "execution_count": 88,
     "metadata": {},
     "output_type": "execute_result"
    },
    {
     "data": {
      "image/png": "[encoded data removed]",
      "text/plain": [
       "<matplotlib.figure.Figure at 0x10e009160>"
      ]
     },
     "metadata": {},
     "output_type": "display_data"
    }
   ],
   "source": [
    "sn.countplot(\"Churn\", data=master_dataset)"
   ]
  },
  {
   "cell_type": "code",
   "execution_count": 89,
   "metadata": {},
   "outputs": [],
   "source": [
    "def fn_get_class_dist(values):\n",
    "    all_cat_dist={}\n",
    "    cat_cnts = values.value_counts()\n",
    "    cat_per = cat_cnts*100/sum(cat_cnts)\n",
    "    for cat_ in cat_cnts.index:\n",
    "        cat_dist={}\n",
    "        cat_dist[\"Count\"]=cat_cnts[cat_]\n",
    "        cat_dist[\"Percentage\"]=cat_per[cat_]\n",
    "        all_cat_dist[cat_]=cat_dist\n",
    "    return all_cat_dist"
   ]
  },
  {
   "cell_type": "code",
   "execution_count": 90,
   "metadata": {
    "scrolled": false
   },
   "outputs": [
    {
     "data": {
      "text/plain": [
       "{'No': {'Count': 5174, 'Percentage': 73.46301292063042},\n",
       " 'Yes': {'Count': 1869, 'Percentage': 26.536987079369588}}"
      ]
     },
     "execution_count": 90,
     "metadata": {},
     "output_type": "execute_result"
    }
   ],
   "source": [
    "fn_get_class_dist(master_dataset[\"Churn\"])"
   ]
  },
  {
   "cell_type": "markdown",
   "metadata": {},
   "source": [
    "No class has 73% data where as yes class has 26% data. Theere is class imbalance in this dataset."
   ]
  },
  {
   "cell_type": "markdown",
   "metadata": {},
   "source": [
    "## 4. Exploratory Data Analysis"
   ]
  },
  {
   "cell_type": "markdown",
   "metadata": {},
   "source": [
    "## 5. Outlier Treatment"
   ]
  },
  {
   "cell_type": "markdown",
   "metadata": {},
   "source": [
    "## 6. Scaling and Encoding \n",
    "\n",
    "- Scaling -- Scaling is used to standardize the range of continous independent variables\n",
    "- Encoding -- Encoding transforms categorical features to a format that works better with classification algorithms.\n",
    "    - Label Encoding - Encode labels with value between 0 and n_classes-1. \n",
    "    - One Hot Encoding - Encode categorical integer features using a one-hot aka one-of-K scheme."
   ]
  },
  {
   "cell_type": "markdown",
   "metadata": {},
   "source": [
    "### 6.1 Scaling Continous variables\n",
    "\n",
    "- Scaling -- Scaling is used to standardize the range of continous independent variables\n",
    "    - Min Max Scaling - The function fn_minMax_scale takes a dafarame as an input and the list of columns to be scaled and returns a dataframe with the new scaled columns. This function uses MinMaxScaler() to scale the data. In MinMax Scaling all the values lie between 0 an 1. \n",
    "    - Standard Scalar - The function fn_SS_scale takes a dafarame as an input and the list of columns to be scaled and returns a dataframe with the new scaled columns. This function uses StandardScaler() to scale the data.  Mean of the varible becomes 0 with a Standard deviation of 1. "
   ]
  },
  {
   "cell_type": "markdown",
   "metadata": {},
   "source": [
    "<b> Min Max Scaling </b>"
   ]
  },
  {
   "cell_type": "code",
   "execution_count": 91,
   "metadata": {
    "scrolled": false
   },
   "outputs": [],
   "source": [
    "def fn_minMax_scale(df,num_cols):\n",
    "    scale_obj = {}\n",
    "    scaled_num_features=[]\n",
    "    for variable_ in num_cols:\n",
    "        mx = MinMaxScaler()\n",
    "        null_index=~df[variable_].isna()\n",
    "        data_=df.loc[null_index,[variable_]]\n",
    "        mx.fit(data_)\n",
    "        df.loc[null_index,\"minMax_\"+variable_]=mx.transform(data_)\n",
    "        scale_obj[variable_]=mx\n",
    "        scaled_num_features.append(\"minMax_\"+variable_)\n",
    "    return df,scaled_num_features,scale_obj"
   ]
  },
  {
   "cell_type": "code",
   "execution_count": 92,
   "metadata": {
    "scrolled": true
   },
   "outputs": [],
   "source": [
    "master_dataset,scaledscaled_mm_nums__mm_nums_,minMax_scale_obj = fn_minMax_scale(master_dataset,ints_+floats_)"
   ]
  },
  {
   "cell_type": "markdown",
   "metadata": {},
   "source": [
    "<b> Standard Scaler </b>"
   ]
  },
  {
   "cell_type": "code",
   "execution_count": 93,
   "metadata": {},
   "outputs": [],
   "source": [
    "def fn_SS_scale(df,num_cols):\n",
    "    scale_obj = {}\n",
    "    scaled_num_features=[]\n",
    "    for variable_ in num_cols:\n",
    "        mx = StandardScaler()\n",
    "        null_index=~df[variable_].isna()\n",
    "        data_=df.loc[null_index,[variable_]]\n",
    "        mx.fit(data_)\n",
    "        df.loc[null_index,\"SS_\"+variable_]=mx.transform(data_)\n",
    "        scale_obj[variable_]=mx\n",
    "        scaled_num_features.append(\"SS_\"+variable_)\n",
    "    return df,scaled_num_features,scale_obj"
   ]
  },
  {
   "cell_type": "code",
   "execution_count": 94,
   "metadata": {},
   "outputs": [],
   "source": [
    "master_dataset,scaled_ss_nums_,SS_scale_obj = fn_SS_scale(master_dataset,ints_+floats_)"
   ]
  },
  {
   "cell_type": "code",
   "execution_count": 95,
   "metadata": {},
   "outputs": [
    {
     "data": {
      "text/html": [
       "<div>\n",
       "<style scoped>\n",
       "    .dataframe tbody tr th:only-of-type {\n",
       "        vertical-align: middle;\n",
       "    }\n",
       "\n",
       "    .dataframe tbody tr th {\n",
       "        vertical-align: top;\n",
       "    }\n",
       "\n",
       "    .dataframe thead th {\n",
       "        text-align: right;\n",
       "    }\n",
       "</style>\n",
       "<table border=\"1\" class=\"dataframe\">\n",
       "  <thead>\n",
       "    <tr style=\"text-align: right;\">\n",
       "      <th></th>\n",
       "      <th>customerID</th>\n",
       "      <th>gender</th>\n",
       "      <th>SeniorCitizen</th>\n",
       "      <th>Partner</th>\n",
       "      <th>Dependents</th>\n",
       "      <th>tenure</th>\n",
       "      <th>PhoneService</th>\n",
       "      <th>MultipleLines</th>\n",
       "      <th>InternetService</th>\n",
       "      <th>OnlineSecurity</th>\n",
       "      <th>OnlineBackup</th>\n",
       "      <th>DeviceProtection</th>\n",
       "      <th>TechSupport</th>\n",
       "      <th>StreamingTV</th>\n",
       "      <th>StreamingMovies</th>\n",
       "      <th>Contract</th>\n",
       "      <th>PaperlessBilling</th>\n",
       "      <th>PaymentMethod</th>\n",
       "      <th>MonthlyCharges</th>\n",
       "      <th>TotalCharges</th>\n",
       "      <th>Churn</th>\n",
       "      <th>minMax_tenure</th>\n",
       "      <th>minMax_MonthlyCharges</th>\n",
       "      <th>minMax_TotalCharges</th>\n",
       "      <th>SS_tenure</th>\n",
       "      <th>SS_MonthlyCharges</th>\n",
       "      <th>SS_TotalCharges</th>\n",
       "    </tr>\n",
       "  </thead>\n",
       "  <tbody>\n",
       "    <tr>\n",
       "      <th>0</th>\n",
       "      <td>7590-VHVEG</td>\n",
       "      <td>Female</td>\n",
       "      <td>0</td>\n",
       "      <td>Yes</td>\n",
       "      <td>No</td>\n",
       "      <td>1</td>\n",
       "      <td>No</td>\n",
       "      <td>No phone service</td>\n",
       "      <td>DSL</td>\n",
       "      <td>No</td>\n",
       "      <td>Yes</td>\n",
       "      <td>No</td>\n",
       "      <td>No</td>\n",
       "      <td>No</td>\n",
       "      <td>No</td>\n",
       "      <td>Month-to-month</td>\n",
       "      <td>Yes</td>\n",
       "      <td>Electronic check</td>\n",
       "      <td>29.85</td>\n",
       "      <td>29.85</td>\n",
       "      <td>No</td>\n",
       "      <td>0.013889</td>\n",
       "      <td>0.115423</td>\n",
       "      <td>0.003437</td>\n",
       "      <td>-1.277445</td>\n",
       "      <td>-1.160323</td>\n",
       "      <td>-0.992611</td>\n",
       "    </tr>\n",
       "    <tr>\n",
       "      <th>1</th>\n",
       "      <td>5575-GNVDE</td>\n",
       "      <td>Male</td>\n",
       "      <td>0</td>\n",
       "      <td>No</td>\n",
       "      <td>No</td>\n",
       "      <td>34</td>\n",
       "      <td>Yes</td>\n",
       "      <td>No</td>\n",
       "      <td>DSL</td>\n",
       "      <td>Yes</td>\n",
       "      <td>No</td>\n",
       "      <td>Yes</td>\n",
       "      <td>No</td>\n",
       "      <td>No</td>\n",
       "      <td>No</td>\n",
       "      <td>One year</td>\n",
       "      <td>No</td>\n",
       "      <td>Mailed check</td>\n",
       "      <td>56.95</td>\n",
       "      <td>1889.50</td>\n",
       "      <td>No</td>\n",
       "      <td>0.472222</td>\n",
       "      <td>0.385075</td>\n",
       "      <td>0.217564</td>\n",
       "      <td>0.066327</td>\n",
       "      <td>-0.259629</td>\n",
       "      <td>-0.172165</td>\n",
       "    </tr>\n",
       "    <tr>\n",
       "      <th>2</th>\n",
       "      <td>3668-QPYBK</td>\n",
       "      <td>Male</td>\n",
       "      <td>0</td>\n",
       "      <td>No</td>\n",
       "      <td>No</td>\n",
       "      <td>2</td>\n",
       "      <td>Yes</td>\n",
       "      <td>No</td>\n",
       "      <td>DSL</td>\n",
       "      <td>Yes</td>\n",
       "      <td>Yes</td>\n",
       "      <td>No</td>\n",
       "      <td>No</td>\n",
       "      <td>No</td>\n",
       "      <td>No</td>\n",
       "      <td>Month-to-month</td>\n",
       "      <td>Yes</td>\n",
       "      <td>Mailed check</td>\n",
       "      <td>53.85</td>\n",
       "      <td>108.15</td>\n",
       "      <td>Yes</td>\n",
       "      <td>0.027778</td>\n",
       "      <td>0.354229</td>\n",
       "      <td>0.012453</td>\n",
       "      <td>-1.236724</td>\n",
       "      <td>-0.362660</td>\n",
       "      <td>-0.958066</td>\n",
       "    </tr>\n",
       "    <tr>\n",
       "      <th>3</th>\n",
       "      <td>7795-CFOCW</td>\n",
       "      <td>Male</td>\n",
       "      <td>0</td>\n",
       "      <td>No</td>\n",
       "      <td>No</td>\n",
       "      <td>45</td>\n",
       "      <td>No</td>\n",
       "      <td>No phone service</td>\n",
       "      <td>DSL</td>\n",
       "      <td>Yes</td>\n",
       "      <td>No</td>\n",
       "      <td>Yes</td>\n",
       "      <td>Yes</td>\n",
       "      <td>No</td>\n",
       "      <td>No</td>\n",
       "      <td>One year</td>\n",
       "      <td>No</td>\n",
       "      <td>Bank transfer (automatic)</td>\n",
       "      <td>42.30</td>\n",
       "      <td>1840.75</td>\n",
       "      <td>No</td>\n",
       "      <td>0.625000</td>\n",
       "      <td>0.239303</td>\n",
       "      <td>0.211951</td>\n",
       "      <td>0.514251</td>\n",
       "      <td>-0.746535</td>\n",
       "      <td>-0.193672</td>\n",
       "    </tr>\n",
       "    <tr>\n",
       "      <th>4</th>\n",
       "      <td>9237-HQITU</td>\n",
       "      <td>Female</td>\n",
       "      <td>0</td>\n",
       "      <td>No</td>\n",
       "      <td>No</td>\n",
       "      <td>2</td>\n",
       "      <td>Yes</td>\n",
       "      <td>No</td>\n",
       "      <td>Fiber optic</td>\n",
       "      <td>No</td>\n",
       "      <td>No</td>\n",
       "      <td>No</td>\n",
       "      <td>No</td>\n",
       "      <td>No</td>\n",
       "      <td>No</td>\n",
       "      <td>Month-to-month</td>\n",
       "      <td>Yes</td>\n",
       "      <td>Electronic check</td>\n",
       "      <td>70.70</td>\n",
       "      <td>151.65</td>\n",
       "      <td>Yes</td>\n",
       "      <td>0.027778</td>\n",
       "      <td>0.521891</td>\n",
       "      <td>0.017462</td>\n",
       "      <td>-1.236724</td>\n",
       "      <td>0.197365</td>\n",
       "      <td>-0.938874</td>\n",
       "    </tr>\n",
       "  </tbody>\n",
       "</table>\n",
       "</div>"
      ],
      "text/plain": [
       "   customerID  gender SeniorCitizen Partner Dependents  tenure PhoneService  \\\n",
       "0  7590-VHVEG  Female             0     Yes         No       1           No   \n",
       "1  5575-GNVDE    Male             0      No         No      34          Yes   \n",
       "2  3668-QPYBK    Male             0      No         No       2          Yes   \n",
       "3  7795-CFOCW    Male             0      No         No      45           No   \n",
       "4  9237-HQITU  Female             0      No         No       2          Yes   \n",
       "\n",
       "      MultipleLines InternetService OnlineSecurity OnlineBackup  \\\n",
       "0  No phone service             DSL             No          Yes   \n",
       "1                No             DSL            Yes           No   \n",
       "2                No             DSL            Yes          Yes   \n",
       "3  No phone service             DSL            Yes           No   \n",
       "4                No     Fiber optic             No           No   \n",
       "\n",
       "  DeviceProtection TechSupport StreamingTV StreamingMovies        Contract  \\\n",
       "0               No          No          No              No  Month-to-month   \n",
       "1              Yes          No          No              No        One year   \n",
       "2               No          No          No              No  Month-to-month   \n",
       "3              Yes         Yes          No              No        One year   \n",
       "4               No          No          No              No  Month-to-month   \n",
       "\n",
       "  PaperlessBilling              PaymentMethod  MonthlyCharges  TotalCharges  \\\n",
       "0              Yes           Electronic check           29.85         29.85   \n",
       "1               No               Mailed check           56.95       1889.50   \n",
       "2              Yes               Mailed check           53.85        108.15   \n",
       "3               No  Bank transfer (automatic)           42.30       1840.75   \n",
       "4              Yes           Electronic check           70.70        151.65   \n",
       "\n",
       "  Churn  minMax_tenure  minMax_MonthlyCharges  minMax_TotalCharges  SS_tenure  \\\n",
       "0    No       0.013889               0.115423             0.003437  -1.277445   \n",
       "1    No       0.472222               0.385075             0.217564   0.066327   \n",
       "2   Yes       0.027778               0.354229             0.012453  -1.236724   \n",
       "3    No       0.625000               0.239303             0.211951   0.514251   \n",
       "4   Yes       0.027778               0.521891             0.017462  -1.236724   \n",
       "\n",
       "   SS_MonthlyCharges  SS_TotalCharges  \n",
       "0          -1.160323        -0.992611  \n",
       "1          -0.259629        -0.172165  \n",
       "2          -0.362660        -0.958066  \n",
       "3          -0.746535        -0.193672  \n",
       "4           0.197365        -0.938874  "
      ]
     },
     "execution_count": 95,
     "metadata": {},
     "output_type": "execute_result"
    }
   ],
   "source": [
    "master_dataset.head()"
   ]
  },
  {
   "cell_type": "markdown",
   "metadata": {},
   "source": [
    "### 6.2  Encoding Categorical Variables\n",
    "- Encoding -- Encoding transforms categorical features to a format that works better with classification algorithms.\n",
    "    - Label Encoding - Encode labels with value between 0 and n_classes-1.  The function fn_label_Enc takes a dataframe as an input and a list of columns to be label encoded and returns the data frame by appeniding the new label encoded columns. \n",
    "    - One Hot Encoding - Encode categorical integer features using a one-hot aka one-of-K scheme."
   ]
  },
  {
   "cell_type": "markdown",
   "metadata": {},
   "source": [
    "<b> Label Encoding </b>"
   ]
  },
  {
   "cell_type": "code",
   "execution_count": 96,
   "metadata": {},
   "outputs": [],
   "source": [
    "def fn_label_Enc(df,cat_cols):\n",
    "    label_enc_obj = {}\n",
    "    labelEnc_features=[]\n",
    "    for variable_ in cat_cols:\n",
    "        le = LabelEncoder()\n",
    "        data_=df[variable_]\n",
    "        le.fit(data_)\n",
    "        df.loc[:,\"LE_\"+variable_]=le.transform(data_)\n",
    "        label_enc_obj[variable_]=le\n",
    "        labelEnc_features.append(\"LE_\"+variable_)\n",
    "    return df,labelEnc_features,label_enc_obj  "
   ]
  },
  {
   "cell_type": "code",
   "execution_count": 97,
   "metadata": {
    "scrolled": false
   },
   "outputs": [
    {
     "data": {
      "text/html": [
       "<div>\n",
       "<style scoped>\n",
       "    .dataframe tbody tr th:only-of-type {\n",
       "        vertical-align: middle;\n",
       "    }\n",
       "\n",
       "    .dataframe tbody tr th {\n",
       "        vertical-align: top;\n",
       "    }\n",
       "\n",
       "    .dataframe thead th {\n",
       "        text-align: right;\n",
       "    }\n",
       "</style>\n",
       "<table border=\"1\" class=\"dataframe\">\n",
       "  <thead>\n",
       "    <tr style=\"text-align: right;\">\n",
       "      <th></th>\n",
       "      <th>customerID</th>\n",
       "      <th>gender</th>\n",
       "      <th>SeniorCitizen</th>\n",
       "      <th>Partner</th>\n",
       "      <th>Dependents</th>\n",
       "      <th>tenure</th>\n",
       "      <th>PhoneService</th>\n",
       "      <th>MultipleLines</th>\n",
       "      <th>InternetService</th>\n",
       "      <th>OnlineSecurity</th>\n",
       "      <th>OnlineBackup</th>\n",
       "      <th>DeviceProtection</th>\n",
       "      <th>TechSupport</th>\n",
       "      <th>StreamingTV</th>\n",
       "      <th>StreamingMovies</th>\n",
       "      <th>Contract</th>\n",
       "      <th>PaperlessBilling</th>\n",
       "      <th>PaymentMethod</th>\n",
       "      <th>MonthlyCharges</th>\n",
       "      <th>TotalCharges</th>\n",
       "      <th>Churn</th>\n",
       "      <th>minMax_tenure</th>\n",
       "      <th>minMax_MonthlyCharges</th>\n",
       "      <th>minMax_TotalCharges</th>\n",
       "      <th>SS_tenure</th>\n",
       "      <th>SS_MonthlyCharges</th>\n",
       "      <th>SS_TotalCharges</th>\n",
       "      <th>LE_gender</th>\n",
       "      <th>LE_SeniorCitizen</th>\n",
       "      <th>LE_Partner</th>\n",
       "      <th>LE_Dependents</th>\n",
       "      <th>LE_PhoneService</th>\n",
       "      <th>LE_MultipleLines</th>\n",
       "      <th>LE_InternetService</th>\n",
       "      <th>LE_OnlineSecurity</th>\n",
       "      <th>LE_OnlineBackup</th>\n",
       "      <th>LE_DeviceProtection</th>\n",
       "      <th>LE_TechSupport</th>\n",
       "      <th>LE_StreamingTV</th>\n",
       "      <th>LE_StreamingMovies</th>\n",
       "      <th>LE_Contract</th>\n",
       "      <th>LE_PaperlessBilling</th>\n",
       "      <th>LE_PaymentMethod</th>\n",
       "      <th>LE_Churn</th>\n",
       "    </tr>\n",
       "  </thead>\n",
       "  <tbody>\n",
       "    <tr>\n",
       "      <th>0</th>\n",
       "      <td>7590-VHVEG</td>\n",
       "      <td>Female</td>\n",
       "      <td>0</td>\n",
       "      <td>Yes</td>\n",
       "      <td>No</td>\n",
       "      <td>1</td>\n",
       "      <td>No</td>\n",
       "      <td>No phone service</td>\n",
       "      <td>DSL</td>\n",
       "      <td>No</td>\n",
       "      <td>Yes</td>\n",
       "      <td>No</td>\n",
       "      <td>No</td>\n",
       "      <td>No</td>\n",
       "      <td>No</td>\n",
       "      <td>Month-to-month</td>\n",
       "      <td>Yes</td>\n",
       "      <td>Electronic check</td>\n",
       "      <td>29.85</td>\n",
       "      <td>29.85</td>\n",
       "      <td>No</td>\n",
       "      <td>0.013889</td>\n",
       "      <td>0.115423</td>\n",
       "      <td>0.003437</td>\n",
       "      <td>-1.277445</td>\n",
       "      <td>-1.160323</td>\n",
       "      <td>-0.992611</td>\n",
       "      <td>0</td>\n",
       "      <td>0</td>\n",
       "      <td>1</td>\n",
       "      <td>0</td>\n",
       "      <td>0</td>\n",
       "      <td>1</td>\n",
       "      <td>0</td>\n",
       "      <td>0</td>\n",
       "      <td>2</td>\n",
       "      <td>0</td>\n",
       "      <td>0</td>\n",
       "      <td>0</td>\n",
       "      <td>0</td>\n",
       "      <td>0</td>\n",
       "      <td>1</td>\n",
       "      <td>2</td>\n",
       "      <td>0</td>\n",
       "    </tr>\n",
       "    <tr>\n",
       "      <th>1</th>\n",
       "      <td>5575-GNVDE</td>\n",
       "      <td>Male</td>\n",
       "      <td>0</td>\n",
       "      <td>No</td>\n",
       "      <td>No</td>\n",
       "      <td>34</td>\n",
       "      <td>Yes</td>\n",
       "      <td>No</td>\n",
       "      <td>DSL</td>\n",
       "      <td>Yes</td>\n",
       "      <td>No</td>\n",
       "      <td>Yes</td>\n",
       "      <td>No</td>\n",
       "      <td>No</td>\n",
       "      <td>No</td>\n",
       "      <td>One year</td>\n",
       "      <td>No</td>\n",
       "      <td>Mailed check</td>\n",
       "      <td>56.95</td>\n",
       "      <td>1889.50</td>\n",
       "      <td>No</td>\n",
       "      <td>0.472222</td>\n",
       "      <td>0.385075</td>\n",
       "      <td>0.217564</td>\n",
       "      <td>0.066327</td>\n",
       "      <td>-0.259629</td>\n",
       "      <td>-0.172165</td>\n",
       "      <td>1</td>\n",
       "      <td>0</td>\n",
       "      <td>0</td>\n",
       "      <td>0</td>\n",
       "      <td>1</td>\n",
       "      <td>0</td>\n",
       "      <td>0</td>\n",
       "      <td>2</td>\n",
       "      <td>0</td>\n",
       "      <td>2</td>\n",
       "      <td>0</td>\n",
       "      <td>0</td>\n",
       "      <td>0</td>\n",
       "      <td>1</td>\n",
       "      <td>0</td>\n",
       "      <td>3</td>\n",
       "      <td>0</td>\n",
       "    </tr>\n",
       "    <tr>\n",
       "      <th>2</th>\n",
       "      <td>3668-QPYBK</td>\n",
       "      <td>Male</td>\n",
       "      <td>0</td>\n",
       "      <td>No</td>\n",
       "      <td>No</td>\n",
       "      <td>2</td>\n",
       "      <td>Yes</td>\n",
       "      <td>No</td>\n",
       "      <td>DSL</td>\n",
       "      <td>Yes</td>\n",
       "      <td>Yes</td>\n",
       "      <td>No</td>\n",
       "      <td>No</td>\n",
       "      <td>No</td>\n",
       "      <td>No</td>\n",
       "      <td>Month-to-month</td>\n",
       "      <td>Yes</td>\n",
       "      <td>Mailed check</td>\n",
       "      <td>53.85</td>\n",
       "      <td>108.15</td>\n",
       "      <td>Yes</td>\n",
       "      <td>0.027778</td>\n",
       "      <td>0.354229</td>\n",
       "      <td>0.012453</td>\n",
       "      <td>-1.236724</td>\n",
       "      <td>-0.362660</td>\n",
       "      <td>-0.958066</td>\n",
       "      <td>1</td>\n",
       "      <td>0</td>\n",
       "      <td>0</td>\n",
       "      <td>0</td>\n",
       "      <td>1</td>\n",
       "      <td>0</td>\n",
       "      <td>0</td>\n",
       "      <td>2</td>\n",
       "      <td>2</td>\n",
       "      <td>0</td>\n",
       "      <td>0</td>\n",
       "      <td>0</td>\n",
       "      <td>0</td>\n",
       "      <td>0</td>\n",
       "      <td>1</td>\n",
       "      <td>3</td>\n",
       "      <td>1</td>\n",
       "    </tr>\n",
       "    <tr>\n",
       "      <th>3</th>\n",
       "      <td>7795-CFOCW</td>\n",
       "      <td>Male</td>\n",
       "      <td>0</td>\n",
       "      <td>No</td>\n",
       "      <td>No</td>\n",
       "      <td>45</td>\n",
       "      <td>No</td>\n",
       "      <td>No phone service</td>\n",
       "      <td>DSL</td>\n",
       "      <td>Yes</td>\n",
       "      <td>No</td>\n",
       "      <td>Yes</td>\n",
       "      <td>Yes</td>\n",
       "      <td>No</td>\n",
       "      <td>No</td>\n",
       "      <td>One year</td>\n",
       "      <td>No</td>\n",
       "      <td>Bank transfer (automatic)</td>\n",
       "      <td>42.30</td>\n",
       "      <td>1840.75</td>\n",
       "      <td>No</td>\n",
       "      <td>0.625000</td>\n",
       "      <td>0.239303</td>\n",
       "      <td>0.211951</td>\n",
       "      <td>0.514251</td>\n",
       "      <td>-0.746535</td>\n",
       "      <td>-0.193672</td>\n",
       "      <td>1</td>\n",
       "      <td>0</td>\n",
       "      <td>0</td>\n",
       "      <td>0</td>\n",
       "      <td>0</td>\n",
       "      <td>1</td>\n",
       "      <td>0</td>\n",
       "      <td>2</td>\n",
       "      <td>0</td>\n",
       "      <td>2</td>\n",
       "      <td>2</td>\n",
       "      <td>0</td>\n",
       "      <td>0</td>\n",
       "      <td>1</td>\n",
       "      <td>0</td>\n",
       "      <td>0</td>\n",
       "      <td>0</td>\n",
       "    </tr>\n",
       "    <tr>\n",
       "      <th>4</th>\n",
       "      <td>9237-HQITU</td>\n",
       "      <td>Female</td>\n",
       "      <td>0</td>\n",
       "      <td>No</td>\n",
       "      <td>No</td>\n",
       "      <td>2</td>\n",
       "      <td>Yes</td>\n",
       "      <td>No</td>\n",
       "      <td>Fiber optic</td>\n",
       "      <td>No</td>\n",
       "      <td>No</td>\n",
       "      <td>No</td>\n",
       "      <td>No</td>\n",
       "      <td>No</td>\n",
       "      <td>No</td>\n",
       "      <td>Month-to-month</td>\n",
       "      <td>Yes</td>\n",
       "      <td>Electronic check</td>\n",
       "      <td>70.70</td>\n",
       "      <td>151.65</td>\n",
       "      <td>Yes</td>\n",
       "      <td>0.027778</td>\n",
       "      <td>0.521891</td>\n",
       "      <td>0.017462</td>\n",
       "      <td>-1.236724</td>\n",
       "      <td>0.197365</td>\n",
       "      <td>-0.938874</td>\n",
       "      <td>0</td>\n",
       "      <td>0</td>\n",
       "      <td>0</td>\n",
       "      <td>0</td>\n",
       "      <td>1</td>\n",
       "      <td>0</td>\n",
       "      <td>1</td>\n",
       "      <td>0</td>\n",
       "      <td>0</td>\n",
       "      <td>0</td>\n",
       "      <td>0</td>\n",
       "      <td>0</td>\n",
       "      <td>0</td>\n",
       "      <td>0</td>\n",
       "      <td>1</td>\n",
       "      <td>2</td>\n",
       "      <td>1</td>\n",
       "    </tr>\n",
       "  </tbody>\n",
       "</table>\n",
       "</div>"
      ],
      "text/plain": [
       "   customerID  gender SeniorCitizen Partner Dependents  tenure PhoneService  \\\n",
       "0  7590-VHVEG  Female             0     Yes         No       1           No   \n",
       "1  5575-GNVDE    Male             0      No         No      34          Yes   \n",
       "2  3668-QPYBK    Male             0      No         No       2          Yes   \n",
       "3  7795-CFOCW    Male             0      No         No      45           No   \n",
       "4  9237-HQITU  Female             0      No         No       2          Yes   \n",
       "\n",
       "      MultipleLines InternetService OnlineSecurity OnlineBackup  \\\n",
       "0  No phone service             DSL             No          Yes   \n",
       "1                No             DSL            Yes           No   \n",
       "2                No             DSL            Yes          Yes   \n",
       "3  No phone service             DSL            Yes           No   \n",
       "4                No     Fiber optic             No           No   \n",
       "\n",
       "  DeviceProtection TechSupport StreamingTV StreamingMovies        Contract  \\\n",
       "0               No          No          No              No  Month-to-month   \n",
       "1              Yes          No          No              No        One year   \n",
       "2               No          No          No              No  Month-to-month   \n",
       "3              Yes         Yes          No              No        One year   \n",
       "4               No          No          No              No  Month-to-month   \n",
       "\n",
       "  PaperlessBilling              PaymentMethod  MonthlyCharges  TotalCharges  \\\n",
       "0              Yes           Electronic check           29.85         29.85   \n",
       "1               No               Mailed check           56.95       1889.50   \n",
       "2              Yes               Mailed check           53.85        108.15   \n",
       "3               No  Bank transfer (automatic)           42.30       1840.75   \n",
       "4              Yes           Electronic check           70.70        151.65   \n",
       "\n",
       "  Churn  minMax_tenure  minMax_MonthlyCharges  minMax_TotalCharges  SS_tenure  \\\n",
       "0    No       0.013889               0.115423             0.003437  -1.277445   \n",
       "1    No       0.472222               0.385075             0.217564   0.066327   \n",
       "2   Yes       0.027778               0.354229             0.012453  -1.236724   \n",
       "3    No       0.625000               0.239303             0.211951   0.514251   \n",
       "4   Yes       0.027778               0.521891             0.017462  -1.236724   \n",
       "\n",
       "   SS_MonthlyCharges  SS_TotalCharges  LE_gender  LE_SeniorCitizen  \\\n",
       "0          -1.160323        -0.992611          0                 0   \n",
       "1          -0.259629        -0.172165          1                 0   \n",
       "2          -0.362660        -0.958066          1                 0   \n",
       "3          -0.746535        -0.193672          1                 0   \n",
       "4           0.197365        -0.938874          0                 0   \n",
       "\n",
       "   LE_Partner  LE_Dependents  LE_PhoneService  LE_MultipleLines  \\\n",
       "0           1              0                0                 1   \n",
       "1           0              0                1                 0   \n",
       "2           0              0                1                 0   \n",
       "3           0              0                0                 1   \n",
       "4           0              0                1                 0   \n",
       "\n",
       "   LE_InternetService  LE_OnlineSecurity  LE_OnlineBackup  \\\n",
       "0                   0                  0                2   \n",
       "1                   0                  2                0   \n",
       "2                   0                  2                2   \n",
       "3                   0                  2                0   \n",
       "4                   1                  0                0   \n",
       "\n",
       "   LE_DeviceProtection  LE_TechSupport  LE_StreamingTV  LE_StreamingMovies  \\\n",
       "0                    0               0               0                   0   \n",
       "1                    2               0               0                   0   \n",
       "2                    0               0               0                   0   \n",
       "3                    2               2               0                   0   \n",
       "4                    0               0               0                   0   \n",
       "\n",
       "   LE_Contract  LE_PaperlessBilling  LE_PaymentMethod  LE_Churn  \n",
       "0            0                    1                 2         0  \n",
       "1            1                    0                 3         0  \n",
       "2            0                    1                 3         1  \n",
       "3            1                    0                 0         0  \n",
       "4            0                    1                 2         1  "
      ]
     },
     "execution_count": 97,
     "metadata": {},
     "output_type": "execute_result"
    }
   ],
   "source": [
    "master_dataset,labEnc_categories_,labEnc_obj = fn_label_Enc(master_dataset,categories_)\n",
    "master_dataset.head()"
   ]
  },
  {
   "cell_type": "markdown",
   "metadata": {},
   "source": [
    "## 6. Train Test Split\n",
    "\n",
    "The function fn_train_test_split takes a dataframe as an input and a list of target variables and returns 4 dataframes - X Train , X Test, Y Train and Y Test. "
   ]
  },
  {
   "cell_type": "code",
   "execution_count": 98,
   "metadata": {},
   "outputs": [
    {
     "name": "stdout",
     "output_type": "stream",
     "text": [
      " X Shape :  (7043, 42)\n",
      " X Train Shape :  (5282, 42)\n",
      " X Test Shape :  (1761, 42)\n",
      " Y Shape :  (7043, 2)\n",
      " Y Train Shape :  (5282, 2)\n",
      " Y Test Shape :  (1761, 2)\n"
     ]
    }
   ],
   "source": [
    "def fn_train_test_split(input_df,target):\n",
    "    X = input_df.drop(target,axis=1)\n",
    "    y = input_df[target]\n",
    "    X_train, X_test, y_train, y_test = train_test_split(X, y, random_state = 120)\n",
    "    print(\" X Shape : \",X.shape)\n",
    "    print(\" X Train Shape : \",X_train.shape)\n",
    "    print(\" X Test Shape : \",X_test.shape)\n",
    "    print(\" Y Shape : \",y.shape)\n",
    "    print(\" Y Train Shape : \",y_train.shape)\n",
    "    print(\" Y Test Shape : \",y_test.shape)\n",
    "    return X,y,X_train,X_test,y_train,y_test\n",
    "\n",
    "X,Y,X_train,X_test,y_train,y_test = fn_train_test_split(master_dataset,[\"Churn\",\"LE_Churn\"])"
   ]
  },
  {
   "cell_type": "markdown",
   "metadata": {},
   "source": [
    "## 7. Predictive Modelling\n",
    "\n",
    "As the dataset is now all ready, we can start building predictive models.\n",
    "- Each model has the following sections. \n",
    "    - Finalise Variables\n",
    "    - Model Train\n",
    "    - Prediction\n",
    "        - Train Prediction\n",
    "        - Test Prediction\n",
    "    - Evaluation\n",
    "        - Train Evaluation\n",
    "        - Test Evaluation\n",
    "    - Cross Validation\n",
    "- The following models are built. \n",
    "    - Decison Trees\n",
    "    - Random Forest\n",
    "    - Bagging\n",
    "    - Boosting"
   ]
  },
  {
   "cell_type": "markdown",
   "metadata": {},
   "source": [
    "### 7.1 Decison Tree"
   ]
  },
  {
   "cell_type": "markdown",
   "metadata": {},
   "source": [
    "#### 7.1.1 Finalise Variables"
   ]
  },
  {
   "cell_type": "code",
   "execution_count": 99,
   "metadata": {},
   "outputs": [],
   "source": [
    "input_var = labEnc_categories_+ints_+floats_\n",
    "input_var.remove(\"LE_Churn\")\n",
    "target_ = \"LE_Churn\""
   ]
  },
  {
   "cell_type": "markdown",
   "metadata": {},
   "source": [
    "#### 7.1.2 Model Train "
   ]
  },
  {
   "cell_type": "code",
   "execution_count": 100,
   "metadata": {},
   "outputs": [],
   "source": [
    "dtree = DecisionTreeClassifier(min_samples_split=20,\n",
    "                                     max_leaf_nodes=15,\n",
    "                                     min_samples_leaf=10)\n",
    "dtree_model = dtree.fit(X_train[input_var], y_train[target_])"
   ]
  },
  {
   "cell_type": "code",
   "execution_count": 101,
   "metadata": {},
   "outputs": [
    {
     "data": {
      "text/plain": [
       "DecisionTreeClassifier(class_weight=None, criterion='gini', max_depth=None,\n",
       "            max_features=None, max_leaf_nodes=15,\n",
       "            min_impurity_decrease=0.0, min_impurity_split=None,\n",
       "            min_samples_leaf=10, min_samples_split=20,\n",
       "            min_weight_fraction_leaf=0.0, presort=False, random_state=None,\n",
       "            splitter='best')"
      ]
     },
     "execution_count": 101,
     "metadata": {},
     "output_type": "execute_result"
    }
   ],
   "source": [
    "dtree_model"
   ]
  },
  {
   "cell_type": "code",
   "execution_count": 102,
   "metadata": {},
   "outputs": [
    {
     "data": {
      "text/html": [
       "<div>\n",
       "<style scoped>\n",
       "    .dataframe tbody tr th:only-of-type {\n",
       "        vertical-align: middle;\n",
       "    }\n",
       "\n",
       "    .dataframe tbody tr th {\n",
       "        vertical-align: top;\n",
       "    }\n",
       "\n",
       "    .dataframe thead th {\n",
       "        text-align: right;\n",
       "    }\n",
       "</style>\n",
       "<table border=\"1\" class=\"dataframe\">\n",
       "  <thead>\n",
       "    <tr style=\"text-align: right;\">\n",
       "      <th></th>\n",
       "      <th>0</th>\n",
       "    </tr>\n",
       "  </thead>\n",
       "  <tbody>\n",
       "    <tr>\n",
       "      <th>LE_Contract</th>\n",
       "      <td>0.555042</td>\n",
       "    </tr>\n",
       "    <tr>\n",
       "      <th>tenure</th>\n",
       "      <td>0.146082</td>\n",
       "    </tr>\n",
       "    <tr>\n",
       "      <th>LE_OnlineSecurity</th>\n",
       "      <td>0.141128</td>\n",
       "    </tr>\n",
       "    <tr>\n",
       "      <th>LE_InternetService</th>\n",
       "      <td>0.080448</td>\n",
       "    </tr>\n",
       "    <tr>\n",
       "      <th>MonthlyCharges</th>\n",
       "      <td>0.042374</td>\n",
       "    </tr>\n",
       "    <tr>\n",
       "      <th>TotalCharges</th>\n",
       "      <td>0.022515</td>\n",
       "    </tr>\n",
       "    <tr>\n",
       "      <th>LE_StreamingMovies</th>\n",
       "      <td>0.012411</td>\n",
       "    </tr>\n",
       "    <tr>\n",
       "      <th>LE_StreamingTV</th>\n",
       "      <td>0.000000</td>\n",
       "    </tr>\n",
       "    <tr>\n",
       "      <th>LE_PaymentMethod</th>\n",
       "      <td>0.000000</td>\n",
       "    </tr>\n",
       "    <tr>\n",
       "      <th>LE_PaperlessBilling</th>\n",
       "      <td>0.000000</td>\n",
       "    </tr>\n",
       "    <tr>\n",
       "      <th>LE_gender</th>\n",
       "      <td>0.000000</td>\n",
       "    </tr>\n",
       "    <tr>\n",
       "      <th>LE_TechSupport</th>\n",
       "      <td>0.000000</td>\n",
       "    </tr>\n",
       "    <tr>\n",
       "      <th>LE_SeniorCitizen</th>\n",
       "      <td>0.000000</td>\n",
       "    </tr>\n",
       "    <tr>\n",
       "      <th>LE_OnlineBackup</th>\n",
       "      <td>0.000000</td>\n",
       "    </tr>\n",
       "    <tr>\n",
       "      <th>LE_MultipleLines</th>\n",
       "      <td>0.000000</td>\n",
       "    </tr>\n",
       "    <tr>\n",
       "      <th>LE_PhoneService</th>\n",
       "      <td>0.000000</td>\n",
       "    </tr>\n",
       "    <tr>\n",
       "      <th>LE_Dependents</th>\n",
       "      <td>0.000000</td>\n",
       "    </tr>\n",
       "    <tr>\n",
       "      <th>LE_Partner</th>\n",
       "      <td>0.000000</td>\n",
       "    </tr>\n",
       "    <tr>\n",
       "      <th>LE_DeviceProtection</th>\n",
       "      <td>0.000000</td>\n",
       "    </tr>\n",
       "  </tbody>\n",
       "</table>\n",
       "</div>"
      ],
      "text/plain": [
       "                            0\n",
       "LE_Contract          0.555042\n",
       "tenure               0.146082\n",
       "LE_OnlineSecurity    0.141128\n",
       "LE_InternetService   0.080448\n",
       "MonthlyCharges       0.042374\n",
       "TotalCharges         0.022515\n",
       "LE_StreamingMovies   0.012411\n",
       "LE_StreamingTV       0.000000\n",
       "LE_PaymentMethod     0.000000\n",
       "LE_PaperlessBilling  0.000000\n",
       "LE_gender            0.000000\n",
       "LE_TechSupport       0.000000\n",
       "LE_SeniorCitizen     0.000000\n",
       "LE_OnlineBackup      0.000000\n",
       "LE_MultipleLines     0.000000\n",
       "LE_PhoneService      0.000000\n",
       "LE_Dependents        0.000000\n",
       "LE_Partner           0.000000\n",
       "LE_DeviceProtection  0.000000"
      ]
     },
     "execution_count": 102,
     "metadata": {},
     "output_type": "execute_result"
    }
   ],
   "source": [
    "pd.DataFrame(dtree_model.feature_importances_,index=input_var).sort_values(0, ascending=False)"
   ]
  },
  {
   "cell_type": "markdown",
   "metadata": {},
   "source": [
    "#### 7.1.3 Prediction"
   ]
  },
  {
   "cell_type": "code",
   "execution_count": 103,
   "metadata": {},
   "outputs": [],
   "source": [
    "dtree_predictions_test = dtree_model.predict(X_test[input_var])\n",
    "dtree_predictions_train = dtree_model.predict(X_train[input_var])"
   ]
  },
  {
   "cell_type": "markdown",
   "metadata": {},
   "source": [
    "#### 7.1.4 Evaluation\n",
    "\n",
    "<b> Accuracy:</b> Overall, how often is the classifier correct?<br>\n",
    "(TP+TN)/total<br>\n",
    "<b>Misclassification Rate::</b> Overall, how often is it wrong?<br>\n",
    "(FP+FN)/total<br>\n",
    "equivalent to 1 minus Accuracy also known as \"Error Rate\"<br>\n",
    "<b>True Positive Rate::</b> When it's actually yes, how often does it predict yes?<br>\n",
    "TP/actual yes<br>\n",
    "also known as \"Sensitivity\" or \"Recall\"<br>\n",
    "<b>False Positive Rate::</b> When it's actually no, how often does it predict yes?<br>\n",
    "FP/actual no <br>\n",
    "<b>Specificity: :</b>When it's actually no, how often does it predict no?<br>\n",
    "TN/actual no <br>\n",
    "equivalent to 1 minus False Positive Rate<br>\n",
    "<b>Precision::</b> When it predicts yes, how often is it correct?<br>\n",
    "TP/predicted yes <br>\n",
    "<b>Prevalence: :</b>How often does the yes condition actually occur in our sample?<br>\n",
    "actual yes/total<br>"
   ]
  },
  {
   "cell_type": "code",
   "execution_count": 104,
   "metadata": {},
   "outputs": [],
   "source": [
    "def fn_get_classification_report(actuals,preds):\n",
    "    classificaiton_report = classification_report(actuals,preds)\n",
    "    conf_mat = confusion_matrix(actuals,preds)\n",
    "    return classificaiton_report,conf_mat"
   ]
  },
  {
   "cell_type": "code",
   "execution_count": 145,
   "metadata": {},
   "outputs": [],
   "source": [
    "def fn_get_metrics(confusion_matrix):\n",
    "    tru_pos = confusion_matrix[1][1]\n",
    "    tru_neg = confusion_matrix[0][0]\n",
    "    fals_pos = confusion_matrix[0][1]\n",
    "    fals_neg = confusion_matrix[1][0]\n",
    "    \n",
    "    if tru_pos+tru_neg+fals_pos+fals_neg == 0:\n",
    "        accuracy = -1\n",
    "    else:\n",
    "        accuracy = (tru_pos+tru_neg)/(tru_pos+tru_neg+fals_pos+fals_neg)\n",
    "        \n",
    "    if tru_pos+fals_pos == 0:\n",
    "        precision = -1\n",
    "    else:\n",
    "        precision = tru_pos /(tru_pos+fals_pos)\n",
    "        \n",
    "    if tru_pos+fals_neg == 0:\n",
    "        recall = -1\n",
    "    else:\n",
    "        recall = tru_pos/(tru_pos+fals_neg)\n",
    "        \n",
    "    if precision+recall == 0:\n",
    "        f1_score = -1\n",
    "    else:\n",
    "        f1_score = 2*precision*recall/(precision+recall)\n",
    "        \n",
    "    accuracy = round(accuracy,3)\n",
    "    precision = round(precision,3)\n",
    "    recall = round(recall,3)\n",
    "    f1_score = round(f1_score,3)\n",
    "    \n",
    "    metrics = {\"0 True Positive\":tru_pos,\n",
    "               \"1 True Negative\":tru_neg,\n",
    "               \"2 False Positive\":fals_pos,\n",
    "               \"3 False Negative\":fals_neg,\n",
    "               \"4 Accuracy\":accuracy,\n",
    "               \"5 Precision\":precision,\n",
    "               \"6 Recall\":recall,\n",
    "               \"7 F1 Score\":f1_score\n",
    "              }\n",
    "\n",
    "    return metrics"
   ]
  },
  {
   "cell_type": "markdown",
   "metadata": {},
   "source": [
    "<b> Train Dataset </b>"
   ]
  },
  {
   "cell_type": "code",
   "execution_count": 106,
   "metadata": {},
   "outputs": [],
   "source": [
    "dtree_classificaiton_report_train,conufsion_matrix_train=fn_get_classification_report(\n",
    "    y_train[target_],\n",
    "    dtree_predictions_train)"
   ]
  },
  {
   "cell_type": "code",
   "execution_count": 107,
   "metadata": {},
   "outputs": [
    {
     "name": "stdout",
     "output_type": "stream",
     "text": [
      "             precision    recall  f1-score   support\n",
      "\n",
      "          0       0.83      0.93      0.88      3883\n",
      "          1       0.70      0.47      0.56      1399\n",
      "\n",
      "avg / total       0.79      0.81      0.79      5282\n",
      "\n"
     ]
    }
   ],
   "source": [
    "print(dtree_classificaiton_report_train)"
   ]
  },
  {
   "cell_type": "code",
   "execution_count": 108,
   "metadata": {},
   "outputs": [
    {
     "data": {
      "text/plain": [
       "array([[3599,  284],\n",
       "       [ 742,  657]])"
      ]
     },
     "execution_count": 108,
     "metadata": {},
     "output_type": "execute_result"
    }
   ],
   "source": [
    "conufsion_matrix_train"
   ]
  },
  {
   "cell_type": "code",
   "execution_count": 109,
   "metadata": {
    "scrolled": false
   },
   "outputs": [
    {
     "data": {
      "text/plain": [
       "{'0 True Positive': 657,\n",
       " '1 True Negative': 3599,\n",
       " '2 False Positive': 284,\n",
       " '3 False Negative': 742,\n",
       " '4 Accuracy': 0.806,\n",
       " '5 Precision': 0.698,\n",
       " '6 Recall': 0.47,\n",
       " '7 F1 Score': 0.562}"
      ]
     },
     "execution_count": 109,
     "metadata": {},
     "output_type": "execute_result"
    }
   ],
   "source": [
    "fn_get_metrics(conufsion_matrix_train)"
   ]
  },
  {
   "cell_type": "markdown",
   "metadata": {},
   "source": [
    "<b> Test Dataset</b>"
   ]
  },
  {
   "cell_type": "code",
   "execution_count": 110,
   "metadata": {},
   "outputs": [],
   "source": [
    "dtree_classificaiton_report_test,conufsion_matrix_test=fn_get_classification_report(\n",
    "    y_test[target_],\n",
    "    dtree_predictions_test)"
   ]
  },
  {
   "cell_type": "code",
   "execution_count": 111,
   "metadata": {},
   "outputs": [
    {
     "name": "stdout",
     "output_type": "stream",
     "text": [
      "             precision    recall  f1-score   support\n",
      "\n",
      "          0       0.81      0.93      0.87      1291\n",
      "          1       0.68      0.41      0.51       470\n",
      "\n",
      "avg / total       0.78      0.79      0.77      1761\n",
      "\n"
     ]
    }
   ],
   "source": [
    "print(dtree_classificaiton_report_test)"
   ]
  },
  {
   "cell_type": "code",
   "execution_count": 112,
   "metadata": {},
   "outputs": [
    {
     "data": {
      "text/plain": [
       "array([[1201,   90],\n",
       "       [ 278,  192]])"
      ]
     },
     "execution_count": 112,
     "metadata": {},
     "output_type": "execute_result"
    }
   ],
   "source": [
    "conufsion_matrix_test"
   ]
  },
  {
   "cell_type": "code",
   "execution_count": 113,
   "metadata": {
    "scrolled": false
   },
   "outputs": [
    {
     "data": {
      "text/plain": [
       "{'0 True Positive': 192,\n",
       " '1 True Negative': 1201,\n",
       " '2 False Positive': 90,\n",
       " '3 False Negative': 278,\n",
       " '4 Accuracy': 0.791,\n",
       " '5 Precision': 0.681,\n",
       " '6 Recall': 0.409,\n",
       " '7 F1 Score': 0.511}"
      ]
     },
     "execution_count": 113,
     "metadata": {},
     "output_type": "execute_result"
    }
   ],
   "source": [
    "fn_get_metrics(conufsion_matrix_test)"
   ]
  },
  {
   "cell_type": "markdown",
   "metadata": {},
   "source": [
    "#### 7.1.5 Cross Validation"
   ]
  },
  {
   "cell_type": "markdown",
   "metadata": {},
   "source": [
    "<b>K Fold Cross Validation </b>"
   ]
  },
  {
   "cell_type": "code",
   "execution_count": 114,
   "metadata": {},
   "outputs": [
    {
     "data": {
      "text/plain": [
       "KFold(n_splits=5, random_state=True, shuffle=False)"
      ]
     },
     "execution_count": 114,
     "metadata": {},
     "output_type": "execute_result"
    }
   ],
   "source": [
    "folds = KFold(n_splits=5,random_state=True)\n",
    "folds"
   ]
  },
  {
   "cell_type": "code",
   "execution_count": 115,
   "metadata": {},
   "outputs": [],
   "source": [
    "def fn_kFold_CV(folds,X,Y,input_var,target_):\n",
    "    i=1\n",
    "    for train_index, test_index in folds.split(X):\n",
    "        print(\"Fold \",i)\n",
    "        X_train = X.loc[train_index,input_var]\n",
    "        X_test = X.loc[test_index,input_var]\n",
    "        y_train = Y.loc[train_index,target_]\n",
    "        y_test = Y.loc[test_index,target_]\n",
    "\n",
    "        dtree_model = dtree.fit(X_train, y_train)\n",
    "        dtree_predictions_train = dtree_model.predict(X_train)\n",
    "        dtree_predictions_test = dtree_model.predict(X_test)\n",
    "\n",
    "        dtree_classificaiton_report_train,conufsion_matrix_train=fn_get_classification_report(\n",
    "        y_train,\n",
    "        dtree_predictions_train)\n",
    "\n",
    "        dtree_classificaiton_report_test,conufsion_matrix_test=fn_get_classification_report(\n",
    "        y_test,\n",
    "        dtree_predictions_test)\n",
    "\n",
    "        train_metrics = fn_get_metrics(conufsion_matrix_train)\n",
    "        test_metrics = fn_get_metrics(conufsion_matrix_test)\n",
    "\n",
    "        metrics = [train_metrics,test_metrics]\n",
    "        for metrics_ in metrics:\n",
    "            print(\"Metrics : Accuracy - \",metrics_['4 Accuracy'],\n",
    "              \" Precision - \",metrics_['5 Precision'],\n",
    "              \"Recall - \",metrics_['6 Recall'],\n",
    "                  \"F1 Score - \",metrics_['7 F1 Score'])    \n",
    "\n",
    "        i=i+1"
   ]
  },
  {
   "cell_type": "code",
   "execution_count": 116,
   "metadata": {},
   "outputs": [
    {
     "name": "stdout",
     "output_type": "stream",
     "text": [
      "Fold  1\n",
      "Metrics : Accuracy -  0.799  Precision -  0.672 Recall -  0.476 F1 Score -  0.557\n",
      "Metrics : Accuracy -  0.793  Precision -  0.646 Recall -  0.485 F1 Score -  0.554\n",
      "Fold  2\n",
      "Metrics : Accuracy -  0.799  Precision -  0.684 Recall -  0.459 F1 Score -  0.55\n",
      "Metrics : Accuracy -  0.791  Precision -  0.636 Recall -  0.442 F1 Score -  0.522\n",
      "Fold  3\n",
      "Metrics : Accuracy -  0.8  Precision -  0.698 Recall -  0.437 F1 Score -  0.537\n",
      "Metrics : Accuracy -  0.776  Precision -  0.614 Recall -  0.392 F1 Score -  0.479\n",
      "Fold  4\n",
      "Metrics : Accuracy -  0.799  Precision -  0.736 Recall -  0.37 F1 Score -  0.492\n",
      "Metrics : Accuracy -  0.786  Precision -  0.715 Recall -  0.348 F1 Score -  0.468\n",
      "Fold  5\n",
      "Metrics : Accuracy -  0.798  Precision -  0.666 Recall -  0.473 F1 Score -  0.554\n",
      "Metrics : Accuracy -  0.802  Precision -  0.698 Recall -  0.468 F1 Score -  0.561\n"
     ]
    }
   ],
   "source": [
    "fn_kFold_CV(folds,X,Y,input_var,target_)"
   ]
  },
  {
   "cell_type": "markdown",
   "metadata": {},
   "source": [
    "<b> Corss Val Score </b>"
   ]
  },
  {
   "cell_type": "code",
   "execution_count": 117,
   "metadata": {},
   "outputs": [
    {
     "name": "stdout",
     "output_type": "stream",
     "text": [
      "Precision: 0.66 (+/- 0.08)\n"
     ]
    }
   ],
   "source": [
    "dtree_crossVal_scores = cross_val_score(dtree, master_dataset[input_var], \n",
    "                                        master_dataset[target_], cv=5, scoring='precision')\n",
    "# print(dtree_crossVal_scores)\n",
    "print(\"Precision: %0.2f (+/- %0.2f)\" % (dtree_crossVal_scores.mean(), dtree_crossVal_scores.std() * 2))"
   ]
  },
  {
   "cell_type": "markdown",
   "metadata": {},
   "source": [
    "<b>Stratified k-fold cross validation</b>"
   ]
  },
  {
   "cell_type": "code",
   "execution_count": 118,
   "metadata": {},
   "outputs": [
    {
     "data": {
      "text/plain": [
       "StratifiedKFold(n_splits=5, random_state=None, shuffle=True)"
      ]
     },
     "execution_count": 118,
     "metadata": {},
     "output_type": "execute_result"
    }
   ],
   "source": [
    "folds = StratifiedKFold(n_splits=5,random_state=None,shuffle=True)\n",
    "folds"
   ]
  },
  {
   "cell_type": "code",
   "execution_count": 119,
   "metadata": {},
   "outputs": [],
   "source": [
    "def fn_strat_KFold(folds,X,Y,input_var,target_):\n",
    "    i=1\n",
    "    for train_index, test_index in folds.split(master_dataset[input_var],master_dataset[target_]):\n",
    "        print(\"Fold \",i)\n",
    "        X_train = X.loc[train_index,input_var]\n",
    "        X_test = X.loc[test_index,input_var]\n",
    "        y_train = Y.loc[train_index,target_]\n",
    "        y_test = Y.loc[test_index,target_]\n",
    "\n",
    "        dtree_model = dtree.fit(X_train, y_train)\n",
    "        dtree_predictions_train = dtree_model.predict(X_train)\n",
    "        dtree_predictions_test = dtree_model.predict(X_test)\n",
    "\n",
    "        dtree_classificaiton_report_train,conufsion_matrix_train=fn_get_classification_report(\n",
    "        y_train,\n",
    "        dtree_predictions_train)\n",
    "\n",
    "        dtree_classificaiton_report_test,conufsion_matrix_test=fn_get_classification_report(\n",
    "        y_test,\n",
    "        dtree_predictions_test)\n",
    "\n",
    "        train_metrics = fn_get_metrics(conufsion_matrix_train)\n",
    "        test_metrics = fn_get_metrics(conufsion_matrix_test)\n",
    "\n",
    "        metrics = [train_metrics,test_metrics]\n",
    "        for metrics_ in metrics:\n",
    "            print(\"Metrics : Accuracy - \",metrics_['4 Accuracy'],\n",
    "              \" Precision - \",metrics_['5 Precision'],\n",
    "              \"Recall - \",metrics_['6 Recall'],\n",
    "                  \"F1 Score - \",metrics_['7 F1 Score'])    \n",
    "\n",
    "        i=i+1"
   ]
  },
  {
   "cell_type": "code",
   "execution_count": 120,
   "metadata": {},
   "outputs": [
    {
     "name": "stdout",
     "output_type": "stream",
     "text": [
      "Fold  1\n",
      "Metrics : Accuracy -  0.801  Precision -  0.672 Recall -  0.49 F1 Score -  0.567\n",
      "Metrics : Accuracy -  0.789  Precision -  0.644 Recall -  0.46 F1 Score -  0.537\n",
      "Fold  2\n",
      "Metrics : Accuracy -  0.799  Precision -  0.66 Recall -  0.499 F1 Score -  0.568\n",
      "Metrics : Accuracy -  0.799  Precision -  0.672 Recall -  0.476 F1 Score -  0.557\n",
      "Fold  3\n",
      "Metrics : Accuracy -  0.802  Precision -  0.673 Recall -  0.495 F1 Score -  0.571\n",
      "Metrics : Accuracy -  0.798  Precision -  0.661 Recall -  0.489 F1 Score -  0.562\n",
      "Fold  4\n",
      "Metrics : Accuracy -  0.797  Precision -  0.688 Recall -  0.434 F1 Score -  0.532\n",
      "Metrics : Accuracy -  0.792  Precision -  0.672 Recall -  0.422 F1 Score -  0.519\n",
      "Fold  5\n",
      "Metrics : Accuracy -  0.803  Precision -  0.743 Recall -  0.392 F1 Score -  0.513\n",
      "Metrics : Accuracy -  0.792  Precision -  0.688 Recall -  0.397 F1 Score -  0.503\n"
     ]
    }
   ],
   "source": [
    "fn_strat_KFold(folds,X,Y,input_var,target_)"
   ]
  },
  {
   "cell_type": "markdown",
   "metadata": {},
   "source": [
    "### 7.2 Decison Tree - Probabalities\n",
    "\n",
    "In the model we'll try to predict the probalities of a customer churn and try to choose a cutoff value based on ROC curve."
   ]
  },
  {
   "cell_type": "markdown",
   "metadata": {},
   "source": [
    "#### 7.2.1 Model Train "
   ]
  },
  {
   "cell_type": "code",
   "execution_count": 121,
   "metadata": {},
   "outputs": [
    {
     "name": "stdout",
     "output_type": "stream",
     "text": [
      " X Shape :  (7043, 42)\n",
      " X Train Shape :  (5282, 42)\n",
      " X Test Shape :  (1761, 42)\n",
      " Y Shape :  (7043, 2)\n",
      " Y Train Shape :  (5282, 2)\n",
      " Y Test Shape :  (1761, 2)\n"
     ]
    }
   ],
   "source": [
    "X,Y,X_train,X_test,y_train,y_test = fn_train_test_split(master_dataset,[\"Churn\",\"LE_Churn\"])\n",
    "dtree_model = dtree.fit(X_train[input_var], y_train[target_])"
   ]
  },
  {
   "cell_type": "markdown",
   "metadata": {},
   "source": [
    "#### 7.2.3 Prediction"
   ]
  },
  {
   "cell_type": "code",
   "execution_count": 122,
   "metadata": {},
   "outputs": [],
   "source": [
    "dtree_predictions_test = dtree_model.predict_proba(X_test[input_var])\n",
    "dtree_predictions_train = dtree_model.predict_proba(X_train[input_var])"
   ]
  },
  {
   "cell_type": "markdown",
   "metadata": {},
   "source": [
    "<b> Choosing appropraite cut-off value - Method 1 </b>\n",
    "In this method, we try to plot the ditributions of each class and decide the best cut-off value. "
   ]
  },
  {
   "cell_type": "code",
   "execution_count": 123,
   "metadata": {},
   "outputs": [
    {
     "data": {
      "text/plain": [
       "Text(0,0.5,'Density')"
      ]
     },
     "execution_count": 123,
     "metadata": {},
     "output_type": "execute_result"
    },
    {
     "data": {
      "image/png": "[encoded data removed]",
      "text/plain": [
       "<matplotlib.figure.Figure at 0x1a16375780>"
      ]
     },
     "metadata": {},
     "output_type": "display_data"
    }
   ],
   "source": [
    "fig, ax = plt.subplots(figsize=(10,5))\n",
    "g = sn.distplot(dtree_predictions_train[y_train[target_]==0,1],ax=ax)\n",
    "g = sn.distplot(dtree_predictions_train[y_train[target_]==1,1],ax=ax)\n",
    "g.set_title(\"Probablities vs Churn\")\n",
    "g.set_xlabel(\"Probability\")\n",
    "g.set_ylabel(\"Density\")"
   ]
  },
  {
   "cell_type": "markdown",
   "metadata": {},
   "source": [
    "As the probability values increases, a csutomer is likely to churn. Comparing the distributions of class 0 and 1, we can conlude that, the customers who do not churn is decreasing after 0.3 and most of the customers who churned are below 0.3. Setting the cutoff value to 0.3 could be a better apporach. "
   ]
  },
  {
   "cell_type": "markdown",
   "metadata": {},
   "source": [
    "<b> Choosing appropraite cut-off value - Method 2 - ROC Curve </b><br>\n",
    "ROC curve’s purpose is used to visualize and quantify the tradeoff we’re making between the true positive rate (TPR) and false positive rate (FPR) measures. This curve is created by plotting the true positive rate (TPR) on the y axis against the false positive rate (FPR) on the x axis at various cutoff settings ( between 0 and 1 ).\n",
    "\n",
    "The ROC curve does this by plotting sensitivity, the probability of predicting a real positive will be a positive(TPR), against 1-specificity, the probability of predicting a real negative will be a positive(FPR)."
   ]
  },
  {
   "cell_type": "code",
   "execution_count": 124,
   "metadata": {},
   "outputs": [],
   "source": [
    "fpr, tpr, threshold = roc_curve(y_train[target_], dtree_predictions_train[:, 1])\n",
    "roc_auc = auc(fpr, tpr)"
   ]
  },
  {
   "cell_type": "code",
   "execution_count": 138,
   "metadata": {
    "scrolled": false
   },
   "outputs": [
    {
     "name": "stdout",
     "output_type": "stream",
     "text": [
      "AUC Value  0.837717220847016\n",
      "Thresholds  [1.86982249 0.86982249 0.71698113 0.68770764 0.68421053 0.59210526\n",
      " 0.42495784 0.4109589  0.38028169 0.37931034 0.27210884 0.23255814\n",
      " 0.22801303 0.14236111 0.11748634 0.03747204]\n"
     ]
    },
    {
     "data": {
      "image/png": "[encoded data removed]",
      "text/plain": [
       "<matplotlib.figure.Figure at 0x1a167eae10>"
      ]
     },
     "metadata": {},
     "output_type": "display_data"
    }
   ],
   "source": [
    "plt.step(fpr,tpr,marker='*')\n",
    "plt.plot([0, 1], [0, 1], linestyle='--')\n",
    "plt.ylabel('True Positive Rate(Sensitivity)')\n",
    "plt.xlabel('False Positive Rate(1-Specificity)')\n",
    "plt.title('ROC Curve')\n",
    "print('AUC Value ',roc_auc)\n",
    "print('Thresholds ',threshold)"
   ]
  },
  {
   "cell_type": "code",
   "execution_count": 146,
   "metadata": {
    "scrolled": false
   },
   "outputs": [
    {
     "name": "stdout",
     "output_type": "stream",
     "text": [
      "1.8698224852071006\n",
      "             precision    recall  f1-score   support\n",
      "\n",
      "          0       0.74      1.00      0.85      3883\n",
      "          1       0.00      0.00      0.00      1399\n",
      "\n",
      "avg / total       0.54      0.74      0.62      5282\n",
      "\n",
      "0.8698224852071006\n",
      "             precision    recall  f1-score   support\n",
      "\n",
      "          0       0.74      1.00      0.85      3883\n",
      "          1       0.00      0.00      0.00      1399\n",
      "\n",
      "avg / total       0.54      0.74      0.62      5282\n",
      "\n",
      "0.7169811320754716\n",
      "             precision    recall  f1-score   support\n",
      "\n",
      "          0       0.76      0.99      0.86      3883\n",
      "          1       0.87      0.11      0.19      1399\n",
      "\n",
      "avg / total       0.79      0.76      0.68      5282\n",
      "\n",
      "0.6877076411960132\n",
      "             precision    recall  f1-score   support\n",
      "\n",
      "          0       0.76      0.99      0.86      3883\n",
      "          1       0.83      0.13      0.23      1399\n",
      "\n",
      "avg / total       0.78      0.76      0.69      5282\n",
      "\n",
      "0.6842105263157895\n",
      "             precision    recall  f1-score   support\n",
      "\n",
      "          0       0.79      0.97      0.87      3883\n",
      "          1       0.75      0.28      0.41      1399\n",
      "\n",
      "avg / total       0.78      0.78      0.75      5282\n",
      "\n",
      "0.5921052631578947\n",
      "             precision    recall  f1-score   support\n",
      "\n",
      "          0       0.81      0.95      0.87      3883\n",
      "          1       0.73      0.37      0.49      1399\n",
      "\n",
      "avg / total       0.79      0.80      0.77      5282\n",
      "\n",
      "0.42495784148397975\n",
      "             precision    recall  f1-score   support\n",
      "\n",
      "          0       0.83      0.93      0.88      3883\n",
      "          1       0.70      0.47      0.56      1399\n",
      "\n",
      "avg / total       0.79      0.81      0.79      5282\n",
      "\n",
      "0.410958904109589\n",
      "             precision    recall  f1-score   support\n",
      "\n",
      "          0       0.87      0.84      0.85      3883\n",
      "          1       0.59      0.65      0.62      1399\n",
      "\n",
      "avg / total       0.80      0.79      0.79      5282\n",
      "\n",
      "0.38028169014084506\n",
      "             precision    recall  f1-score   support\n",
      "\n",
      "          0       0.87      0.83      0.85      3883\n",
      "          1       0.58      0.67      0.62      1399\n",
      "\n",
      "avg / total       0.80      0.79      0.79      5282\n",
      "\n",
      "0.3793103448275862\n",
      "             precision    recall  f1-score   support\n",
      "\n",
      "          0       0.89      0.81      0.84      3883\n",
      "          1       0.57      0.71      0.63      1399\n",
      "\n",
      "avg / total       0.80      0.78      0.79      5282\n",
      "\n",
      "0.272108843537415\n",
      "             precision    recall  f1-score   support\n",
      "\n",
      "          0       0.89      0.79      0.84      3883\n",
      "          1       0.56      0.74      0.64      1399\n",
      "\n",
      "avg / total       0.80      0.77      0.78      5282\n",
      "\n",
      "0.23255813953488372\n",
      "             precision    recall  f1-score   support\n",
      "\n",
      "          0       0.91      0.73      0.81      3883\n",
      "          1       0.52      0.80      0.63      1399\n",
      "\n",
      "avg / total       0.81      0.75      0.76      5282\n",
      "\n",
      "0.2280130293159609\n",
      "             precision    recall  f1-score   support\n",
      "\n",
      "          0       0.91      0.71      0.80      3883\n",
      "          1       0.51      0.81      0.62      1399\n",
      "\n",
      "avg / total       0.81      0.74      0.75      5282\n",
      "\n",
      "0.1423611111111111\n",
      "             precision    recall  f1-score   support\n",
      "\n",
      "          0       0.93      0.65      0.77      3883\n",
      "          1       0.47      0.86      0.61      1399\n",
      "\n",
      "avg / total       0.81      0.71      0.73      5282\n",
      "\n",
      "0.11748633879781421\n",
      "             precision    recall  f1-score   support\n",
      "\n",
      "          0       0.95      0.53      0.68      3883\n",
      "          1       0.41      0.92      0.57      1399\n",
      "\n",
      "avg / total       0.81      0.63      0.65      5282\n",
      "\n",
      "0.03747203579418344\n",
      "             precision    recall  f1-score   support\n",
      "\n",
      "          0       0.96      0.44      0.61      3883\n",
      "          1       0.38      0.95      0.54      1399\n",
      "\n",
      "avg / total       0.81      0.58      0.59      5282\n",
      "\n"
     ]
    },
    {
     "name": "stderr",
     "output_type": "stream",
     "text": [
      "/anaconda3/lib/python3.6/site-packages/sklearn/metrics/classification.py:1135: UndefinedMetricWarning: Precision and F-score are ill-defined and being set to 0.0 in labels with no predicted samples.\n",
      "  'precision', 'predicted', average, warn_for)\n"
     ]
    }
   ],
   "source": [
    "for i in threshold: \n",
    "    print(i)\n",
    "    dtree_predictions_train_ = np.where(dtree_predictions_train[:,1]>i,1,0)\n",
    "    dtree_classificaiton_report_train,conufsion_matrix_train=fn_get_classification_report(\n",
    "        y_train[target_],\n",
    "        dtree_predictions_train_)\n",
    "\n",
    "    print(dtree_classificaiton_report_train)"
   ]
  },
  {
   "cell_type": "markdown",
   "metadata": {},
   "source": [
    "From the above ROC curve, choosing a cutoff between 0.3-0.4 can give a good TPR and less FPR. "
   ]
  },
  {
   "cell_type": "markdown",
   "metadata": {},
   "source": [
    "<b> Choosing appropraite cut-off value - Method 3 - PR Curve </b><br>"
   ]
  },
  {
   "cell_type": "code",
   "execution_count": 150,
   "metadata": {},
   "outputs": [
    {
     "name": "stdout",
     "output_type": "stream",
     "text": [
      "Threshold [0.03747204 0.11748634 0.14236111 0.22801303 0.23255814 0.27210884\n",
      " 0.37931034 0.38028169 0.4109589  0.42495784 0.59210526 0.68421053\n",
      " 0.68770764 0.71698113 0.86982249]\n"
     ]
    },
    {
     "data": {
      "text/plain": [
       "(0.0, 1.0)"
      ]
     },
     "execution_count": 150,
     "metadata": {},
     "output_type": "execute_result"
    },
    {
     "data": {
      "image/png": "[encoded data removed]",
      "text/plain": [
       "<matplotlib.figure.Figure at 0x1a16028d30>"
      ]
     },
     "metadata": {},
     "output_type": "display_data"
    }
   ],
   "source": [
    "precision, recall, threshold = precision_recall_curve(y_train[target_], dtree_predictions_train[:, 1])\n",
    "print(\"Threshold\",threshold)\n",
    "plt.step(recall, precision,marker='*')\n",
    "plt.xlabel('Recall')\n",
    "plt.ylabel('Precision')\n",
    "plt.ylim([0.0, 1.05])\n",
    "plt.xlim([0.0, 1.0])"
   ]
  },
  {
   "cell_type": "markdown",
   "metadata": {},
   "source": [
    "#### 7.2.4 Evaluation"
   ]
  },
  {
   "cell_type": "markdown",
   "metadata": {},
   "source": [
    "<b> Setting cutoff value using Method 1 </b><br>\n",
    "From the above cutoff method 1, let's set the cutoff to 0.3 and evaluate the model's perfromance."
   ]
  },
  {
   "cell_type": "markdown",
   "metadata": {},
   "source": [
    "<b> Train Dataset </b>"
   ]
  },
  {
   "cell_type": "code",
   "execution_count": 155,
   "metadata": {},
   "outputs": [],
   "source": [
    "dtree_predictions_train_ = np.where(dtree_predictions_train[:,1]>0.3,1,0)\n",
    "dtree_classificaiton_report_train,conufsion_matrix_train=fn_get_classification_report(\n",
    "    y_train[target_],\n",
    "    dtree_predictions_train_)"
   ]
  },
  {
   "cell_type": "code",
   "execution_count": 156,
   "metadata": {},
   "outputs": [
    {
     "name": "stdout",
     "output_type": "stream",
     "text": [
      "             precision    recall  f1-score   support\n",
      "\n",
      "          0       0.89      0.79      0.84      3883\n",
      "          1       0.56      0.74      0.64      1399\n",
      "\n",
      "avg / total       0.80      0.77      0.78      5282\n",
      "\n"
     ]
    }
   ],
   "source": [
    "print(dtree_classificaiton_report_train)"
   ]
  },
  {
   "cell_type": "code",
   "execution_count": 134,
   "metadata": {},
   "outputs": [
    {
     "data": {
      "text/plain": [
       "array([[3599,  284],\n",
       "       [ 742,  657]])"
      ]
     },
     "execution_count": 134,
     "metadata": {},
     "output_type": "execute_result"
    }
   ],
   "source": [
    "conufsion_matrix_train"
   ]
  },
  {
   "cell_type": "code",
   "execution_count": 135,
   "metadata": {
    "scrolled": false
   },
   "outputs": [
    {
     "data": {
      "text/plain": [
       "{'0 True Positive': 657,\n",
       " '1 True Negative': 3599,\n",
       " '2 False Positive': 284,\n",
       " '3 False Negative': 742,\n",
       " '4 Accuracy': 0.806,\n",
       " '5 Precision': 0.698,\n",
       " '6 Recall': 0.47,\n",
       " '7 F1 Score': 0.562}"
      ]
     },
     "execution_count": 135,
     "metadata": {},
     "output_type": "execute_result"
    }
   ],
   "source": [
    "fn_get_metrics(conufsion_matrix_train)"
   ]
  },
  {
   "cell_type": "markdown",
   "metadata": {},
   "source": [
    "<b> Test Dataset</b>"
   ]
  },
  {
   "cell_type": "code",
   "execution_count": 151,
   "metadata": {},
   "outputs": [],
   "source": [
    "dtree_predictions_test_ = np.where(dtree_predictions_test[:,1]>0.3,1,0)\n",
    "dtree_classificaiton_report_test,conufsion_matrix_test=fn_get_classification_report(\n",
    "    y_test[target_],\n",
    "    dtree_predictions_test_)"
   ]
  },
  {
   "cell_type": "code",
   "execution_count": 152,
   "metadata": {},
   "outputs": [
    {
     "name": "stdout",
     "output_type": "stream",
     "text": [
      "             precision    recall  f1-score   support\n",
      "\n",
      "          0       0.94      0.52      0.67      1291\n",
      "          1       0.40      0.90      0.56       470\n",
      "\n",
      "avg / total       0.79      0.62      0.64      1761\n",
      "\n"
     ]
    }
   ],
   "source": [
    "print(dtree_classificaiton_report_test)"
   ]
  },
  {
   "cell_type": "code",
   "execution_count": 153,
   "metadata": {},
   "outputs": [
    {
     "data": {
      "text/plain": [
       "array([[666, 625],\n",
       "       [ 46, 424]])"
      ]
     },
     "execution_count": 153,
     "metadata": {},
     "output_type": "execute_result"
    }
   ],
   "source": [
    "conufsion_matrix_test"
   ]
  },
  {
   "cell_type": "code",
   "execution_count": 154,
   "metadata": {
    "scrolled": true
   },
   "outputs": [
    {
     "data": {
      "text/plain": [
       "{'0 True Positive': 424,\n",
       " '1 True Negative': 666,\n",
       " '2 False Positive': 625,\n",
       " '3 False Negative': 46,\n",
       " '4 Accuracy': 0.619,\n",
       " '5 Precision': 0.404,\n",
       " '6 Recall': 0.902,\n",
       " '7 F1 Score': 0.558}"
      ]
     },
     "execution_count": 154,
     "metadata": {},
     "output_type": "execute_result"
    }
   ],
   "source": [
    "fn_get_metrics(conufsion_matrix_test)"
   ]
  },
  {
   "cell_type": "markdown",
   "metadata": {},
   "source": [
    "<b> Setting cutoff value using Method 2 - ROC Curve </b><br>\n",
    "From the above cutoff method 2, let's set the cutoff to 0.35 and evaluate the model's perfromance."
   ]
  },
  {
   "cell_type": "markdown",
   "metadata": {},
   "source": [
    "<b> Train Dataset </b>"
   ]
  },
  {
   "cell_type": "code",
   "execution_count": 157,
   "metadata": {},
   "outputs": [],
   "source": [
    "cut_off=0.1423611\n",
    "dtree_predictions_train_ = np.where(dtree_predictions_train[:,1]>cut_off,1,0)\n",
    "dtree_classificaiton_report_train,conufsion_matrix_train=fn_get_classification_report(\n",
    "    y_train[target_],\n",
    "    dtree_predictions_train_)"
   ]
  },
  {
   "cell_type": "code",
   "execution_count": 158,
   "metadata": {},
   "outputs": [
    {
     "name": "stdout",
     "output_type": "stream",
     "text": [
      "             precision    recall  f1-score   support\n",
      "\n",
      "          0       0.95      0.53      0.68      3883\n",
      "          1       0.41      0.92      0.57      1399\n",
      "\n",
      "avg / total       0.81      0.63      0.65      5282\n",
      "\n"
     ]
    }
   ],
   "source": [
    "print(dtree_classificaiton_report_train)"
   ]
  },
  {
   "cell_type": "code",
   "execution_count": 159,
   "metadata": {},
   "outputs": [
    {
     "data": {
      "text/plain": [
       "array([[2044, 1839],\n",
       "       [ 110, 1289]])"
      ]
     },
     "execution_count": 159,
     "metadata": {},
     "output_type": "execute_result"
    }
   ],
   "source": [
    "conufsion_matrix_train"
   ]
  },
  {
   "cell_type": "code",
   "execution_count": 160,
   "metadata": {
    "scrolled": false
   },
   "outputs": [
    {
     "data": {
      "text/plain": [
       "{'0 True Positive': 1289,\n",
       " '1 True Negative': 2044,\n",
       " '2 False Positive': 1839,\n",
       " '3 False Negative': 110,\n",
       " '4 Accuracy': 0.631,\n",
       " '5 Precision': 0.412,\n",
       " '6 Recall': 0.921,\n",
       " '7 F1 Score': 0.569}"
      ]
     },
     "execution_count": 160,
     "metadata": {},
     "output_type": "execute_result"
    }
   ],
   "source": [
    "fn_get_metrics(conufsion_matrix_train)"
   ]
  },
  {
   "cell_type": "markdown",
   "metadata": {},
   "source": [
    "<b> Test Dataset</b>"
   ]
  },
  {
   "cell_type": "code",
   "execution_count": 163,
   "metadata": {},
   "outputs": [],
   "source": [
    "dtree_predictions_test_ = np.where(dtree_predictions_test[:,1]>cut_off,1,0)\n",
    "dtree_classificaiton_report_test,conufsion_matrix_test=fn_get_classification_report(\n",
    "    y_test[target_],\n",
    "    dtree_predictions_test_)"
   ]
  },
  {
   "cell_type": "code",
   "execution_count": 164,
   "metadata": {},
   "outputs": [
    {
     "name": "stdout",
     "output_type": "stream",
     "text": [
      "             precision    recall  f1-score   support\n",
      "\n",
      "          0       0.94      0.52      0.67      1291\n",
      "          1       0.40      0.90      0.56       470\n",
      "\n",
      "avg / total       0.79      0.62      0.64      1761\n",
      "\n"
     ]
    }
   ],
   "source": [
    "print(dtree_classificaiton_report_test)"
   ]
  },
  {
   "cell_type": "code",
   "execution_count": 165,
   "metadata": {},
   "outputs": [
    {
     "data": {
      "text/plain": [
       "array([[666, 625],\n",
       "       [ 46, 424]])"
      ]
     },
     "execution_count": 165,
     "metadata": {},
     "output_type": "execute_result"
    }
   ],
   "source": [
    "conufsion_matrix_test"
   ]
  },
  {
   "cell_type": "code",
   "execution_count": 166,
   "metadata": {
    "scrolled": true
   },
   "outputs": [
    {
     "data": {
      "text/plain": [
       "{'0 True Positive': 424,\n",
       " '1 True Negative': 666,\n",
       " '2 False Positive': 625,\n",
       " '3 False Negative': 46,\n",
       " '4 Accuracy': 0.619,\n",
       " '5 Precision': 0.404,\n",
       " '6 Recall': 0.902,\n",
       " '7 F1 Score': 0.558}"
      ]
     },
     "execution_count": 166,
     "metadata": {},
     "output_type": "execute_result"
    }
   ],
   "source": [
    "fn_get_metrics(conufsion_matrix_test)"
   ]
  },
  {
   "cell_type": "markdown",
   "metadata": {},
   "source": [
    "### ROC versus Precision/Recall Curves <br>\n",
    "Just by manaually selecting a range of weights to boost the minority class already helps our model have better recall, and in some cases, better precision also. Recall and Precision are usually trade offs of each other, so when you can improve both at the same time, your model's overall performance is undeniably improved.\n",
    "\n",
    "To illustrate the trade off between precision vs recall, and let's include False Positive Rate vs True Positive Rate (ROC), let's plot the ROC and Precision/Recall curves for different weights for the minority class.\n",
    "\n",
    "There is a very important difference between what a ROC curve represents vs that of a PRECISION vs RECALL curve.\n",
    "\n",
    "Remember, a ROC curve represents a relation between sensitivity (RECALL) and specificity(NOT PRECISION). Sensitivity is the other name for recall but specificity is not PRECISION. \n",
    "\n",
    "Recall/Sensitivity is the measure of the probability that your estimate is 1 given all the samples whose true class label is 1. It is a measure of how many of the positive samples have been identified as being positive.\n",
    "\n",
    "Specificity is the measure of the probability that your estimate is 0 given all the samples whose true class label is 0. It is a measure of how many of the negative samples have been identified as being negative.\n",
    "\n",
    "PRECISION on the other hand is different. It is a measure of the probability that a sample is a true positive class given that your classifier said it is positive. It is a measure of how many of the samples predicted by the classifier as positive is indeed positive. Note here that this changes when the base probability or prior probability of the positive class changes. Which means PRECISION depends on how rare is the positive class. In other words, it is used when positive class is more interesting than the negative class.\n",
    "\n",
    "So, if your problem involves kind of searching a needle in the haystack when for ex: the positive class samples are very rare compared to the negative classes, use a precision recall curve. Othwerwise use a ROC curve because a ROC curve remains the same regardless of the baseline prior probability of your positive class (the important rare class)."
   ]
  },
  {
   "cell_type": "code",
   "execution_count": 167,
   "metadata": {},
   "outputs": [
    {
     "data": {
      "image/png": "[encoded data removed]",
      "text/plain": [
       "<matplotlib.figure.Figure at 0x1a17f43208>"
      ]
     },
     "metadata": {},
     "output_type": "display_data"
    }
   ],
   "source": [
    "fig = plt.figure(figsize=(15,8))\n",
    "ax1 = fig.add_subplot(2,2,1)\n",
    "ax1.set_xlim([-0.05,1.05])\n",
    "ax1.set_ylim([-0.05,1.05])\n",
    "ax1.set_xlabel('Recall')\n",
    "ax1.set_ylabel('Precision')\n",
    "ax1.set_title('PR Curve')\n",
    "\n",
    "ax2 = fig.add_subplot(2,2,2)\n",
    "ax2.set_xlim([-0.05,1.05])\n",
    "ax2.set_ylim([-0.05,1.05])\n",
    "ax2.set_xlabel('False Positive Rate')\n",
    "ax2.set_ylabel('True Positive Rate')\n",
    "ax2.set_title('ROC Curve')\n",
    "\n",
    "ax3 = fig.add_subplot(2,2,3)\n",
    "ax3.set_xlim([-0.05,1.05])\n",
    "ax3.set_ylim([-0.05,1.05])\n",
    "ax3.set_xlabel('Recall')\n",
    "ax3.set_ylabel('Precision')\n",
    "ax3.set_title('PR Curve')\n",
    "\n",
    "ax4 = fig.add_subplot(2,2,4)\n",
    "ax4.set_xlim([-0.05,1.05])\n",
    "ax4.set_ylim([-0.05,1.05])\n",
    "ax4.set_xlabel('False Positive Rate')\n",
    "ax4.set_ylabel('True Positive Rate')\n",
    "ax4.set_title('ROC Curve')\n",
    "\n",
    "\n",
    "for w,k in zip([1,5,10,20,50,100,500,1000],'bgrcmykw'):\n",
    "    dtree = DecisionTreeClassifier(min_samples_split=20,max_leaf_nodes=15,min_samples_leaf=10, class_weight={0:1,1:w})\n",
    "    dtree_model = dtree.fit(X_train[input_var], y_train[target_]) \n",
    "    dtree_predictions_train = dtree_model.predict_proba(X_train[input_var])\n",
    "    dtree_predictions_test = dtree_model.predict_proba(X_test[input_var])\n",
    "       \n",
    "    precision, recall, _ = precision_recall_curve(y_train[target_], dtree_predictions_train[:,1])\n",
    "    fpr, tpr, threshold = roc_curve(y_train[target_], dtree_predictions_train[:, 1])\n",
    "        \n",
    "    ax1.step(recall,precision,c=k,label=w)\n",
    "    ax2.step(fpr,tpr,c=k,label=w)\n",
    "\n",
    "    precision, recall, _ = precision_recall_curve(y_test[target_], dtree_predictions_test[:,1])\n",
    "    fpr, tpr, threshold = roc_curve(y_test[target_], dtree_predictions_test[:, 1])\n",
    "\n",
    "    ax3.step(recall,precision,c=k,label=w)\n",
    "    ax4.step(fpr,tpr,c=k,label=w)\n",
    "    \n",
    "ax1.legend(loc='lower left')    \n",
    "ax2.legend(loc='lower right')\n",
    "\n",
    "plt.show()"
   ]
  },
  {
   "cell_type": "code",
   "execution_count": 71,
   "metadata": {},
   "outputs": [
    {
     "name": "stdout",
     "output_type": "stream",
     "text": [
      "             precision    recall  f1-score   support\n",
      "\n",
      "          0       0.98      0.43      0.60      3883\n",
      "          1       0.38      0.97      0.55      1399\n",
      "\n",
      "avg / total       0.82      0.57      0.58      5282\n",
      "\n",
      "             precision    recall  f1-score   support\n",
      "\n",
      "          0       0.96      0.44      0.60      1291\n",
      "          1       0.38      0.95      0.54       470\n",
      "\n",
      "avg / total       0.80      0.57      0.58      1761\n",
      "\n",
      "{'0 True Positive': 1361, '1 True Negative': 1672, '2 False Positive': 2211, '3 False Negative': 38, '4 Accuracy': 0.574, '5 Precision': 0.381, '6 Recall': 0.973, '7 F1 Score': 0.548}\n",
      "{'0 True Positive': 446, '1 True Negative': 562, '2 False Positive': 729, '3 False Negative': 24, '4 Accuracy': 0.572, '5 Precision': 0.38, '6 Recall': 0.949, '7 F1 Score': 0.542}\n"
     ]
    }
   ],
   "source": [
    "dtree_predictions_train_ = np.where(dtree_predictions_train[:,1]>0.72,1,0)\n",
    "dtree_classificaiton_report_train,conufsion_matrix_train=fn_get_classification_report(\n",
    "    y_train[target_],\n",
    "    dtree_predictions_train_)\n",
    "\n",
    "\n",
    "dtree_predictions_test_ = np.where(dtree_predictions_test[:,1]>0.72,1,0)\n",
    "dtree_classificaiton_report_test,conufsion_matrix_test=fn_get_classification_report(\n",
    "    y_test[target_],\n",
    "    dtree_predictions_test_)\n",
    "\n",
    "print(dtree_classificaiton_report_train)\n",
    "print(dtree_classificaiton_report_test)\n",
    "\n",
    "print(fn_get_metrics(conufsion_matrix_train))\n",
    "print(fn_get_metrics(conufsion_matrix_test))"
   ]
  },
  {
   "cell_type": "code",
   "execution_count": 72,
   "metadata": {},
   "outputs": [
    {
     "data": {
      "text/plain": [
       "DecisionTreeClassifier(class_weight={0: 1, 1: 20}, criterion='gini',\n",
       "            max_depth=None, max_features=None, max_leaf_nodes=15,\n",
       "            min_impurity_decrease=0.0, min_impurity_split=None,\n",
       "            min_samples_leaf=10, min_samples_split=20,\n",
       "            min_weight_fraction_leaf=0.0, presort=False, random_state=None,\n",
       "            splitter='best')"
      ]
     },
     "execution_count": 72,
     "metadata": {},
     "output_type": "execute_result"
    }
   ],
   "source": [
    "dtree"
   ]
  },
  {
   "cell_type": "code",
   "execution_count": 169,
   "metadata": {},
   "outputs": [
    {
     "data": {
      "text/plain": [
       "Text(0,0.5,'Density')"
      ]
     },
     "execution_count": 169,
     "metadata": {},
     "output_type": "execute_result"
    },
    {
     "data": {
      "image/png": "[encoded data removed]",
      "text/plain": [
       "<matplotlib.figure.Figure at 0x1a18212d30>"
      ]
     },
     "metadata": {},
     "output_type": "display_data"
    }
   ],
   "source": [
    "fig, ax = plt.subplots(figsize=(10,5))\n",
    "g = sn.distplot(dtree_predictions_train[y_train[target_]==0,1],ax=ax)\n",
    "g = sn.distplot(dtree_predictions_train[y_train[target_]==1,1],ax=ax)\n",
    "g.set_title(\"Probablities vs Churn\")\n",
    "g.set_xlabel(\"Probability\")\n",
    "g.set_ylabel(\"Density\")"
   ]
  },
  {
   "cell_type": "code",
   "execution_count": null,
   "metadata": {},
   "outputs": [],
   "source": []
  },
  {
   "cell_type": "code",
   "execution_count": null,
   "metadata": {},
   "outputs": [],
   "source": []
  }
 ],
 "metadata": {
  "kernelspec": {
   "display_name": "Python 3",
   "language": "python",
   "name": "python3"
  },
  "language_info": {
   "codemirror_mode": {
    "name": "ipython",
    "version": 3
   },
   "file_extension": ".py",
   "mimetype": "text/x-python",
   "name": "python",
   "nbconvert_exporter": "python",
   "pygments_lexer": "ipython3",
   "version": "3.6.4"
  }
 },
 "nbformat": 4,
 "nbformat_minor": 2
}
