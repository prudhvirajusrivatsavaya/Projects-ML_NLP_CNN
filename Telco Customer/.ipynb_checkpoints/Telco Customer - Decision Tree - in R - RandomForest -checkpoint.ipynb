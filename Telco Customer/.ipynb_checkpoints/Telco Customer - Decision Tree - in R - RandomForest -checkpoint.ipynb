{
 "cells": [
  {
   "cell_type": "markdown",
   "metadata": {},
   "source": [
    "# Telco Customer Dataset - Churn prediction using Random Forest"
   ]
  },
  {
   "cell_type": "code",
   "execution_count": 5,
   "metadata": {},
   "outputs": [
    {
     "name": "stdout",
     "output_type": "stream",
     "text": [
      "\n",
      "The downloaded binary packages are in\n",
      "\t/var/folders/m9/f2_xj5n17437mc076w7crp_c0000gn/T//RtmphOjXRx/downloaded_packages\n"
     ]
    }
   ],
   "source": [
    "# install.packages(\"ggplot2\")\n",
    "# install.packages(\"dplyr\")\n",
    "# install.packages(\"rpart\")\n",
    "# install.packages(\"rattle\")\n",
    "# install.packages(\"rpart.plot\")\n",
    "# install.packages(\"RColorBrewer\")\n",
    "# install.packages(\"party\")\n",
    "# install.packages(\"partykit\")\n",
    "# install.packages(\"caret\")\n",
    "# install.packages(\"heuristica\")\n",
    "# install.packages(\"randomForest\")\n"
   ]
  },
  {
   "cell_type": "code",
   "execution_count": 6,
   "metadata": {},
   "outputs": [
    {
     "name": "stderr",
     "output_type": "stream",
     "text": [
      "Warning message:\n",
      "“package ‘dplyr’ was built under R version 3.4.2”\n",
      "Attaching package: ‘dplyr’\n",
      "\n",
      "The following objects are masked from ‘package:stats’:\n",
      "\n",
      "    filter, lag\n",
      "\n",
      "The following objects are masked from ‘package:base’:\n",
      "\n",
      "    intersect, setdiff, setequal, union\n",
      "\n",
      "Warning message:\n",
      "“package ‘rpart’ was built under R version 3.4.3”Warning message:\n",
      "“package ‘randomForest’ was built under R version 3.4.4”randomForest 4.6-14\n",
      "Type rfNews() to see new features/changes/bug fixes.\n",
      "\n",
      "Attaching package: ‘randomForest’\n",
      "\n",
      "The following object is masked from ‘package:dplyr’:\n",
      "\n",
      "    combine\n",
      "\n",
      "The following object is masked from ‘package:ggplot2’:\n",
      "\n",
      "    margin\n",
      "\n"
     ]
    }
   ],
   "source": [
    "library(ggplot2)\n",
    "library(dplyr)\n",
    "library(rpart)\n",
    "# library(dummies)\n",
    "# library(rattle)\n",
    "library(rpart.plot)\n",
    "library(heuristica)\n",
    "library(randomForest)\n",
    "# library(RColorBrewer)\n",
    "# library(party)\n",
    "# library(partykit)\n",
    "# library(caret)"
   ]
  },
  {
   "cell_type": "markdown",
   "metadata": {},
   "source": [
    "## Reading dataset"
   ]
  },
  {
   "cell_type": "code",
   "execution_count": 7,
   "metadata": {},
   "outputs": [
    {
     "name": "stdout",
     "output_type": "stream",
     "text": [
      "'data.frame':\t7043 obs. of  21 variables:\n",
      " $ customerID      : Factor w/ 7043 levels \"0002-ORFBO\",\"0003-MKNFE\",..: 5376 3963 2565 5536 6512 6552 1003 4771 5605 4535 ...\n",
      " $ gender          : Factor w/ 2 levels \"Female\",\"Male\": 1 2 2 2 1 1 2 1 1 2 ...\n",
      " $ SeniorCitizen   : int  0 0 0 0 0 0 0 0 0 0 ...\n",
      " $ Partner         : Factor w/ 2 levels \"No\",\"Yes\": 2 1 1 1 1 1 1 1 2 1 ...\n",
      " $ Dependents      : Factor w/ 2 levels \"No\",\"Yes\": 1 1 1 1 1 1 2 1 1 2 ...\n",
      " $ tenure          : int  1 34 2 45 2 8 22 10 28 62 ...\n",
      " $ PhoneService    : Factor w/ 2 levels \"No\",\"Yes\": 1 2 2 1 2 2 2 1 2 2 ...\n",
      " $ MultipleLines   : Factor w/ 3 levels \"No\",\"No phone service\",..: 2 1 1 2 1 3 3 2 3 1 ...\n",
      " $ InternetService : Factor w/ 3 levels \"DSL\",\"Fiber optic\",..: 1 1 1 1 2 2 2 1 2 1 ...\n",
      " $ OnlineSecurity  : Factor w/ 3 levels \"No\",\"No internet service\",..: 1 3 3 3 1 1 1 3 1 3 ...\n",
      " $ OnlineBackup    : Factor w/ 3 levels \"No\",\"No internet service\",..: 3 1 3 1 1 1 3 1 1 3 ...\n",
      " $ DeviceProtection: Factor w/ 3 levels \"No\",\"No internet service\",..: 1 3 1 3 1 3 1 1 3 1 ...\n",
      " $ TechSupport     : Factor w/ 3 levels \"No\",\"No internet service\",..: 1 1 1 3 1 1 1 1 3 1 ...\n",
      " $ StreamingTV     : Factor w/ 3 levels \"No\",\"No internet service\",..: 1 1 1 1 1 3 3 1 3 1 ...\n",
      " $ StreamingMovies : Factor w/ 3 levels \"No\",\"No internet service\",..: 1 1 1 1 1 3 1 1 3 1 ...\n",
      " $ Contract        : Factor w/ 3 levels \"Month-to-month\",..: 1 2 1 2 1 1 1 1 1 2 ...\n",
      " $ PaperlessBilling: Factor w/ 2 levels \"No\",\"Yes\": 2 1 2 1 2 2 2 1 2 1 ...\n",
      " $ PaymentMethod   : Factor w/ 4 levels \"Bank transfer (automatic)\",..: 3 4 4 1 3 3 2 4 3 1 ...\n",
      " $ MonthlyCharges  : num  29.9 57 53.9 42.3 70.7 ...\n",
      " $ TotalCharges    : num  29.9 1889.5 108.2 1840.8 151.7 ...\n",
      " $ Churn           : Factor w/ 2 levels \"No\",\"Yes\": 1 1 2 1 2 2 1 1 2 1 ...\n"
     ]
    },
    {
     "data": {
      "text/plain": [
       "      customerID      gender     SeniorCitizen    Partner    Dependents\n",
       " 0002-ORFBO:   1   Female:3488   Min.   :0.0000   No :3641   No :4933  \n",
       " 0003-MKNFE:   1   Male  :3555   1st Qu.:0.0000   Yes:3402   Yes:2110  \n",
       " 0004-TLHLJ:   1                 Median :0.0000                        \n",
       " 0011-IGKFF:   1                 Mean   :0.1621                        \n",
       " 0013-EXCHZ:   1                 3rd Qu.:0.0000                        \n",
       " 0013-MHZWF:   1                 Max.   :1.0000                        \n",
       " (Other)   :7037                                                       \n",
       "     tenure      PhoneService          MultipleLines     InternetService\n",
       " Min.   : 0.00   No : 682     No              :3390   DSL        :2421  \n",
       " 1st Qu.: 9.00   Yes:6361     No phone service: 682   Fiber optic:3096  \n",
       " Median :29.00                Yes             :2971   No         :1526  \n",
       " Mean   :32.37                                                          \n",
       " 3rd Qu.:55.00                                                          \n",
       " Max.   :72.00                                                          \n",
       "                                                                        \n",
       "             OnlineSecurity              OnlineBackup \n",
       " No                 :3498   No                 :3088  \n",
       " No internet service:1526   No internet service:1526  \n",
       " Yes                :2019   Yes                :2429  \n",
       "                                                      \n",
       "                                                      \n",
       "                                                      \n",
       "                                                      \n",
       "            DeviceProtection              TechSupport  \n",
       " No                 :3095    No                 :3473  \n",
       " No internet service:1526    No internet service:1526  \n",
       " Yes                :2422    Yes                :2044  \n",
       "                                                       \n",
       "                                                       \n",
       "                                                       \n",
       "                                                       \n",
       "              StreamingTV              StreamingMovies           Contract   \n",
       " No                 :2810   No                 :2785   Month-to-month:3875  \n",
       " No internet service:1526   No internet service:1526   One year      :1473  \n",
       " Yes                :2707   Yes                :2732   Two year      :1695  \n",
       "                                                                            \n",
       "                                                                            \n",
       "                                                                            \n",
       "                                                                            \n",
       " PaperlessBilling                   PaymentMethod  MonthlyCharges  \n",
       " No :2872         Bank transfer (automatic):1544   Min.   : 18.25  \n",
       " Yes:4171         Credit card (automatic)  :1522   1st Qu.: 35.50  \n",
       "                  Electronic check         :2365   Median : 70.35  \n",
       "                  Mailed check             :1612   Mean   : 64.76  \n",
       "                                                   3rd Qu.: 89.85  \n",
       "                                                   Max.   :118.75  \n",
       "                                                                   \n",
       "  TotalCharges    Churn     \n",
       " Min.   :  18.8   No :5174  \n",
       " 1st Qu.: 401.4   Yes:1869  \n",
       " Median :1397.5             \n",
       " Mean   :2283.3             \n",
       " 3rd Qu.:3794.7             \n",
       " Max.   :8684.8             \n",
       " NA's   :11                 "
      ]
     },
     "metadata": {},
     "output_type": "display_data"
    },
    {
     "data": {
      "text/plain": [
       "\n",
       "       No       Yes \n",
       "0.7346301 0.2653699 "
      ]
     },
     "metadata": {},
     "output_type": "display_data"
    }
   ],
   "source": [
    "data.set.orig = read.csv(file=\"Datasets/Teleco_Cust_Attr.csv\",header = T)\n",
    "str(data.set.orig)\n",
    "summary(data.set.orig)\n",
    "prop.table(table(data.set.orig$Churn))"
   ]
  },
  {
   "cell_type": "markdown",
   "metadata": {},
   "source": [
    "## Data preprocessing"
   ]
  },
  {
   "cell_type": "code",
   "execution_count": 8,
   "metadata": {
    "scrolled": false
   },
   "outputs": [
    {
     "data": {
      "text/html": [
       "<dl class=dl-horizontal>\n",
       "\t<dt>gender</dt>\n",
       "\t\t<dd>0</dd>\n",
       "\t<dt>SeniorCitizen</dt>\n",
       "\t\t<dd>0</dd>\n",
       "\t<dt>Partner</dt>\n",
       "\t\t<dd>0</dd>\n",
       "\t<dt>Dependents</dt>\n",
       "\t\t<dd>0</dd>\n",
       "\t<dt>tenure</dt>\n",
       "\t\t<dd>0</dd>\n",
       "\t<dt>PhoneService</dt>\n",
       "\t\t<dd>0</dd>\n",
       "\t<dt>MultipleLines</dt>\n",
       "\t\t<dd>0</dd>\n",
       "\t<dt>InternetService</dt>\n",
       "\t\t<dd>0</dd>\n",
       "\t<dt>OnlineSecurity</dt>\n",
       "\t\t<dd>0</dd>\n",
       "\t<dt>OnlineBackup</dt>\n",
       "\t\t<dd>0</dd>\n",
       "\t<dt>DeviceProtection</dt>\n",
       "\t\t<dd>0</dd>\n",
       "\t<dt>TechSupport</dt>\n",
       "\t\t<dd>0</dd>\n",
       "\t<dt>StreamingTV</dt>\n",
       "\t\t<dd>0</dd>\n",
       "\t<dt>StreamingMovies</dt>\n",
       "\t\t<dd>0</dd>\n",
       "\t<dt>Contract</dt>\n",
       "\t\t<dd>0</dd>\n",
       "\t<dt>PaperlessBilling</dt>\n",
       "\t\t<dd>0</dd>\n",
       "\t<dt>PaymentMethod</dt>\n",
       "\t\t<dd>0</dd>\n",
       "\t<dt>MonthlyCharges</dt>\n",
       "\t\t<dd>0</dd>\n",
       "\t<dt>TotalCharges</dt>\n",
       "\t\t<dd>11</dd>\n",
       "\t<dt>Churn</dt>\n",
       "\t\t<dd>0</dd>\n",
       "</dl>\n"
      ],
      "text/latex": [
       "\\begin{description*}\n",
       "\\item[gender] 0\n",
       "\\item[SeniorCitizen] 0\n",
       "\\item[Partner] 0\n",
       "\\item[Dependents] 0\n",
       "\\item[tenure] 0\n",
       "\\item[PhoneService] 0\n",
       "\\item[MultipleLines] 0\n",
       "\\item[InternetService] 0\n",
       "\\item[OnlineSecurity] 0\n",
       "\\item[OnlineBackup] 0\n",
       "\\item[DeviceProtection] 0\n",
       "\\item[TechSupport] 0\n",
       "\\item[StreamingTV] 0\n",
       "\\item[StreamingMovies] 0\n",
       "\\item[Contract] 0\n",
       "\\item[PaperlessBilling] 0\n",
       "\\item[PaymentMethod] 0\n",
       "\\item[MonthlyCharges] 0\n",
       "\\item[TotalCharges] 11\n",
       "\\item[Churn] 0\n",
       "\\end{description*}\n"
      ],
      "text/markdown": [
       "gender\n",
       ":   0SeniorCitizen\n",
       ":   0Partner\n",
       ":   0Dependents\n",
       ":   0tenure\n",
       ":   0PhoneService\n",
       ":   0MultipleLines\n",
       ":   0InternetService\n",
       ":   0OnlineSecurity\n",
       ":   0OnlineBackup\n",
       ":   0DeviceProtection\n",
       ":   0TechSupport\n",
       ":   0StreamingTV\n",
       ":   0StreamingMovies\n",
       ":   0Contract\n",
       ":   0PaperlessBilling\n",
       ":   0PaymentMethod\n",
       ":   0MonthlyCharges\n",
       ":   0TotalCharges\n",
       ":   11Churn\n",
       ":   0\n",
       "\n"
      ],
      "text/plain": [
       "          gender    SeniorCitizen          Partner       Dependents \n",
       "               0                0                0                0 \n",
       "          tenure     PhoneService    MultipleLines  InternetService \n",
       "               0                0                0                0 \n",
       "  OnlineSecurity     OnlineBackup DeviceProtection      TechSupport \n",
       "               0                0                0                0 \n",
       "     StreamingTV  StreamingMovies         Contract PaperlessBilling \n",
       "               0                0                0                0 \n",
       "   PaymentMethod   MonthlyCharges     TotalCharges            Churn \n",
       "               0                0               11                0 "
      ]
     },
     "metadata": {},
     "output_type": "display_data"
    }
   ],
   "source": [
    "data.set.orig$customerID = NULL\n",
    "sapply(data.set.orig,function(x){sum(is.na(x))})"
   ]
  },
  {
   "cell_type": "markdown",
   "metadata": {},
   "source": [
    "### Handling nulls"
   ]
  },
  {
   "cell_type": "code",
   "execution_count": 9,
   "metadata": {},
   "outputs": [],
   "source": [
    "data.set.orig$TotalCharges = ifelse(is.na(data.set.orig$TotalCharges),data.set.orig$MonthlyCharges*data.set.orig$tenure,data.set.orig$TotalCharges)"
   ]
  },
  {
   "cell_type": "code",
   "execution_count": 10,
   "metadata": {
    "scrolled": false
   },
   "outputs": [
    {
     "data": {
      "text/html": [
       "<ol class=list-inline>\n",
       "\t<li>0</li>\n",
       "\t<li>1</li>\n",
       "</ol>\n"
      ],
      "text/latex": [
       "\\begin{enumerate*}\n",
       "\\item 0\n",
       "\\item 1\n",
       "\\end{enumerate*}\n"
      ],
      "text/markdown": [
       "1. 0\n",
       "2. 1\n",
       "\n",
       "\n"
      ],
      "text/plain": [
       "[1] 0 1"
      ]
     },
     "metadata": {},
     "output_type": "display_data"
    }
   ],
   "source": [
    "unique(data.set.orig$SeniorCitizen)\n",
    "data.set.orig$SeniorCitizen = as.factor(data.set.orig$SeniorCitizen)"
   ]
  },
  {
   "cell_type": "code",
   "execution_count": 11,
   "metadata": {},
   "outputs": [
    {
     "name": "stdout",
     "output_type": "stream",
     "text": [
      "'data.frame':\t7043 obs. of  20 variables:\n",
      " $ gender          : Factor w/ 2 levels \"Female\",\"Male\": 1 2 2 2 1 1 2 1 1 2 ...\n",
      " $ SeniorCitizen   : Factor w/ 2 levels \"0\",\"1\": 1 1 1 1 1 1 1 1 1 1 ...\n",
      " $ Partner         : Factor w/ 2 levels \"No\",\"Yes\": 2 1 1 1 1 1 1 1 2 1 ...\n",
      " $ Dependents      : Factor w/ 2 levels \"No\",\"Yes\": 1 1 1 1 1 1 2 1 1 2 ...\n",
      " $ tenure          : int  1 34 2 45 2 8 22 10 28 62 ...\n",
      " $ PhoneService    : Factor w/ 2 levels \"No\",\"Yes\": 1 2 2 1 2 2 2 1 2 2 ...\n",
      " $ MultipleLines   : Factor w/ 3 levels \"No\",\"No phone service\",..: 2 1 1 2 1 3 3 2 3 1 ...\n",
      " $ InternetService : Factor w/ 3 levels \"DSL\",\"Fiber optic\",..: 1 1 1 1 2 2 2 1 2 1 ...\n",
      " $ OnlineSecurity  : Factor w/ 3 levels \"No\",\"No internet service\",..: 1 3 3 3 1 1 1 3 1 3 ...\n",
      " $ OnlineBackup    : Factor w/ 3 levels \"No\",\"No internet service\",..: 3 1 3 1 1 1 3 1 1 3 ...\n",
      " $ DeviceProtection: Factor w/ 3 levels \"No\",\"No internet service\",..: 1 3 1 3 1 3 1 1 3 1 ...\n",
      " $ TechSupport     : Factor w/ 3 levels \"No\",\"No internet service\",..: 1 1 1 3 1 1 1 1 3 1 ...\n",
      " $ StreamingTV     : Factor w/ 3 levels \"No\",\"No internet service\",..: 1 1 1 1 1 3 3 1 3 1 ...\n",
      " $ StreamingMovies : Factor w/ 3 levels \"No\",\"No internet service\",..: 1 1 1 1 1 3 1 1 3 1 ...\n",
      " $ Contract        : Factor w/ 3 levels \"Month-to-month\",..: 1 2 1 2 1 1 1 1 1 2 ...\n",
      " $ PaperlessBilling: Factor w/ 2 levels \"No\",\"Yes\": 2 1 2 1 2 2 2 1 2 1 ...\n",
      " $ PaymentMethod   : Factor w/ 4 levels \"Bank transfer (automatic)\",..: 3 4 4 1 3 3 2 4 3 1 ...\n",
      " $ MonthlyCharges  : num  29.9 57 53.9 42.3 70.7 ...\n",
      " $ TotalCharges    : num  29.9 1889.5 108.2 1840.8 151.7 ...\n",
      " $ Churn           : Factor w/ 2 levels \"No\",\"Yes\": 1 1 2 1 2 2 1 1 2 1 ...\n"
     ]
    },
    {
     "data": {
      "text/plain": [
       "                \n",
       "                   No  Yes\n",
       "  Month-to-month 2220 1655\n",
       "  One year       1307  166\n",
       "  Two year       1647   48"
      ]
     },
     "metadata": {},
     "output_type": "display_data"
    },
    {
     "data": {
      "text/html": [
       "3875"
      ],
      "text/latex": [
       "3875"
      ],
      "text/markdown": [
       "3875"
      ],
      "text/plain": [
       "[1] 3875"
      ]
     },
     "metadata": {},
     "output_type": "display_data"
    },
    {
     "name": "stdout",
     "output_type": "stream",
     "text": [
      "'data.frame':\t3875 obs. of  20 variables:\n",
      " $ gender          : Factor w/ 2 levels \"Female\",\"Male\": 1 2 1 1 2 1 1 2 2 2 ...\n",
      " $ SeniorCitizen   : Factor w/ 2 levels \"0\",\"1\": 1 1 1 1 1 1 1 1 1 1 ...\n",
      " $ Partner         : Factor w/ 2 levels \"No\",\"Yes\": 2 1 1 1 1 1 2 2 1 1 ...\n",
      " $ Dependents      : Factor w/ 2 levels \"No\",\"Yes\": 1 1 1 1 2 1 1 2 1 1 ...\n",
      " $ tenure          : int  1 2 2 8 22 10 28 13 49 25 ...\n",
      " $ PhoneService    : Factor w/ 2 levels \"No\",\"Yes\": 1 2 2 2 2 1 2 2 2 2 ...\n",
      " $ MultipleLines   : Factor w/ 3 levels \"No\",\"No phone service\",..: 2 1 1 3 3 2 3 1 3 1 ...\n",
      " $ InternetService : Factor w/ 3 levels \"DSL\",\"Fiber optic\",..: 1 1 2 2 2 1 2 1 2 2 ...\n",
      " $ OnlineSecurity  : Factor w/ 3 levels \"No\",\"No internet service\",..: 1 3 1 1 1 3 1 3 1 3 ...\n",
      " $ OnlineBackup    : Factor w/ 3 levels \"No\",\"No internet service\",..: 3 3 1 1 3 1 1 1 3 1 ...\n",
      " $ DeviceProtection: Factor w/ 3 levels \"No\",\"No internet service\",..: 1 1 1 3 1 1 3 1 3 3 ...\n",
      " $ TechSupport     : Factor w/ 3 levels \"No\",\"No internet service\",..: 1 1 1 1 1 1 3 1 1 3 ...\n",
      " $ StreamingTV     : Factor w/ 3 levels \"No\",\"No internet service\",..: 1 1 1 3 3 1 3 1 3 3 ...\n",
      " $ StreamingMovies : Factor w/ 3 levels \"No\",\"No internet service\",..: 1 1 1 3 1 1 3 1 3 3 ...\n",
      " $ Contract        : Factor w/ 1 level \"Month-to-month\": 1 1 1 1 1 1 1 1 1 1 ...\n",
      " $ PaperlessBilling: Factor w/ 2 levels \"No\",\"Yes\": 2 2 2 2 2 1 2 2 2 2 ...\n",
      " $ PaymentMethod   : Factor w/ 4 levels \"Bank transfer (automatic)\",..: 3 4 3 3 2 4 3 4 1 3 ...\n",
      " $ MonthlyCharges  : num  29.9 53.9 70.7 99.7 89.1 ...\n",
      " $ TotalCharges    : num  29.9 108.2 151.7 820.5 1949.4 ...\n",
      " $ Churn           : Factor w/ 2 levels \"No\",\"Yes\": 1 2 2 2 1 1 2 1 2 1 ...\n"
     ]
    },
    {
     "data": {
      "text/plain": [
       "                \n",
       "                   No  Yes\n",
       "  Month-to-month 2220 1655"
      ]
     },
     "metadata": {},
     "output_type": "display_data"
    }
   ],
   "source": [
    "str(data.set.orig)\n",
    "table(data.set.orig$Contract,data.set.orig$Churn)\n",
    "\n",
    "\n",
    "data.set.orig$Contract = as.character(data.set.orig$Contract)\n",
    "data.set = data.set.orig[data.set.orig$Contract==\"Month-to-month\",]\n",
    "data.set.orig$Contract = as.factor(data.set.orig$Contract)\n",
    "data.set$Contract = as.factor(data.set$Contract)\n",
    "nrow(data.set)\n",
    "str(data.set)\n",
    "table(data.set$Contract,data.set$Churn)"
   ]
  },
  {
   "cell_type": "markdown",
   "metadata": {},
   "source": [
    "## Test Train Split for Month-to-month"
   ]
  },
  {
   "cell_type": "code",
   "execution_count": 12,
   "metadata": {},
   "outputs": [
    {
     "data": {
      "text/html": [
       "3875"
      ],
      "text/latex": [
       "3875"
      ],
      "text/markdown": [
       "3875"
      ],
      "text/plain": [
       "[1] 3875"
      ]
     },
     "metadata": {},
     "output_type": "display_data"
    },
    {
     "data": {
      "text/html": [
       "2712"
      ],
      "text/latex": [
       "2712"
      ],
      "text/markdown": [
       "2712"
      ],
      "text/plain": [
       "[1] 2712"
      ]
     },
     "metadata": {},
     "output_type": "display_data"
    },
    {
     "data": {
      "text/html": [
       "1163"
      ],
      "text/latex": [
       "1163"
      ],
      "text/markdown": [
       "1163"
      ],
      "text/plain": [
       "[1] 1163"
      ]
     },
     "metadata": {},
     "output_type": "display_data"
    }
   ],
   "source": [
    "set.seed(987)\n",
    "sample = sample(1:nrow(data.set),size=.7*nrow(data.set))\n",
    "train.data.set = data.set[sample,]\n",
    "test.data.set = data.set[-sample,]\n",
    "nrow(data.set)\n",
    "nrow(train.data.set)\n",
    "nrow(test.data.set)"
   ]
  },
  {
   "cell_type": "markdown",
   "metadata": {},
   "source": [
    "## Random Forest"
   ]
  },
  {
   "cell_type": "code",
   "execution_count": 17,
   "metadata": {},
   "outputs": [],
   "source": [
    "?randomForest"
   ]
  },
  {
   "cell_type": "code",
   "execution_count": 66,
   "metadata": {
    "scrolled": false
   },
   "outputs": [
    {
     "data": {
      "text/plain": [
       "\n",
       "Call:\n",
       " randomForest(formula = Churn ~ ., data = train.data.set, method = \"class\",      ntree = 250, mtry = 7) \n",
       "               Type of random forest: classification\n",
       "                     Number of trees: 250\n",
       "No. of variables tried at each split: 7\n",
       "\n",
       "        OOB estimate of  error rate: 31.49%\n",
       "Confusion matrix:\n",
       "      No Yes class.error\n",
       "No  1190 355   0.2297735\n",
       "Yes  499 668   0.4275921"
      ]
     },
     "metadata": {},
     "output_type": "display_data"
    }
   ],
   "source": [
    "rf.1 = randomForest( Churn ~ . , data=train.data.set,  method = \"class\", ntree=250, mtry = 7)\n",
    "rf.1"
   ]
  },
  {
   "cell_type": "code",
   "execution_count": 67,
   "metadata": {},
   "outputs": [
    {
     "data": {
      "image/png": "[encoded data removed]",
      "text/plain": [
       "Plot with title “rf.1”"
      ]
     },
     "metadata": {},
     "output_type": "display_data"
    }
   ],
   "source": [
    "plot(rf.1)"
   ]
  },
  {
   "cell_type": "code",
   "execution_count": 68,
   "metadata": {},
   "outputs": [
    {
     "data": {
      "text/html": [
       "<table>\n",
       "<thead><tr><th></th><th scope=col>No</th><th scope=col>Yes</th><th scope=col>class.error</th></tr></thead>\n",
       "<tbody>\n",
       "\t<tr><th scope=row>No</th><td>1190     </td><td>355      </td><td>0.2297735</td></tr>\n",
       "\t<tr><th scope=row>Yes</th><td> 499     </td><td>668      </td><td>0.4275921</td></tr>\n",
       "</tbody>\n",
       "</table>\n"
      ],
      "text/latex": [
       "\\begin{tabular}{r|lll}\n",
       "  & No & Yes & class.error\\\\\n",
       "\\hline\n",
       "\tNo & 1190      & 355       & 0.2297735\\\\\n",
       "\tYes &  499      & 668       & 0.4275921\\\\\n",
       "\\end{tabular}\n"
      ],
      "text/markdown": [
       "\n",
       "| <!--/--> | No | Yes | class.error | \n",
       "|---|---|\n",
       "| No | 1190      | 355       | 0.2297735 | \n",
       "| Yes |  499      | 668       | 0.4275921 | \n",
       "\n",
       "\n"
      ],
      "text/plain": [
       "    No   Yes class.error\n",
       "No  1190 355 0.2297735  \n",
       "Yes  499 668 0.4275921  "
      ]
     },
     "metadata": {},
     "output_type": "display_data"
    }
   ],
   "source": [
    "rf.1$confusion"
   ]
  },
  {
   "cell_type": "code",
   "execution_count": 69,
   "metadata": {},
   "outputs": [
    {
     "data": {
      "text/html": [
       "1190"
      ],
      "text/latex": [
       "1190"
      ],
      "text/markdown": [
       "1190"
      ],
      "text/plain": [
       "[1] 1190"
      ]
     },
     "metadata": {},
     "output_type": "display_data"
    },
    {
     "data": {
      "text/html": [
       "355"
      ],
      "text/latex": [
       "355"
      ],
      "text/markdown": [
       "355"
      ],
      "text/plain": [
       "[1] 355"
      ]
     },
     "metadata": {},
     "output_type": "display_data"
    },
    {
     "data": {
      "text/html": [
       "499"
      ],
      "text/latex": [
       "499"
      ],
      "text/markdown": [
       "499"
      ],
      "text/plain": [
       "[1] 499"
      ]
     },
     "metadata": {},
     "output_type": "display_data"
    },
    {
     "data": {
      "text/html": [
       "668"
      ],
      "text/latex": [
       "668"
      ],
      "text/markdown": [
       "668"
      ],
      "text/plain": [
       "[1] 668"
      ]
     },
     "metadata": {},
     "output_type": "display_data"
    },
    {
     "data": {
      "text/html": [
       "0.685103244837758"
      ],
      "text/latex": [
       "0.685103244837758"
      ],
      "text/markdown": [
       "0.685103244837758"
      ],
      "text/plain": [
       "[1] 0.6851032"
      ]
     },
     "metadata": {},
     "output_type": "display_data"
    },
    {
     "data": {
      "text/html": [
       "0.652981427174976"
      ],
      "text/latex": [
       "0.652981427174976"
      ],
      "text/markdown": [
       "0.652981427174976"
      ],
      "text/plain": [
       "[1] 0.6529814"
      ]
     },
     "metadata": {},
     "output_type": "display_data"
    },
    {
     "data": {
      "text/html": [
       "0.572407883461868"
      ],
      "text/latex": [
       "0.572407883461868"
      ],
      "text/markdown": [
       "0.572407883461868"
      ],
      "text/plain": [
       "[1] 0.5724079"
      ]
     },
     "metadata": {},
     "output_type": "display_data"
    },
    {
     "data": {
      "text/html": [
       "0.610045662100457"
      ],
      "text/latex": [
       "0.610045662100457"
      ],
      "text/markdown": [
       "0.610045662100457"
      ],
      "text/plain": [
       "[1] 0.6100457"
      ]
     },
     "metadata": {},
     "output_type": "display_data"
    }
   ],
   "source": [
    "# table(pred.train.data.set$Churn,pred.train.data.set$Churn.pred)\n",
    "tr.TN = rf.1$confusion[1]\n",
    "tr.FP = rf.1$confusion[3]\n",
    "tr.FN = rf.1$confusion[2]\n",
    "tr.TP = rf.1$confusion[4]\n",
    "\n",
    "tr.TN\n",
    "tr.FP\n",
    "tr.FN\n",
    "tr.TP\n",
    "\n",
    "tr.Accuray = (tr.TN+tr.TP)/(tr.TN+tr.TP+tr.FN+tr.FP)\n",
    "tr.Precision = (tr.TP)/(tr.TP+tr.FP)\n",
    "tr.Recall = (tr.TP)/(tr.TP+tr.FN)\n",
    "tr.F1 = 2*tr.Precision*tr.Recall/(tr.Precision+tr.Recall)\n",
    "\n",
    "tr.Accuray\n",
    "tr.Precision\n",
    "tr.Recall\n",
    "tr.F1"
   ]
  },
  {
   "cell_type": "code",
   "execution_count": 70,
   "metadata": {},
   "outputs": [
    {
     "data": {
      "text/plain": [
       "\n",
       " No Yes \n",
       "675 488 "
      ]
     },
     "metadata": {},
     "output_type": "display_data"
    },
    {
     "data": {
      "text/html": [
       "1163"
      ],
      "text/latex": [
       "1163"
      ],
      "text/markdown": [
       "1163"
      ],
      "text/plain": [
       "[1] 1163"
      ]
     },
     "metadata": {},
     "output_type": "display_data"
    }
   ],
   "source": [
    "## Predictions\n",
    "pred.test.data.set = as.data.frame(test.data.set$Churn)\n",
    "colnames(pred.test.data.set)[1] = \"Churn\"\n",
    "pred.test.data.set$Churn.pred = predict(rf.1,newdata = test.data.set,type=\"class\")\n",
    "# head(pred.test.data.set)\n",
    "table(pred.test.data.set$Churn)\n",
    "nrow(pred.test.data.set)"
   ]
  },
  {
   "cell_type": "code",
   "execution_count": 71,
   "metadata": {},
   "outputs": [
    {
     "data": {
      "text/plain": [
       "     \n",
       "       No Yes\n",
       "  No  498 177\n",
       "  Yes 206 282"
      ]
     },
     "metadata": {},
     "output_type": "display_data"
    },
    {
     "data": {
      "text/html": [
       "0.670679277730009"
      ],
      "text/latex": [
       "0.670679277730009"
      ],
      "text/markdown": [
       "0.670679277730009"
      ],
      "text/plain": [
       "[1] 0.6706793"
      ]
     },
     "metadata": {},
     "output_type": "display_data"
    },
    {
     "data": {
      "text/html": [
       "0.61437908496732"
      ],
      "text/latex": [
       "0.61437908496732"
      ],
      "text/markdown": [
       "0.61437908496732"
      ],
      "text/plain": [
       "[1] 0.6143791"
      ]
     },
     "metadata": {},
     "output_type": "display_data"
    },
    {
     "data": {
      "text/html": [
       "0.577868852459016"
      ],
      "text/latex": [
       "0.577868852459016"
      ],
      "text/markdown": [
       "0.577868852459016"
      ],
      "text/plain": [
       "[1] 0.5778689"
      ]
     },
     "metadata": {},
     "output_type": "display_data"
    },
    {
     "data": {
      "text/html": [
       "0.595564941921859"
      ],
      "text/latex": [
       "0.595564941921859"
      ],
      "text/markdown": [
       "0.595564941921859"
      ],
      "text/plain": [
       "[1] 0.5955649"
      ]
     },
     "metadata": {},
     "output_type": "display_data"
    }
   ],
   "source": [
    "table(pred.test.data.set$Churn,pred.test.data.set$Churn.pred)\n",
    "tt.TN = table(pred.test.data.set$Churn,pred.test.data.set$Churn.pred)[1]\n",
    "tt.FP = table(pred.test.data.set$Churn,pred.test.data.set$Churn.pred)[3]\n",
    "tt.FN = table(pred.test.data.set$Churn,pred.test.data.set$Churn.pred)[2]\n",
    "tt.TP = table(pred.test.data.set$Churn,pred.test.data.set$Churn.pred)[4]\n",
    "\n",
    "tt.Precision = (tt.TP)/(tt.TP+tt.FP)\n",
    "tt.Accuray = (tt.TN+tt.TP)/(tt.TN+tt.TP+tt.FN+tt.FP)\n",
    "tt.Recall = (tt.TP)/(tt.TP+tt.FN)\n",
    "tt.F1 = 2*tt.Precision*tt.Recall/(tt.Precision+tt.Recall)\n",
    "\n",
    "tt.Accuray\n",
    "tt.Precision\n",
    "tt.Recall\n",
    "tt.F1"
   ]
  },
  {
   "cell_type": "markdown",
   "metadata": {},
   "source": [
    "## Test Train Split for Not Month-to-month"
   ]
  },
  {
   "cell_type": "code",
   "execution_count": 72,
   "metadata": {},
   "outputs": [
    {
     "name": "stdout",
     "output_type": "stream",
     "text": [
      "'data.frame':\t7043 obs. of  20 variables:\n",
      " $ gender          : Factor w/ 2 levels \"Female\",\"Male\": 1 2 2 2 1 1 2 1 1 2 ...\n",
      " $ SeniorCitizen   : Factor w/ 2 levels \"0\",\"1\": 1 1 1 1 1 1 1 1 1 1 ...\n",
      " $ Partner         : Factor w/ 2 levels \"No\",\"Yes\": 2 1 1 1 1 1 1 1 2 1 ...\n",
      " $ Dependents      : Factor w/ 2 levels \"No\",\"Yes\": 1 1 1 1 1 1 2 1 1 2 ...\n",
      " $ tenure          : int  1 34 2 45 2 8 22 10 28 62 ...\n",
      " $ PhoneService    : Factor w/ 2 levels \"No\",\"Yes\": 1 2 2 1 2 2 2 1 2 2 ...\n",
      " $ MultipleLines   : Factor w/ 3 levels \"No\",\"No phone service\",..: 2 1 1 2 1 3 3 2 3 1 ...\n",
      " $ InternetService : Factor w/ 3 levels \"DSL\",\"Fiber optic\",..: 1 1 1 1 2 2 2 1 2 1 ...\n",
      " $ OnlineSecurity  : Factor w/ 3 levels \"No\",\"No internet service\",..: 1 3 3 3 1 1 1 3 1 3 ...\n",
      " $ OnlineBackup    : Factor w/ 3 levels \"No\",\"No internet service\",..: 3 1 3 1 1 1 3 1 1 3 ...\n",
      " $ DeviceProtection: Factor w/ 3 levels \"No\",\"No internet service\",..: 1 3 1 3 1 3 1 1 3 1 ...\n",
      " $ TechSupport     : Factor w/ 3 levels \"No\",\"No internet service\",..: 1 1 1 3 1 1 1 1 3 1 ...\n",
      " $ StreamingTV     : Factor w/ 3 levels \"No\",\"No internet service\",..: 1 1 1 1 1 3 3 1 3 1 ...\n",
      " $ StreamingMovies : Factor w/ 3 levels \"No\",\"No internet service\",..: 1 1 1 1 1 3 1 1 3 1 ...\n",
      " $ Contract        : Factor w/ 3 levels \"Month-to-month\",..: 1 2 1 2 1 1 1 1 1 2 ...\n",
      " $ PaperlessBilling: Factor w/ 2 levels \"No\",\"Yes\": 2 1 2 1 2 2 2 1 2 1 ...\n",
      " $ PaymentMethod   : Factor w/ 4 levels \"Bank transfer (automatic)\",..: 3 4 4 1 3 3 2 4 3 1 ...\n",
      " $ MonthlyCharges  : num  29.9 57 53.9 42.3 70.7 ...\n",
      " $ TotalCharges    : num  29.9 1889.5 108.2 1840.8 151.7 ...\n",
      " $ Churn           : Factor w/ 2 levels \"No\",\"Yes\": 1 1 2 1 2 2 1 1 2 1 ...\n"
     ]
    },
    {
     "data": {
      "text/plain": [
       "                \n",
       "                   No  Yes\n",
       "  Month-to-month 2220 1655\n",
       "  One year       1307  166\n",
       "  Two year       1647   48"
      ]
     },
     "metadata": {},
     "output_type": "display_data"
    },
    {
     "data": {
      "text/html": [
       "3168"
      ],
      "text/latex": [
       "3168"
      ],
      "text/markdown": [
       "3168"
      ],
      "text/plain": [
       "[1] 3168"
      ]
     },
     "metadata": {},
     "output_type": "display_data"
    },
    {
     "name": "stdout",
     "output_type": "stream",
     "text": [
      "'data.frame':\t3168 obs. of  20 variables:\n",
      " $ gender          : Factor w/ 2 levels \"Female\",\"Male\": 2 2 2 2 2 1 1 2 2 1 ...\n",
      " $ SeniorCitizen   : Factor w/ 2 levels \"0\",\"1\": 1 1 1 1 1 1 1 1 1 1 ...\n",
      " $ Partner         : Factor w/ 2 levels \"No\",\"Yes\": 1 1 1 1 2 2 1 1 2 2 ...\n",
      " $ Dependents      : Factor w/ 2 levels \"No\",\"Yes\": 1 1 2 1 1 2 1 2 1 1 ...\n",
      " $ tenure          : int  34 45 62 16 58 69 52 71 12 58 ...\n",
      " $ PhoneService    : Factor w/ 2 levels \"No\",\"Yes\": 2 1 2 2 2 2 2 2 2 2 ...\n",
      " $ MultipleLines   : Factor w/ 3 levels \"No\",\"No phone service\",..: 1 2 1 1 3 3 1 3 1 3 ...\n",
      " $ InternetService : Factor w/ 3 levels \"DSL\",\"Fiber optic\",..: 1 1 1 3 2 2 3 2 3 1 ...\n",
      " $ OnlineSecurity  : Factor w/ 3 levels \"No\",\"No internet service\",..: 3 3 3 2 1 3 2 3 2 1 ...\n",
      " $ OnlineBackup    : Factor w/ 3 levels \"No\",\"No internet service\",..: 1 1 3 2 1 3 2 1 2 3 ...\n",
      " $ DeviceProtection: Factor w/ 3 levels \"No\",\"No internet service\",..: 3 3 1 2 3 3 2 3 2 1 ...\n",
      " $ TechSupport     : Factor w/ 3 levels \"No\",\"No internet service\",..: 1 3 1 2 1 3 2 1 2 3 ...\n",
      " $ StreamingTV     : Factor w/ 3 levels \"No\",\"No internet service\",..: 1 1 1 2 3 3 2 3 2 1 ...\n",
      " $ StreamingMovies : Factor w/ 3 levels \"No\",\"No internet service\",..: 1 1 1 2 3 3 2 3 2 1 ...\n",
      " $ Contract        : Factor w/ 2 levels \"One year\",\"Two year\": 1 1 1 2 1 2 1 2 1 2 ...\n",
      " $ PaperlessBilling: Factor w/ 2 levels \"No\",\"Yes\": 1 1 1 1 1 1 1 1 1 2 ...\n",
      " $ PaymentMethod   : Factor w/ 4 levels \"Bank transfer (automatic)\",..: 4 1 1 2 2 2 4 1 1 2 ...\n",
      " $ MonthlyCharges  : num  57 42.3 56.1 18.9 100.3 ...\n",
      " $ TotalCharges    : num  1890 1841 3488 327 5681 ...\n",
      " $ Churn           : Factor w/ 2 levels \"No\",\"Yes\": 1 1 1 1 1 1 1 1 1 1 ...\n"
     ]
    },
    {
     "data": {
      "text/plain": [
       "          \n",
       "             No  Yes\n",
       "  One year 1307  166\n",
       "  Two year 1647   48"
      ]
     },
     "metadata": {},
     "output_type": "display_data"
    },
    {
     "data": {
      "text/plain": [
       "\n",
       "  No  Yes \n",
       "2954  214 "
      ]
     },
     "metadata": {},
     "output_type": "display_data"
    }
   ],
   "source": [
    "str(data.set.orig)\n",
    "table(data.set.orig$Contract,data.set.orig$Churn)\n",
    "\n",
    "data.set.orig$Contract = as.character(data.set.orig$Contract)\n",
    "data.set = data.set.orig[!(data.set.orig$Contract==\"Month-to-month\"),]\n",
    "data.set.orig$Contract = as.factor(data.set.orig$Contract)\n",
    "\n",
    "data.set$Contract = as.factor(data.set$Contract)\n",
    "nrow(data.set)\n",
    "str(data.set)\n",
    "table(data.set$Contract,data.set$Churn)\n",
    "table(data.set$Churn)\n",
    "data.set$Contract = NULL"
   ]
  },
  {
   "cell_type": "code",
   "execution_count": 73,
   "metadata": {},
   "outputs": [
    {
     "data": {
      "text/html": [
       "3168"
      ],
      "text/latex": [
       "3168"
      ],
      "text/markdown": [
       "3168"
      ],
      "text/plain": [
       "[1] 3168"
      ]
     },
     "metadata": {},
     "output_type": "display_data"
    },
    {
     "data": {
      "text/html": [
       "2217"
      ],
      "text/latex": [
       "2217"
      ],
      "text/markdown": [
       "2217"
      ],
      "text/plain": [
       "[1] 2217"
      ]
     },
     "metadata": {},
     "output_type": "display_data"
    },
    {
     "data": {
      "text/html": [
       "951"
      ],
      "text/latex": [
       "951"
      ],
      "text/markdown": [
       "951"
      ],
      "text/plain": [
       "[1] 951"
      ]
     },
     "metadata": {},
     "output_type": "display_data"
    }
   ],
   "source": [
    "set.seed(987)\n",
    "sample = sample(1:nrow(data.set),size=.7*nrow(data.set))\n",
    "train.data.set = data.set[sample,]\n",
    "test.data.set = data.set[-sample,]\n",
    "nrow(data.set)\n",
    "nrow(train.data.set)\n",
    "nrow(test.data.set)"
   ]
  },
  {
   "cell_type": "markdown",
   "metadata": {},
   "source": [
    "## Decision Tree"
   ]
  },
  {
   "cell_type": "code",
   "execution_count": 75,
   "metadata": {
    "scrolled": false
   },
   "outputs": [
    {
     "data": {
      "text/plain": [
       "                Length Class  Mode     \n",
       "call               4   -none- call     \n",
       "type               1   -none- character\n",
       "predicted       2217   factor numeric  \n",
       "err.rate        1500   -none- numeric  \n",
       "confusion          6   -none- numeric  \n",
       "votes           4434   matrix numeric  \n",
       "oob.times       2217   -none- numeric  \n",
       "classes            2   -none- character\n",
       "importance        18   -none- numeric  \n",
       "importanceSD       0   -none- NULL     \n",
       "localImportance    0   -none- NULL     \n",
       "proximity          0   -none- NULL     \n",
       "ntree              1   -none- numeric  \n",
       "mtry               1   -none- numeric  \n",
       "forest            14   -none- list     \n",
       "y               2217   factor numeric  \n",
       "test               0   -none- NULL     \n",
       "inbag              0   -none- NULL     \n",
       "terms              3   terms  call     "
      ]
     },
     "metadata": {},
     "output_type": "display_data"
    },
    {
     "data": {
      "text/plain": [
       "\n",
       "Call:\n",
       " randomForest(formula = Churn ~ ., data = train.data.set, method = \"class\") \n",
       "               Type of random forest: classification\n",
       "                     Number of trees: 500\n",
       "No. of variables tried at each split: 4\n",
       "\n",
       "        OOB estimate of  error rate: 6.99%\n",
       "Confusion matrix:\n",
       "      No Yes class.error\n",
       "No  2062   8 0.003864734\n",
       "Yes  147   0 1.000000000"
      ]
     },
     "metadata": {},
     "output_type": "display_data"
    }
   ],
   "source": [
    "rf.2 = randomForest( Churn ~ . , data=train.data.set,  method = \"class\")\n",
    "summary(rf.2)\n",
    "rf.2"
   ]
  },
  {
   "cell_type": "code",
   "execution_count": 76,
   "metadata": {},
   "outputs": [
    {
     "data": {
      "image/png": "[encoded data removed]",
      "text/plain": [
       "Plot with title “rf.2”"
      ]
     },
     "metadata": {},
     "output_type": "display_data"
    }
   ],
   "source": [
    "plot(rf.2)\n",
    "# ?rpart"
   ]
  },
  {
   "cell_type": "code",
   "execution_count": 77,
   "metadata": {},
   "outputs": [
    {
     "data": {
      "text/html": [
       "<table>\n",
       "<thead><tr><th></th><th scope=col>No</th><th scope=col>Yes</th><th scope=col>class.error</th></tr></thead>\n",
       "<tbody>\n",
       "\t<tr><th scope=row>No</th><td>2062       </td><td>8          </td><td>0.003864734</td></tr>\n",
       "\t<tr><th scope=row>Yes</th><td> 147       </td><td>0          </td><td>1.000000000</td></tr>\n",
       "</tbody>\n",
       "</table>\n"
      ],
      "text/latex": [
       "\\begin{tabular}{r|lll}\n",
       "  & No & Yes & class.error\\\\\n",
       "\\hline\n",
       "\tNo & 2062        & 8           & 0.003864734\\\\\n",
       "\tYes &  147        & 0           & 1.000000000\\\\\n",
       "\\end{tabular}\n"
      ],
      "text/markdown": [
       "\n",
       "| <!--/--> | No | Yes | class.error | \n",
       "|---|---|\n",
       "| No | 2062        | 8           | 0.003864734 | \n",
       "| Yes |  147        | 0           | 1.000000000 | \n",
       "\n",
       "\n"
      ],
      "text/plain": [
       "    No   Yes class.error\n",
       "No  2062 8   0.003864734\n",
       "Yes  147 0   1.000000000"
      ]
     },
     "metadata": {},
     "output_type": "display_data"
    }
   ],
   "source": [
    "rf.2$confusion"
   ]
  },
  {
   "cell_type": "code",
   "execution_count": 78,
   "metadata": {},
   "outputs": [
    {
     "data": {
      "text/html": [
       "2062"
      ],
      "text/latex": [
       "2062"
      ],
      "text/markdown": [
       "2062"
      ],
      "text/plain": [
       "[1] 2062"
      ]
     },
     "metadata": {},
     "output_type": "display_data"
    },
    {
     "data": {
      "text/html": [
       "8"
      ],
      "text/latex": [
       "8"
      ],
      "text/markdown": [
       "8"
      ],
      "text/plain": [
       "[1] 8"
      ]
     },
     "metadata": {},
     "output_type": "display_data"
    },
    {
     "data": {
      "text/html": [
       "147"
      ],
      "text/latex": [
       "147"
      ],
      "text/markdown": [
       "147"
      ],
      "text/plain": [
       "[1] 147"
      ]
     },
     "metadata": {},
     "output_type": "display_data"
    },
    {
     "data": {
      "text/html": [
       "0"
      ],
      "text/latex": [
       "0"
      ],
      "text/markdown": [
       "0"
      ],
      "text/plain": [
       "[1] 0"
      ]
     },
     "metadata": {},
     "output_type": "display_data"
    },
    {
     "data": {
      "text/html": [
       "0.930085701398286"
      ],
      "text/latex": [
       "0.930085701398286"
      ],
      "text/markdown": [
       "0.930085701398286"
      ],
      "text/plain": [
       "[1] 0.9300857"
      ]
     },
     "metadata": {},
     "output_type": "display_data"
    },
    {
     "data": {
      "text/html": [
       "0"
      ],
      "text/latex": [
       "0"
      ],
      "text/markdown": [
       "0"
      ],
      "text/plain": [
       "[1] 0"
      ]
     },
     "metadata": {},
     "output_type": "display_data"
    },
    {
     "data": {
      "text/html": [
       "0"
      ],
      "text/latex": [
       "0"
      ],
      "text/markdown": [
       "0"
      ],
      "text/plain": [
       "[1] 0"
      ]
     },
     "metadata": {},
     "output_type": "display_data"
    },
    {
     "data": {
      "text/html": [
       "NaN"
      ],
      "text/latex": [
       "NaN"
      ],
      "text/markdown": [
       "NaN"
      ],
      "text/plain": [
       "[1] NaN"
      ]
     },
     "metadata": {},
     "output_type": "display_data"
    }
   ],
   "source": [
    "\n",
    "tr.TN = rf.2$confusion[1]\n",
    "tr.FP = rf.2$confusion[3]\n",
    "tr.FN = rf.2$confusion[2]\n",
    "tr.TP = rf.2$confusion[4]\n",
    "\n",
    "tr.TN\n",
    "tr.FP\n",
    "tr.FN\n",
    "tr.TP\n",
    "\n",
    "tr.Accuray = (tr.TN+tr.TP)/(tr.TN+tr.TP+tr.FN+tr.FP)\n",
    "tr.Precision = (tr.TP)/(tr.TP+tr.FP)\n",
    "tr.Recall = (tr.TP)/(tr.TP+tr.FN)\n",
    "tr.F1 = 2*tr.Precision*tr.Recall/(tr.Precision+tr.Recall)\n",
    "\n",
    "tr.Accuray\n",
    "tr.Precision\n",
    "tr.Recall\n",
    "tr.F1"
   ]
  },
  {
   "cell_type": "code",
   "execution_count": 79,
   "metadata": {},
   "outputs": [
    {
     "data": {
      "text/plain": [
       "\n",
       " No Yes \n",
       "884  67 "
      ]
     },
     "metadata": {},
     "output_type": "display_data"
    },
    {
     "data": {
      "text/html": [
       "951"
      ],
      "text/latex": [
       "951"
      ],
      "text/markdown": [
       "951"
      ],
      "text/plain": [
       "[1] 951"
      ]
     },
     "metadata": {},
     "output_type": "display_data"
    }
   ],
   "source": [
    "## Predictions\n",
    "pred.test.data.set = as.data.frame(test.data.set$Churn)\n",
    "colnames(pred.test.data.set)[1] = \"Churn\"\n",
    "pred.test.data.set$Churn.pred = predict(rf.2,newdata = test.data.set,type=\"class\")\n",
    "# head(pred.test.data.set)\n",
    "table(pred.test.data.set$Churn)\n",
    "nrow(pred.test.data.set)"
   ]
  },
  {
   "cell_type": "code",
   "execution_count": 80,
   "metadata": {},
   "outputs": [
    {
     "data": {
      "text/plain": [
       "     \n",
       "       No Yes\n",
       "  No  883   1\n",
       "  Yes  67   0"
      ]
     },
     "metadata": {},
     "output_type": "display_data"
    },
    {
     "data": {
      "text/html": [
       "883"
      ],
      "text/latex": [
       "883"
      ],
      "text/markdown": [
       "883"
      ],
      "text/plain": [
       "[1] 883"
      ]
     },
     "metadata": {},
     "output_type": "display_data"
    },
    {
     "data": {
      "text/html": [
       "1"
      ],
      "text/latex": [
       "1"
      ],
      "text/markdown": [
       "1"
      ],
      "text/plain": [
       "[1] 1"
      ]
     },
     "metadata": {},
     "output_type": "display_data"
    },
    {
     "data": {
      "text/html": [
       "67"
      ],
      "text/latex": [
       "67"
      ],
      "text/markdown": [
       "67"
      ],
      "text/plain": [
       "[1] 67"
      ]
     },
     "metadata": {},
     "output_type": "display_data"
    },
    {
     "data": {
      "text/html": [
       "0"
      ],
      "text/latex": [
       "0"
      ],
      "text/markdown": [
       "0"
      ],
      "text/plain": [
       "[1] 0"
      ]
     },
     "metadata": {},
     "output_type": "display_data"
    },
    {
     "data": {
      "text/html": [
       "0.928496319663512"
      ],
      "text/latex": [
       "0.928496319663512"
      ],
      "text/markdown": [
       "0.928496319663512"
      ],
      "text/plain": [
       "[1] 0.9284963"
      ]
     },
     "metadata": {},
     "output_type": "display_data"
    },
    {
     "data": {
      "text/html": [
       "0"
      ],
      "text/latex": [
       "0"
      ],
      "text/markdown": [
       "0"
      ],
      "text/plain": [
       "[1] 0"
      ]
     },
     "metadata": {},
     "output_type": "display_data"
    },
    {
     "data": {
      "text/html": [
       "0"
      ],
      "text/latex": [
       "0"
      ],
      "text/markdown": [
       "0"
      ],
      "text/plain": [
       "[1] 0"
      ]
     },
     "metadata": {},
     "output_type": "display_data"
    },
    {
     "data": {
      "text/html": [
       "NaN"
      ],
      "text/latex": [
       "NaN"
      ],
      "text/markdown": [
       "NaN"
      ],
      "text/plain": [
       "[1] NaN"
      ]
     },
     "metadata": {},
     "output_type": "display_data"
    }
   ],
   "source": [
    "table(pred.test.data.set$Churn,pred.test.data.set$Churn.pred)\n",
    "tt.TN = table(pred.test.data.set$Churn,pred.test.data.set$Churn.pred)[1]\n",
    "tt.FP = table(pred.test.data.set$Churn,pred.test.data.set$Churn.pred)[3]\n",
    "tt.FN = table(pred.test.data.set$Churn,pred.test.data.set$Churn.pred)[2]\n",
    "tt.TP = table(pred.test.data.set$Churn,pred.test.data.set$Churn.pred)[4]\n",
    "\n",
    "tt.TN\n",
    "tt.FP\n",
    "tt.FN\n",
    "tt.TP\n",
    "\n",
    "tt.Precision = (tt.TP)/(tt.TP+tt.FP)\n",
    "tt.Accuray = (tt.TN+tt.TP)/(tt.TN+tt.TP+tt.FN+tt.FP)\n",
    "\n",
    "tt.Recall = (tt.TP)/(tt.TP+tt.FN)\n",
    "tt.F1 = 2*tt.Precision*tt.Recall/(tt.Precision+tt.Recall)\n",
    "\n",
    "tt.Accuray\n",
    "tt.Precision\n",
    "tt.Recall\n",
    "tt.F1"
   ]
  },
  {
   "cell_type": "code",
   "execution_count": null,
   "metadata": {},
   "outputs": [],
   "source": []
  }
 ],
 "metadata": {
  "kernelspec": {
   "display_name": "R",
   "language": "R",
   "name": "ir"
  },
  "language_info": {
   "codemirror_mode": "r",
   "file_extension": ".r",
   "mimetype": "text/x-r-source",
   "name": "R",
   "pygments_lexer": "r",
   "version": "3.4.1"
  }
 },
 "nbformat": 4,
 "nbformat_minor": 2
}
