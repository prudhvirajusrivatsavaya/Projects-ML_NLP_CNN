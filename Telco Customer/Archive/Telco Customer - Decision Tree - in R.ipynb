{
 "cells": [
  {
   "cell_type": "markdown",
   "metadata": {},
   "source": [
    "# Telco Customer Dataset - Churn predcition using Decison Tree"
   ]
  },
  {
   "cell_type": "code",
   "execution_count": 1,
   "metadata": {},
   "outputs": [],
   "source": [
    "# install.packages(\"ggplot2\")\n",
    "# install.packages(\"dplyr\")\n",
    "# install.packages(\"rpart\")\n",
    "# install.packages(\"rattle\")\n",
    "# install.packages(\"rpart.plot\")\n",
    "# install.packages(\"RColorBrewer\")\n",
    "# install.packages(\"party\")\n",
    "# install.packages(\"partykit\")\n",
    "# install.packages(\"caret\")\n",
    "# install.packages(\"heuristica\")"
   ]
  },
  {
   "cell_type": "code",
   "execution_count": 2,
   "metadata": {},
   "outputs": [
    {
     "name": "stderr",
     "output_type": "stream",
     "text": [
      "Warning message:\n",
      "“package ‘dplyr’ was built under R version 3.4.2”\n",
      "Attaching package: ‘dplyr’\n",
      "\n",
      "The following objects are masked from ‘package:stats’:\n",
      "\n",
      "    filter, lag\n",
      "\n",
      "The following objects are masked from ‘package:base’:\n",
      "\n",
      "    intersect, setdiff, setequal, union\n",
      "\n",
      "Warning message:\n",
      "“package ‘rpart’ was built under R version 3.4.3”"
     ]
    }
   ],
   "source": [
    "library(ggplot2)\n",
    "library(dplyr)\n",
    "library(rpart)\n",
    "# library(dummies)\n",
    "# library(rattle)\n",
    "library(rpart.plot)\n",
    "library(heuristica)\n",
    "# library(RColorBrewer)\n",
    "# library(party)\n",
    "# library(partykit)\n",
    "# library(caret)"
   ]
  },
  {
   "cell_type": "markdown",
   "metadata": {},
   "source": [
    "## Reading dataset"
   ]
  },
  {
   "cell_type": "code",
   "execution_count": 3,
   "metadata": {},
   "outputs": [
    {
     "name": "stdout",
     "output_type": "stream",
     "text": [
      "'data.frame':\t7043 obs. of  21 variables:\n",
      " $ customerID      : Factor w/ 7043 levels \"0002-ORFBO\",\"0003-MKNFE\",..: 5376 3963 2565 5536 6512 6552 1003 4771 5605 4535 ...\n",
      " $ gender          : Factor w/ 2 levels \"Female\",\"Male\": 1 2 2 2 1 1 2 1 1 2 ...\n",
      " $ SeniorCitizen   : int  0 0 0 0 0 0 0 0 0 0 ...\n",
      " $ Partner         : Factor w/ 2 levels \"No\",\"Yes\": 2 1 1 1 1 1 1 1 2 1 ...\n",
      " $ Dependents      : Factor w/ 2 levels \"No\",\"Yes\": 1 1 1 1 1 1 2 1 1 2 ...\n",
      " $ tenure          : int  1 34 2 45 2 8 22 10 28 62 ...\n",
      " $ PhoneService    : Factor w/ 2 levels \"No\",\"Yes\": 1 2 2 1 2 2 2 1 2 2 ...\n",
      " $ MultipleLines   : Factor w/ 3 levels \"No\",\"No phone service\",..: 2 1 1 2 1 3 3 2 3 1 ...\n",
      " $ InternetService : Factor w/ 3 levels \"DSL\",\"Fiber optic\",..: 1 1 1 1 2 2 2 1 2 1 ...\n",
      " $ OnlineSecurity  : Factor w/ 3 levels \"No\",\"No internet service\",..: 1 3 3 3 1 1 1 3 1 3 ...\n",
      " $ OnlineBackup    : Factor w/ 3 levels \"No\",\"No internet service\",..: 3 1 3 1 1 1 3 1 1 3 ...\n",
      " $ DeviceProtection: Factor w/ 3 levels \"No\",\"No internet service\",..: 1 3 1 3 1 3 1 1 3 1 ...\n",
      " $ TechSupport     : Factor w/ 3 levels \"No\",\"No internet service\",..: 1 1 1 3 1 1 1 1 3 1 ...\n",
      " $ StreamingTV     : Factor w/ 3 levels \"No\",\"No internet service\",..: 1 1 1 1 1 3 3 1 3 1 ...\n",
      " $ StreamingMovies : Factor w/ 3 levels \"No\",\"No internet service\",..: 1 1 1 1 1 3 1 1 3 1 ...\n",
      " $ Contract        : Factor w/ 3 levels \"Month-to-month\",..: 1 2 1 2 1 1 1 1 1 2 ...\n",
      " $ PaperlessBilling: Factor w/ 2 levels \"No\",\"Yes\": 2 1 2 1 2 2 2 1 2 1 ...\n",
      " $ PaymentMethod   : Factor w/ 4 levels \"Bank transfer (automatic)\",..: 3 4 4 1 3 3 2 4 3 1 ...\n",
      " $ MonthlyCharges  : num  29.9 57 53.9 42.3 70.7 ...\n",
      " $ TotalCharges    : num  29.9 1889.5 108.2 1840.8 151.7 ...\n",
      " $ Churn           : Factor w/ 2 levels \"No\",\"Yes\": 1 1 2 1 2 2 1 1 2 1 ...\n"
     ]
    },
    {
     "data": {
      "text/plain": [
       "      customerID      gender     SeniorCitizen    Partner    Dependents\n",
       " 0002-ORFBO:   1   Female:3488   Min.   :0.0000   No :3641   No :4933  \n",
       " 0003-MKNFE:   1   Male  :3555   1st Qu.:0.0000   Yes:3402   Yes:2110  \n",
       " 0004-TLHLJ:   1                 Median :0.0000                        \n",
       " 0011-IGKFF:   1                 Mean   :0.1621                        \n",
       " 0013-EXCHZ:   1                 3rd Qu.:0.0000                        \n",
       " 0013-MHZWF:   1                 Max.   :1.0000                        \n",
       " (Other)   :7037                                                       \n",
       "     tenure      PhoneService          MultipleLines     InternetService\n",
       " Min.   : 0.00   No : 682     No              :3390   DSL        :2421  \n",
       " 1st Qu.: 9.00   Yes:6361     No phone service: 682   Fiber optic:3096  \n",
       " Median :29.00                Yes             :2971   No         :1526  \n",
       " Mean   :32.37                                                          \n",
       " 3rd Qu.:55.00                                                          \n",
       " Max.   :72.00                                                          \n",
       "                                                                        \n",
       "             OnlineSecurity              OnlineBackup \n",
       " No                 :3498   No                 :3088  \n",
       " No internet service:1526   No internet service:1526  \n",
       " Yes                :2019   Yes                :2429  \n",
       "                                                      \n",
       "                                                      \n",
       "                                                      \n",
       "                                                      \n",
       "            DeviceProtection              TechSupport  \n",
       " No                 :3095    No                 :3473  \n",
       " No internet service:1526    No internet service:1526  \n",
       " Yes                :2422    Yes                :2044  \n",
       "                                                       \n",
       "                                                       \n",
       "                                                       \n",
       "                                                       \n",
       "              StreamingTV              StreamingMovies           Contract   \n",
       " No                 :2810   No                 :2785   Month-to-month:3875  \n",
       " No internet service:1526   No internet service:1526   One year      :1473  \n",
       " Yes                :2707   Yes                :2732   Two year      :1695  \n",
       "                                                                            \n",
       "                                                                            \n",
       "                                                                            \n",
       "                                                                            \n",
       " PaperlessBilling                   PaymentMethod  MonthlyCharges  \n",
       " No :2872         Bank transfer (automatic):1544   Min.   : 18.25  \n",
       " Yes:4171         Credit card (automatic)  :1522   1st Qu.: 35.50  \n",
       "                  Electronic check         :2365   Median : 70.35  \n",
       "                  Mailed check             :1612   Mean   : 64.76  \n",
       "                                                   3rd Qu.: 89.85  \n",
       "                                                   Max.   :118.75  \n",
       "                                                                   \n",
       "  TotalCharges    Churn     \n",
       " Min.   :  18.8   No :5174  \n",
       " 1st Qu.: 401.4   Yes:1869  \n",
       " Median :1397.5             \n",
       " Mean   :2283.3             \n",
       " 3rd Qu.:3794.7             \n",
       " Max.   :8684.8             \n",
       " NA's   :11                 "
      ]
     },
     "metadata": {},
     "output_type": "display_data"
    },
    {
     "data": {
      "text/plain": [
       "\n",
       "       No       Yes \n",
       "0.7346301 0.2653699 "
      ]
     },
     "metadata": {},
     "output_type": "display_data"
    }
   ],
   "source": [
    "data.set = read.csv(file=\"Datasets/Teleco_Cust_Attr.csv\",header = T)\n",
    "str(data.set)\n",
    "summary(data.set)\n",
    "prop.table(table(data.set$Churn))"
   ]
  },
  {
   "cell_type": "markdown",
   "metadata": {},
   "source": [
    "## Data preprocessing"
   ]
  },
  {
   "cell_type": "code",
   "execution_count": 4,
   "metadata": {
    "scrolled": false
   },
   "outputs": [
    {
     "data": {
      "text/html": [
       "<dl class=dl-horizontal>\n",
       "\t<dt>gender</dt>\n",
       "\t\t<dd>0</dd>\n",
       "\t<dt>SeniorCitizen</dt>\n",
       "\t\t<dd>0</dd>\n",
       "\t<dt>Partner</dt>\n",
       "\t\t<dd>0</dd>\n",
       "\t<dt>Dependents</dt>\n",
       "\t\t<dd>0</dd>\n",
       "\t<dt>tenure</dt>\n",
       "\t\t<dd>0</dd>\n",
       "\t<dt>PhoneService</dt>\n",
       "\t\t<dd>0</dd>\n",
       "\t<dt>MultipleLines</dt>\n",
       "\t\t<dd>0</dd>\n",
       "\t<dt>InternetService</dt>\n",
       "\t\t<dd>0</dd>\n",
       "\t<dt>OnlineSecurity</dt>\n",
       "\t\t<dd>0</dd>\n",
       "\t<dt>OnlineBackup</dt>\n",
       "\t\t<dd>0</dd>\n",
       "\t<dt>DeviceProtection</dt>\n",
       "\t\t<dd>0</dd>\n",
       "\t<dt>TechSupport</dt>\n",
       "\t\t<dd>0</dd>\n",
       "\t<dt>StreamingTV</dt>\n",
       "\t\t<dd>0</dd>\n",
       "\t<dt>StreamingMovies</dt>\n",
       "\t\t<dd>0</dd>\n",
       "\t<dt>Contract</dt>\n",
       "\t\t<dd>0</dd>\n",
       "\t<dt>PaperlessBilling</dt>\n",
       "\t\t<dd>0</dd>\n",
       "\t<dt>PaymentMethod</dt>\n",
       "\t\t<dd>0</dd>\n",
       "\t<dt>MonthlyCharges</dt>\n",
       "\t\t<dd>0</dd>\n",
       "\t<dt>TotalCharges</dt>\n",
       "\t\t<dd>11</dd>\n",
       "\t<dt>Churn</dt>\n",
       "\t\t<dd>0</dd>\n",
       "</dl>\n"
      ],
      "text/latex": [
       "\\begin{description*}\n",
       "\\item[gender] 0\n",
       "\\item[SeniorCitizen] 0\n",
       "\\item[Partner] 0\n",
       "\\item[Dependents] 0\n",
       "\\item[tenure] 0\n",
       "\\item[PhoneService] 0\n",
       "\\item[MultipleLines] 0\n",
       "\\item[InternetService] 0\n",
       "\\item[OnlineSecurity] 0\n",
       "\\item[OnlineBackup] 0\n",
       "\\item[DeviceProtection] 0\n",
       "\\item[TechSupport] 0\n",
       "\\item[StreamingTV] 0\n",
       "\\item[StreamingMovies] 0\n",
       "\\item[Contract] 0\n",
       "\\item[PaperlessBilling] 0\n",
       "\\item[PaymentMethod] 0\n",
       "\\item[MonthlyCharges] 0\n",
       "\\item[TotalCharges] 11\n",
       "\\item[Churn] 0\n",
       "\\end{description*}\n"
      ],
      "text/markdown": [
       "gender\n",
       ":   0SeniorCitizen\n",
       ":   0Partner\n",
       ":   0Dependents\n",
       ":   0tenure\n",
       ":   0PhoneService\n",
       ":   0MultipleLines\n",
       ":   0InternetService\n",
       ":   0OnlineSecurity\n",
       ":   0OnlineBackup\n",
       ":   0DeviceProtection\n",
       ":   0TechSupport\n",
       ":   0StreamingTV\n",
       ":   0StreamingMovies\n",
       ":   0Contract\n",
       ":   0PaperlessBilling\n",
       ":   0PaymentMethod\n",
       ":   0MonthlyCharges\n",
       ":   0TotalCharges\n",
       ":   11Churn\n",
       ":   0\n",
       "\n"
      ],
      "text/plain": [
       "          gender    SeniorCitizen          Partner       Dependents \n",
       "               0                0                0                0 \n",
       "          tenure     PhoneService    MultipleLines  InternetService \n",
       "               0                0                0                0 \n",
       "  OnlineSecurity     OnlineBackup DeviceProtection      TechSupport \n",
       "               0                0                0                0 \n",
       "     StreamingTV  StreamingMovies         Contract PaperlessBilling \n",
       "               0                0                0                0 \n",
       "   PaymentMethod   MonthlyCharges     TotalCharges            Churn \n",
       "               0                0               11                0 "
      ]
     },
     "metadata": {},
     "output_type": "display_data"
    }
   ],
   "source": [
    "data.set$customerID = NULL\n",
    "sapply(data.set,function(x){sum(is.na(x))})"
   ]
  },
  {
   "cell_type": "markdown",
   "metadata": {},
   "source": [
    "### Handling nulls"
   ]
  },
  {
   "cell_type": "code",
   "execution_count": 5,
   "metadata": {},
   "outputs": [],
   "source": [
    "data.set$TotalCharges = ifelse(is.na(data.set$TotalCharges),data.set$MonthlyCharges*data.set$tenure,data.set$TotalCharges)"
   ]
  },
  {
   "cell_type": "code",
   "execution_count": 6,
   "metadata": {},
   "outputs": [
    {
     "data": {
      "text/html": [
       "<ol class=list-inline>\n",
       "\t<li>0</li>\n",
       "\t<li>1</li>\n",
       "</ol>\n"
      ],
      "text/latex": [
       "\\begin{enumerate*}\n",
       "\\item 0\n",
       "\\item 1\n",
       "\\end{enumerate*}\n"
      ],
      "text/markdown": [
       "1. 0\n",
       "2. 1\n",
       "\n",
       "\n"
      ],
      "text/plain": [
       "[1] 0 1"
      ]
     },
     "metadata": {},
     "output_type": "display_data"
    }
   ],
   "source": [
    "unique(data.set$SeniorCitizen)\n",
    "data.set$SeniorCitizen = as.factor(data.set$SeniorCitizen)"
   ]
  },
  {
   "cell_type": "code",
   "execution_count": 7,
   "metadata": {},
   "outputs": [
    {
     "name": "stdout",
     "output_type": "stream",
     "text": [
      "'data.frame':\t7043 obs. of  20 variables:\n",
      " $ gender          : Factor w/ 2 levels \"Female\",\"Male\": 1 2 2 2 1 1 2 1 1 2 ...\n",
      " $ SeniorCitizen   : Factor w/ 2 levels \"0\",\"1\": 1 1 1 1 1 1 1 1 1 1 ...\n",
      " $ Partner         : Factor w/ 2 levels \"No\",\"Yes\": 2 1 1 1 1 1 1 1 2 1 ...\n",
      " $ Dependents      : Factor w/ 2 levels \"No\",\"Yes\": 1 1 1 1 1 1 2 1 1 2 ...\n",
      " $ tenure          : int  1 34 2 45 2 8 22 10 28 62 ...\n",
      " $ PhoneService    : Factor w/ 2 levels \"No\",\"Yes\": 1 2 2 1 2 2 2 1 2 2 ...\n",
      " $ MultipleLines   : Factor w/ 3 levels \"No\",\"No phone service\",..: 2 1 1 2 1 3 3 2 3 1 ...\n",
      " $ InternetService : Factor w/ 3 levels \"DSL\",\"Fiber optic\",..: 1 1 1 1 2 2 2 1 2 1 ...\n",
      " $ OnlineSecurity  : Factor w/ 3 levels \"No\",\"No internet service\",..: 1 3 3 3 1 1 1 3 1 3 ...\n",
      " $ OnlineBackup    : Factor w/ 3 levels \"No\",\"No internet service\",..: 3 1 3 1 1 1 3 1 1 3 ...\n",
      " $ DeviceProtection: Factor w/ 3 levels \"No\",\"No internet service\",..: 1 3 1 3 1 3 1 1 3 1 ...\n",
      " $ TechSupport     : Factor w/ 3 levels \"No\",\"No internet service\",..: 1 1 1 3 1 1 1 1 3 1 ...\n",
      " $ StreamingTV     : Factor w/ 3 levels \"No\",\"No internet service\",..: 1 1 1 1 1 3 3 1 3 1 ...\n",
      " $ StreamingMovies : Factor w/ 3 levels \"No\",\"No internet service\",..: 1 1 1 1 1 3 1 1 3 1 ...\n",
      " $ Contract        : Factor w/ 3 levels \"Month-to-month\",..: 1 2 1 2 1 1 1 1 1 2 ...\n",
      " $ PaperlessBilling: Factor w/ 2 levels \"No\",\"Yes\": 2 1 2 1 2 2 2 1 2 1 ...\n",
      " $ PaymentMethod   : Factor w/ 4 levels \"Bank transfer (automatic)\",..: 3 4 4 1 3 3 2 4 3 1 ...\n",
      " $ MonthlyCharges  : num  29.9 57 53.9 42.3 70.7 ...\n",
      " $ TotalCharges    : num  29.9 1889.5 108.2 1840.8 151.7 ...\n",
      " $ Churn           : Factor w/ 2 levels \"No\",\"Yes\": 1 1 2 1 2 2 1 1 2 1 ...\n"
     ]
    }
   ],
   "source": [
    "str(data.set)"
   ]
  },
  {
   "cell_type": "markdown",
   "metadata": {},
   "source": [
    "## Test Train Split"
   ]
  },
  {
   "cell_type": "code",
   "execution_count": 8,
   "metadata": {},
   "outputs": [
    {
     "data": {
      "text/html": [
       "7043"
      ],
      "text/latex": [
       "7043"
      ],
      "text/markdown": [
       "7043"
      ],
      "text/plain": [
       "[1] 7043"
      ]
     },
     "metadata": {},
     "output_type": "display_data"
    },
    {
     "data": {
      "text/html": [
       "4930"
      ],
      "text/latex": [
       "4930"
      ],
      "text/markdown": [
       "4930"
      ],
      "text/plain": [
       "[1] 4930"
      ]
     },
     "metadata": {},
     "output_type": "display_data"
    },
    {
     "data": {
      "text/html": [
       "2113"
      ],
      "text/latex": [
       "2113"
      ],
      "text/markdown": [
       "2113"
      ],
      "text/plain": [
       "[1] 2113"
      ]
     },
     "metadata": {},
     "output_type": "display_data"
    }
   ],
   "source": [
    "set.seed(987)\n",
    "sample = sample(1:nrow(data.set),size=.7*nrow(data.set))\n",
    "train.data.set = data.set[sample,]\n",
    "test.data.set = data.set[-sample,]\n",
    "nrow(data.set)\n",
    "nrow(train.data.set)\n",
    "nrow(test.data.set)"
   ]
  },
  {
   "cell_type": "markdown",
   "metadata": {},
   "source": [
    "## Decision Tree"
   ]
  },
  {
   "cell_type": "code",
   "execution_count": 9,
   "metadata": {
    "scrolled": false
   },
   "outputs": [
    {
     "name": "stdout",
     "output_type": "stream",
     "text": [
      "Call:\n",
      "rpart(formula = Churn ~ ., data = train.data.set, method = \"class\")\n",
      "  n= 4930 \n",
      "\n",
      "          CP nsplit rel error    xerror       xstd\n",
      "1 0.06966692      0 1.0000000 1.0000000 0.02366298\n",
      "2 0.01220442      3 0.7909992 0.8047292 0.02196524\n",
      "3 0.01000000      5 0.7665904 0.8039664 0.02195766\n",
      "\n",
      "Variable importance\n",
      "        Contract           tenure     TotalCharges   OnlineSecurity \n",
      "              20               17               14               10 \n",
      "     TechSupport DeviceProtection   MonthlyCharges  InternetService \n",
      "               9                8                7                7 \n",
      "    OnlineBackup    MultipleLines      StreamingTV          Partner \n",
      "               4                3                1                1 \n",
      "\n",
      "Node number 1: 4930 observations,    complexity param=0.06966692\n",
      "  predicted class=No   expected loss=0.2659229  P(node) =1\n",
      "    class counts:  3619  1311\n",
      "   probabilities: 0.734 0.266 \n",
      "  left son=2 (2221 obs) right son=3 (2709 obs)\n",
      "  Primary splits:\n",
      "      Contract       splits as  RLL,          improve=305.2896, (0 missing)\n",
      "      OnlineSecurity splits as  RLL,          improve=235.1232, (0 missing)\n",
      "      TechSupport    splits as  RLL,          improve=221.8774, (0 missing)\n",
      "      tenure         < 17.5     to the right, improve=200.8013, (0 missing)\n",
      "      PaymentMethod  splits as  LLRL,         improve=192.4482, (0 missing)\n",
      "  Surrogate splits:\n",
      "      tenure           < 34.5     to the right, agree=0.789, adj=0.533, (0 split)\n",
      "      TechSupport      splits as  RLL,          agree=0.721, adj=0.381, (0 split)\n",
      "      OnlineSecurity   splits as  RLL,          agree=0.704, adj=0.344, (0 split)\n",
      "      DeviceProtection splits as  RLL,          agree=0.697, adj=0.328, (0 split)\n",
      "      TotalCharges     < 2999.6   to the right, agree=0.692, adj=0.316, (0 split)\n",
      "\n",
      "Node number 2: 2221 observations\n",
      "  predicted class=No   expected loss=0.07158937  P(node) =0.4505071\n",
      "    class counts:  2062   159\n",
      "   probabilities: 0.928 0.072 \n",
      "\n",
      "Node number 3: 2709 observations,    complexity param=0.06966692\n",
      "  predicted class=No   expected loss=0.4252492  P(node) =0.5494929\n",
      "    class counts:  1557  1152\n",
      "   probabilities: 0.575 0.425 \n",
      "  left son=6 (1221 obs) right son=7 (1488 obs)\n",
      "  Primary splits:\n",
      "      InternetService splits as  LRL,          improve=86.41491, (0 missing)\n",
      "      OnlineSecurity  splits as  RLL,          improve=84.50250, (0 missing)\n",
      "      TechSupport     splits as  RLL,          improve=71.11258, (0 missing)\n",
      "      MonthlyCharges  < 68.425   to the left,  improve=66.88727, (0 missing)\n",
      "      PaymentMethod   splits as  LLRL,         improve=66.70927, (0 missing)\n",
      "  Surrogate splits:\n",
      "      MonthlyCharges < 68.425   to the left,  agree=0.971, adj=0.935, (0 split)\n",
      "      MultipleLines  splits as  LLR,          agree=0.693, adj=0.319, (0 split)\n",
      "      TotalCharges   < 750.875  to the left,  agree=0.687, adj=0.305, (0 split)\n",
      "      OnlineSecurity splits as  RLR,          agree=0.684, adj=0.298, (0 split)\n",
      "      OnlineBackup   splits as  RLR,          agree=0.684, adj=0.298, (0 split)\n",
      "\n",
      "Node number 6: 1221 observations,    complexity param=0.01220442\n",
      "  predicted class=No   expected loss=0.2858313  P(node) =0.2476673\n",
      "    class counts:   872   349\n",
      "   probabilities: 0.714 0.286 \n",
      "  left son=12 (738 obs) right son=13 (483 obs)\n",
      "  Primary splits:\n",
      "      tenure         < 4.5      to the right, improve=34.48000, (0 missing)\n",
      "      TotalCharges   < 223.525  to the right, improve=27.71819, (0 missing)\n",
      "      OnlineSecurity splits as  RLL,          improve=19.46203, (0 missing)\n",
      "      TechSupport    splits as  RLL,          improve=18.28125, (0 missing)\n",
      "      OnlineBackup   splits as  RLL,          improve=17.09769, (0 missing)\n",
      "  Surrogate splits:\n",
      "      TotalCharges   < 152.45   to the right, agree=0.927, adj=0.816, (0 split)\n",
      "      PaymentMethod  splits as  LLLR,         agree=0.640, adj=0.091, (0 split)\n",
      "      MonthlyCharges < 24.475   to the right, agree=0.624, adj=0.050, (0 split)\n",
      "\n",
      "Node number 7: 1488 observations,    complexity param=0.06966692\n",
      "  predicted class=Yes  expected loss=0.4603495  P(node) =0.3018256\n",
      "    class counts:   685   803\n",
      "   probabilities: 0.460 0.540 \n",
      "  left son=14 (768 obs) right son=15 (720 obs)\n",
      "  Primary splits:\n",
      "      tenure         < 15.5     to the right, improve=63.30110, (0 missing)\n",
      "      TotalCharges   < 1593.55  to the right, improve=58.92944, (0 missing)\n",
      "      OnlineSecurity splits as  R-L,          improve=20.97759, (0 missing)\n",
      "      PaymentMethod  splits as  LLRL,         improve=18.95190, (0 missing)\n",
      "      TechSupport    splits as  R-L,          improve=12.56191, (0 missing)\n",
      "  Surrogate splits:\n",
      "      TotalCharges   < 1278.325 to the right, agree=0.975, adj=0.949, (0 split)\n",
      "      MonthlyCharges < 86.475   to the right, agree=0.665, adj=0.308, (0 split)\n",
      "      MultipleLines  splits as  R-L,          agree=0.650, adj=0.276, (0 split)\n",
      "      Partner        splits as  RL,           agree=0.625, adj=0.225, (0 split)\n",
      "      OnlineBackup   splits as  R-L,          agree=0.615, adj=0.204, (0 split)\n",
      "\n",
      "Node number 12: 738 observations\n",
      "  predicted class=No   expected loss=0.1897019  P(node) =0.1496957\n",
      "    class counts:   598   140\n",
      "   probabilities: 0.810 0.190 \n",
      "\n",
      "Node number 13: 483 observations,    complexity param=0.01220442\n",
      "  predicted class=No   expected loss=0.4327122  P(node) =0.0979716\n",
      "    class counts:   274   209\n",
      "   probabilities: 0.567 0.433 \n",
      "  left son=26 (227 obs) right son=27 (256 obs)\n",
      "  Primary splits:\n",
      "      TechSupport      splits as  RLL, improve=18.35096, (0 missing)\n",
      "      OnlineSecurity   splits as  RLL, improve=14.89181, (0 missing)\n",
      "      InternetService  splits as  R-L, improve=14.17444, (0 missing)\n",
      "      OnlineBackup     splits as  RLR, improve=14.17444, (0 missing)\n",
      "      DeviceProtection splits as  RLR, improve=14.17444, (0 missing)\n",
      "  Surrogate splits:\n",
      "      InternetService  splits as  R-L, agree=0.905, adj=0.797, (0 split)\n",
      "      OnlineSecurity   splits as  RLR, agree=0.905, adj=0.797, (0 split)\n",
      "      OnlineBackup     splits as  RLR, agree=0.905, adj=0.797, (0 split)\n",
      "      DeviceProtection splits as  RLR, agree=0.905, adj=0.797, (0 split)\n",
      "      StreamingTV      splits as  RLR, agree=0.905, adj=0.797, (0 split)\n",
      "\n",
      "Node number 14: 768 observations\n",
      "  predicted class=No   expected loss=0.3984375  P(node) =0.1557809\n",
      "    class counts:   462   306\n",
      "   probabilities: 0.602 0.398 \n",
      "\n",
      "Node number 15: 720 observations\n",
      "  predicted class=Yes  expected loss=0.3097222  P(node) =0.1460446\n",
      "    class counts:   223   497\n",
      "   probabilities: 0.310 0.690 \n",
      "\n",
      "Node number 26: 227 observations\n",
      "  predicted class=No   expected loss=0.2863436  P(node) =0.04604462\n",
      "    class counts:   162    65\n",
      "   probabilities: 0.714 0.286 \n",
      "\n",
      "Node number 27: 256 observations\n",
      "  predicted class=Yes  expected loss=0.4375  P(node) =0.05192698\n",
      "    class counts:   112   144\n",
      "   probabilities: 0.438 0.562 \n",
      "\n"
     ]
    },
    {
     "data": {
      "text/html": [
       "<dl class=dl-horizontal>\n",
       "\t<dt>Contract</dt>\n",
       "\t\t<dd>305.289608780156</dd>\n",
       "\t<dt>tenure</dt>\n",
       "\t\t<dd>260.391456260994</dd>\n",
       "\t<dt>TotalCharges</dt>\n",
       "\t\t<dd>211.067385313411</dd>\n",
       "\t<dt>OnlineSecurity</dt>\n",
       "\t\t<dd>145.272831117724</dd>\n",
       "\t<dt>TechSupport</dt>\n",
       "\t\t<dd>134.638675903756</dd>\n",
       "\t<dt>DeviceProtection</dt>\n",
       "\t\t<dd>114.700179318538</dd>\n",
       "\t<dt>MonthlyCharges</dt>\n",
       "\t\t<dd>102.054907950337</dd>\n",
       "\t<dt>InternetService</dt>\n",
       "\t\t<dd>101.047180702265</dd>\n",
       "\t<dt>OnlineBackup</dt>\n",
       "\t\t<dd>53.3179346719292</dd>\n",
       "\t<dt>MultipleLines</dt>\n",
       "\t\t<dd>45.0975355159007</dd>\n",
       "\t<dt>StreamingTV</dt>\n",
       "\t\t<dd>14.6322661299048</dd>\n",
       "\t<dt>Partner</dt>\n",
       "\t\t<dd>14.2427469758065</dd>\n",
       "\t<dt>PaymentMethod</dt>\n",
       "\t\t<dd>3.14103516564276</dd>\n",
       "</dl>\n"
      ],
      "text/latex": [
       "\\begin{description*}\n",
       "\\item[Contract] 305.289608780156\n",
       "\\item[tenure] 260.391456260994\n",
       "\\item[TotalCharges] 211.067385313411\n",
       "\\item[OnlineSecurity] 145.272831117724\n",
       "\\item[TechSupport] 134.638675903756\n",
       "\\item[DeviceProtection] 114.700179318538\n",
       "\\item[MonthlyCharges] 102.054907950337\n",
       "\\item[InternetService] 101.047180702265\n",
       "\\item[OnlineBackup] 53.3179346719292\n",
       "\\item[MultipleLines] 45.0975355159007\n",
       "\\item[StreamingTV] 14.6322661299048\n",
       "\\item[Partner] 14.2427469758065\n",
       "\\item[PaymentMethod] 3.14103516564276\n",
       "\\end{description*}\n"
      ],
      "text/markdown": [
       "Contract\n",
       ":   305.289608780156tenure\n",
       ":   260.391456260994TotalCharges\n",
       ":   211.067385313411OnlineSecurity\n",
       ":   145.272831117724TechSupport\n",
       ":   134.638675903756DeviceProtection\n",
       ":   114.700179318538MonthlyCharges\n",
       ":   102.054907950337InternetService\n",
       ":   101.047180702265OnlineBackup\n",
       ":   53.3179346719292MultipleLines\n",
       ":   45.0975355159007StreamingTV\n",
       ":   14.6322661299048Partner\n",
       ":   14.2427469758065PaymentMethod\n",
       ":   3.14103516564276\n",
       "\n"
      ],
      "text/plain": [
       "        Contract           tenure     TotalCharges   OnlineSecurity \n",
       "      305.289609       260.391456       211.067385       145.272831 \n",
       "     TechSupport DeviceProtection   MonthlyCharges  InternetService \n",
       "      134.638676       114.700179       102.054908       101.047181 \n",
       "    OnlineBackup    MultipleLines      StreamingTV          Partner \n",
       "       53.317935        45.097536        14.632266        14.242747 \n",
       "   PaymentMethod \n",
       "        3.141035 "
      ]
     },
     "metadata": {},
     "output_type": "display_data"
    }
   ],
   "source": [
    "dec.tree.1 = rpart( Churn ~ . , data=train.data.set,  method = \"class\")\n",
    "summary(dec.tree.1)\n",
    "dec.tree.1$variable.importance"
   ]
  },
  {
   "cell_type": "code",
   "execution_count": 10,
   "metadata": {},
   "outputs": [
    {
     "data": {
      "image/png": "[encoded data removed]",
      "text/plain": [
       "plot without title"
      ]
     },
     "metadata": {},
     "output_type": "display_data"
    }
   ],
   "source": [
    "rpart.plot(dec.tree.1)\n",
    "# ?rpart"
   ]
  },
  {
   "cell_type": "code",
   "execution_count": 14,
   "metadata": {},
   "outputs": [
    {
     "data": {
      "text/html": [
       "<table>\n",
       "<thead><tr><th scope=col>Churn</th><th scope=col>Churn.pred</th></tr></thead>\n",
       "<tbody>\n",
       "\t<tr><td>No </td><td>No </td></tr>\n",
       "\t<tr><td>No </td><td>No </td></tr>\n",
       "\t<tr><td>Yes</td><td>No </td></tr>\n",
       "\t<tr><td>Yes</td><td>Yes</td></tr>\n",
       "\t<tr><td>No </td><td>No </td></tr>\n",
       "\t<tr><td>No </td><td>No </td></tr>\n",
       "</tbody>\n",
       "</table>\n"
      ],
      "text/latex": [
       "\\begin{tabular}{r|ll}\n",
       " Churn & Churn.pred\\\\\n",
       "\\hline\n",
       "\t No  & No \\\\\n",
       "\t No  & No \\\\\n",
       "\t Yes & No \\\\\n",
       "\t Yes & Yes\\\\\n",
       "\t No  & No \\\\\n",
       "\t No  & No \\\\\n",
       "\\end{tabular}\n"
      ],
      "text/markdown": [
       "\n",
       "Churn | Churn.pred | \n",
       "|---|---|---|---|---|---|\n",
       "| No  | No  | \n",
       "| No  | No  | \n",
       "| Yes | No  | \n",
       "| Yes | Yes | \n",
       "| No  | No  | \n",
       "| No  | No  | \n",
       "\n",
       "\n"
      ],
      "text/plain": [
       "  Churn Churn.pred\n",
       "1 No    No        \n",
       "2 No    No        \n",
       "3 Yes   No        \n",
       "4 Yes   Yes       \n",
       "5 No    No        \n",
       "6 No    No        "
      ]
     },
     "metadata": {},
     "output_type": "display_data"
    },
    {
     "data": {
      "text/plain": [
       "\n",
       "  No  Yes \n",
       "3619 1311 "
      ]
     },
     "metadata": {},
     "output_type": "display_data"
    }
   ],
   "source": [
    "## Predictions\n",
    "pred.train.data.set = as.data.frame(train.data.set$Churn)\n",
    "colnames(pred.train.data.set)[1] = \"Churn\"\n",
    "pred.train.data.set$Churn.pred = predict(dec.tree.1,newdata = train.data.set,type=\"class\")\n",
    "head(pred.train.data.set)\n",
    "table(pred.train.data.set$Churn)"
   ]
  },
  {
   "cell_type": "code",
   "execution_count": 15,
   "metadata": {},
   "outputs": [
    {
     "data": {
      "text/plain": [
       "     \n",
       "        No  Yes\n",
       "  No  3284  335\n",
       "  Yes  670  641"
      ]
     },
     "metadata": {},
     "output_type": "display_data"
    },
    {
     "data": {
      "text/html": [
       "3284"
      ],
      "text/latex": [
       "3284"
      ],
      "text/markdown": [
       "3284"
      ],
      "text/plain": [
       "[1] 3284"
      ]
     },
     "metadata": {},
     "output_type": "display_data"
    },
    {
     "data": {
      "text/html": [
       "335"
      ],
      "text/latex": [
       "335"
      ],
      "text/markdown": [
       "335"
      ],
      "text/plain": [
       "[1] 335"
      ]
     },
     "metadata": {},
     "output_type": "display_data"
    },
    {
     "data": {
      "text/html": [
       "670"
      ],
      "text/latex": [
       "670"
      ],
      "text/markdown": [
       "670"
      ],
      "text/plain": [
       "[1] 670"
      ]
     },
     "metadata": {},
     "output_type": "display_data"
    },
    {
     "data": {
      "text/html": [
       "641"
      ],
      "text/latex": [
       "641"
      ],
      "text/markdown": [
       "641"
      ],
      "text/plain": [
       "[1] 641"
      ]
     },
     "metadata": {},
     "output_type": "display_data"
    },
    {
     "data": {
      "text/html": [
       "0.796146044624746"
      ],
      "text/latex": [
       "0.796146044624746"
      ],
      "text/markdown": [
       "0.796146044624746"
      ],
      "text/plain": [
       "[1] 0.796146"
      ]
     },
     "metadata": {},
     "output_type": "display_data"
    },
    {
     "data": {
      "text/html": [
       "0.656762295081967"
      ],
      "text/latex": [
       "0.656762295081967"
      ],
      "text/markdown": [
       "0.656762295081967"
      ],
      "text/plain": [
       "[1] 0.6567623"
      ]
     },
     "metadata": {},
     "output_type": "display_data"
    },
    {
     "data": {
      "text/html": [
       "0.488939740655988"
      ],
      "text/latex": [
       "0.488939740655988"
      ],
      "text/markdown": [
       "0.488939740655988"
      ],
      "text/plain": [
       "[1] 0.4889397"
      ]
     },
     "metadata": {},
     "output_type": "display_data"
    },
    {
     "data": {
      "text/html": [
       "0.560559685177088"
      ],
      "text/latex": [
       "0.560559685177088"
      ],
      "text/markdown": [
       "0.560559685177088"
      ],
      "text/plain": [
       "[1] 0.5605597"
      ]
     },
     "metadata": {},
     "output_type": "display_data"
    }
   ],
   "source": [
    "table(pred.train.data.set$Churn,pred.train.data.set$Churn.pred)\n",
    "tr.TN = table(pred.train.data.set$Churn,pred.train.data.set$Churn.pred)[1]\n",
    "tr.FP = table(pred.train.data.set$Churn,pred.train.data.set$Churn.pred)[3]\n",
    "tr.FN = table(pred.train.data.set$Churn,pred.train.data.set$Churn.pred)[2]\n",
    "tr.TP = table(pred.train.data.set$Churn,pred.train.data.set$Churn.pred)[4]\n",
    "\n",
    "tr.TN\n",
    "tr.FP\n",
    "tr.FN\n",
    "tr.TP\n",
    "\n",
    "tr.Accuray = (tr.TN+tr.TP)/(tr.TN+tr.TP+tr.FN+tr.FP)\n",
    "tr.Precision = (tr.TP)/(tr.TP+tr.FP)\n",
    "tr.Recall = (tr.TP)/(tr.TP+tr.FN)\n",
    "tr.F1 = 2*tr.Precision*tr.Recall/(tr.Precision+tr.Recall)\n",
    "\n",
    "tr.Accuray\n",
    "tr.Precision\n",
    "tr.Recall\n",
    "tr.F1"
   ]
  },
  {
   "cell_type": "code",
   "execution_count": 16,
   "metadata": {},
   "outputs": [
    {
     "data": {
      "text/plain": [
       "\n",
       "  No  Yes \n",
       "1555  558 "
      ]
     },
     "metadata": {},
     "output_type": "display_data"
    },
    {
     "data": {
      "text/html": [
       "2113"
      ],
      "text/latex": [
       "2113"
      ],
      "text/markdown": [
       "2113"
      ],
      "text/plain": [
       "[1] 2113"
      ]
     },
     "metadata": {},
     "output_type": "display_data"
    }
   ],
   "source": [
    "## Predictions\n",
    "pred.test.data.set = as.data.frame(test.data.set$Churn)\n",
    "colnames(pred.test.data.set)[1] = \"Churn\"\n",
    "pred.test.data.set$Churn.pred = predict(dec.tree.1,newdata = test.data.set,type=\"class\")\n",
    "# head(pred.test.data.set)\n",
    "table(pred.test.data.set$Churn)\n",
    "nrow(pred.test.data.set)"
   ]
  },
  {
   "cell_type": "code",
   "execution_count": 17,
   "metadata": {},
   "outputs": [
    {
     "data": {
      "text/plain": [
       "     \n",
       "        No  Yes\n",
       "  No  1413  142\n",
       "  Yes  290  268"
      ]
     },
     "metadata": {},
     "output_type": "display_data"
    },
    {
     "data": {
      "text/html": [
       "0.795551348793185"
      ],
      "text/latex": [
       "0.795551348793185"
      ],
      "text/markdown": [
       "0.795551348793185"
      ],
      "text/plain": [
       "[1] 0.7955513"
      ]
     },
     "metadata": {},
     "output_type": "display_data"
    },
    {
     "data": {
      "text/html": [
       "0.653658536585366"
      ],
      "text/latex": [
       "0.653658536585366"
      ],
      "text/markdown": [
       "0.653658536585366"
      ],
      "text/plain": [
       "[1] 0.6536585"
      ]
     },
     "metadata": {},
     "output_type": "display_data"
    },
    {
     "data": {
      "text/html": [
       "0.480286738351254"
      ],
      "text/latex": [
       "0.480286738351254"
      ],
      "text/markdown": [
       "0.480286738351254"
      ],
      "text/plain": [
       "[1] 0.4802867"
      ]
     },
     "metadata": {},
     "output_type": "display_data"
    },
    {
     "data": {
      "text/html": [
       "0.553719008264463"
      ],
      "text/latex": [
       "0.553719008264463"
      ],
      "text/markdown": [
       "0.553719008264463"
      ],
      "text/plain": [
       "[1] 0.553719"
      ]
     },
     "metadata": {},
     "output_type": "display_data"
    }
   ],
   "source": [
    "table(pred.test.data.set$Churn,pred.test.data.set$Churn.pred)\n",
    "tt.TN = table(pred.test.data.set$Churn,pred.test.data.set$Churn.pred)[1]\n",
    "tt.FP = table(pred.test.data.set$Churn,pred.test.data.set$Churn.pred)[3]\n",
    "tt.FN = table(pred.test.data.set$Churn,pred.test.data.set$Churn.pred)[2]\n",
    "tt.TP = table(pred.test.data.set$Churn,pred.test.data.set$Churn.pred)[4]\n",
    "\n",
    "tt.Precision = (tt.TP)/(tt.TP+tt.FP)\n",
    "tt.Accuray = (tt.TN+tt.TP)/(tt.TN+tt.TP+tt.FN+tt.FP)\n",
    "tt.Recall = (tt.TP)/(tt.TP+tt.FN)\n",
    "tt.F1 = 2*tt.Precision*tt.Recall/(tt.Precision+tt.Recall)\n",
    "\n",
    "tt.Accuray\n",
    "tt.Precision\n",
    "tt.Recall\n",
    "tt.F1"
   ]
  }
 ],
 "metadata": {
  "kernelspec": {
   "display_name": "R",
   "language": "R",
   "name": "ir"
  },
  "language_info": {
   "codemirror_mode": "r",
   "file_extension": ".r",
   "mimetype": "text/x-r-source",
   "name": "R",
   "pygments_lexer": "r",
   "version": "3.4.1"
  }
 },
 "nbformat": 4,
 "nbformat_minor": 2
}
