{
 "cells": [
  {
   "cell_type": "code",
   "execution_count": 1,
   "id": "c6e808a8-ce10-4486-84cd-b0a74ffe32ca",
   "metadata": {},
   "outputs": [
    {
     "name": "stdout",
     "output_type": "stream",
     "text": [
      "2.13.0\n"
     ]
    }
   ],
   "source": [
    "import tensorflow as tf\n",
    "print(tf.__version__)"
   ]
  },
  {
   "cell_type": "code",
   "execution_count": 2,
   "id": "65e466c5-a406-4525-9e83-e925e26689dc",
   "metadata": {},
   "outputs": [],
   "source": [
    "import numpy as np\n",
    "import pandas as pd\n",
    "import matplotlib.pyplot as plt\n",
    "\n",
    "from sklearn.model_selection import train_test_split\n",
    "\n",
    "from tensorflow.keras.preprocessing.text import Tokenizer\n",
    "from tensorflow.keras.preprocessing.sequence import pad_sequences\n",
    "from tensorflow.keras.layers import Dense, Input, GlobalMaxPooling1D\n",
    "from tensorflow.keras.layers import LSTM, Embedding\n",
    "from tensorflow.keras.models import Model"
   ]
  },
  {
   "cell_type": "code",
   "execution_count": 3,
   "id": "64155464-bd1a-4240-ab77-58cf54302ae6",
   "metadata": {},
   "outputs": [],
   "source": [
    "df = pd.read_csv('spam.csv', encoding='ISO-8859-1')"
   ]
  },
  {
   "cell_type": "code",
   "execution_count": 4,
   "id": "0ddc75e8-d8fc-461e-9811-8c2de88b88ae",
   "metadata": {},
   "outputs": [],
   "source": [
    "# drop garbage columns\n",
    "df = df.drop([\"Unnamed: 2\", \"Unnamed: 3\", \"Unnamed: 4\"], axis=1)"
   ]
  },
  {
   "cell_type": "code",
   "execution_count": 5,
   "id": "818ec246-e02d-452d-a1ef-cb7653c9f66b",
   "metadata": {},
   "outputs": [],
   "source": [
    "# rename columns\n",
    "df.columns = ['labels', 'data']"
   ]
  },
  {
   "cell_type": "code",
   "execution_count": 6,
   "id": "86a359ed-8288-4f66-bc22-80647f0d729e",
   "metadata": {},
   "outputs": [
    {
     "data": {
      "text/html": [
       "<div>\n",
       "<style scoped>\n",
       "    .dataframe tbody tr th:only-of-type {\n",
       "        vertical-align: middle;\n",
       "    }\n",
       "\n",
       "    .dataframe tbody tr th {\n",
       "        vertical-align: top;\n",
       "    }\n",
       "\n",
       "    .dataframe thead th {\n",
       "        text-align: right;\n",
       "    }\n",
       "</style>\n",
       "<table border=\"1\" class=\"dataframe\">\n",
       "  <thead>\n",
       "    <tr style=\"text-align: right;\">\n",
       "      <th></th>\n",
       "      <th>labels</th>\n",
       "      <th>data</th>\n",
       "    </tr>\n",
       "  </thead>\n",
       "  <tbody>\n",
       "    <tr>\n",
       "      <th>0</th>\n",
       "      <td>ham</td>\n",
       "      <td>Go until jurong point, crazy.. Available only ...</td>\n",
       "    </tr>\n",
       "    <tr>\n",
       "      <th>1</th>\n",
       "      <td>ham</td>\n",
       "      <td>Ok lar... Joking wif u oni...</td>\n",
       "    </tr>\n",
       "    <tr>\n",
       "      <th>2</th>\n",
       "      <td>spam</td>\n",
       "      <td>Free entry in 2 a wkly comp to win FA Cup fina...</td>\n",
       "    </tr>\n",
       "    <tr>\n",
       "      <th>3</th>\n",
       "      <td>ham</td>\n",
       "      <td>U dun say so early hor... U c already then say...</td>\n",
       "    </tr>\n",
       "    <tr>\n",
       "      <th>4</th>\n",
       "      <td>ham</td>\n",
       "      <td>Nah I don't think he goes to usf, he lives aro...</td>\n",
       "    </tr>\n",
       "  </tbody>\n",
       "</table>\n",
       "</div>"
      ],
      "text/plain": [
       "  labels                                               data\n",
       "0    ham  Go until jurong point, crazy.. Available only ...\n",
       "1    ham                      Ok lar... Joking wif u oni...\n",
       "2   spam  Free entry in 2 a wkly comp to win FA Cup fina...\n",
       "3    ham  U dun say so early hor... U c already then say...\n",
       "4    ham  Nah I don't think he goes to usf, he lives aro..."
      ]
     },
     "execution_count": 6,
     "metadata": {},
     "output_type": "execute_result"
    }
   ],
   "source": [
    "df.head()"
   ]
  },
  {
   "cell_type": "code",
   "execution_count": 7,
   "id": "93a1372c-c30b-4e93-9e39-31cd223b7d42",
   "metadata": {},
   "outputs": [],
   "source": [
    "# create binary labels (0 and 1)\n",
    "df['b_labels'] = df['labels'].map({'ham': 0, 'spam': 1}) # create new column as 'b_labels'\n",
    "y = df['b_labels'].values"
   ]
  },
  {
   "cell_type": "code",
   "execution_count": 8,
   "id": "314df71e-ade1-4f35-83a6-535c7ec543cd",
   "metadata": {},
   "outputs": [],
   "source": [
    "# split the data\n",
    "x_train, x_test, y_train, y_test = train_test_split(df['data'], y, test_size=0.33)"
   ]
  },
  {
   "cell_type": "code",
   "execution_count": 9,
   "id": "cb473d4d-387d-4a32-a741-901e7f3fa6e7",
   "metadata": {},
   "outputs": [],
   "source": [
    "# Convert sentences to sequences\n",
    "max_vocab_size = 20000\n",
    "tokenizer = Tokenizer(num_words=max_vocab_size)\n",
    "tokenizer.fit_on_texts(x_train)\n",
    "sequences_train = tokenizer.texts_to_sequences(x_train)\n",
    "sequences_test = tokenizer.texts_to_sequences(x_test)"
   ]
  },
  {
   "cell_type": "code",
   "execution_count": 10,
   "id": "867a997f-1586-468a-8953-1919bcb74d04",
   "metadata": {},
   "outputs": [
    {
     "name": "stdout",
     "output_type": "stream",
     "text": [
      "Total number of unique tokens are: 7144\n"
     ]
    }
   ],
   "source": [
    "# Check word index mapping (to check the number of words in vocabulary)\n",
    "word2idx = tokenizer.word_index\n",
    "V = len(word2idx)\n",
    "print('Total number of unique tokens are: %s' % V)"
   ]
  },
  {
   "cell_type": "code",
   "execution_count": 11,
   "id": "070de125-037f-431b-9f36-6965c9d4f733",
   "metadata": {},
   "outputs": [
    {
     "name": "stdout",
     "output_type": "stream",
     "text": [
      "Shape of data train tensor: (3733, 189)\n"
     ]
    }
   ],
   "source": [
    "# pad sequences (to get  N x T matrix)\n",
    "data_train = pad_sequences(sequences_train)\n",
    "print('Shape of data train tensor:', data_train.shape)\n",
    "\n",
    "# N: number of samples and T: Number of time steps"
   ]
  },
  {
   "cell_type": "code",
   "execution_count": 13,
   "id": "ad364ca9-904a-4dd2-ae6a-64f00bb3970d",
   "metadata": {},
   "outputs": [
    {
     "name": "stdout",
     "output_type": "stream",
     "text": [
      "189\n"
     ]
    }
   ],
   "source": [
    "# set the value of T to get sequence length\n",
    "T = data_train.shape[1]\n",
    "print(T)"
   ]
  },
  {
   "cell_type": "code",
   "execution_count": 14,
   "id": "44933516-abc4-4516-a746-bf617526d32f",
   "metadata": {},
   "outputs": [
    {
     "name": "stdout",
     "output_type": "stream",
     "text": [
      "Shape of data test tensor: (1839, 189)\n"
     ]
    }
   ],
   "source": [
    "# pad the test set\n",
    "data_test = pad_sequences(sequences_test, maxlen=T)\n",
    "# maxlen = T, to truncate longer sentences in test set\n",
    "print('Shape of data test tensor:', data_test.shape)"
   ]
  },
  {
   "cell_type": "code",
   "execution_count": 15,
   "id": "dffd5cc9-79a2-4760-a5c1-216fd1ad37bb",
   "metadata": {},
   "outputs": [],
   "source": [
    "\n",
    "# Choose embedding dimensionality\n",
    "D = 20  # this is a hyper parameter, we can choose any word vector size that we want\n",
    "\n",
    "# Hidden state vectorsize (dimensionality)\n",
    "M = 15\n",
    "\n",
    "# Input layer\n",
    "i = Input(shape=(T,))  # input layer takes in sequences of integers, so shape is T\n",
    "\n",
    "# Embedding layer\n",
    "x = Embedding(V + 1, D)(i) # This takes in sequences of integers and returns sequences of word vectors\n",
    "# This will be an N * T * D array\n",
    "# we want size of embedding to (V + 1) x D, because first word index starts from 1 and not 0\n",
    "\n",
    "# LSTM layer\n",
    "x = LSTM(M, return_sequences=True)(x)\n",
    "x = GlobalMaxPooling1D()(x)\n",
    "\n",
    "# Dense layer\n",
    "x = Dense(1, activation='sigmoid')(x)\n",
    "# it is an binary classification problem, so we are using activation function ='sigmoid'\n",
    "\n",
    "model = Model(i, x)\n"
   ]
  },
  {
   "cell_type": "code",
   "execution_count": 16,
   "id": "6437cdb2-2250-4e3f-bdf0-b251e1ab601f",
   "metadata": {},
   "outputs": [],
   "source": [
    "# Compile the model\n",
    "model.compile(optimizer='adam', loss='binary_crossentropy', metrics=['accuracy'])"
   ]
  },
  {
   "cell_type": "code",
   "execution_count": 17,
   "id": "8ba512b6-0555-44a6-b91f-7f07154aaef5",
   "metadata": {},
   "outputs": [
    {
     "name": "stdout",
     "output_type": "stream",
     "text": [
      "Epoch 1/10\n",
      "117/117 [==============================] - 14s 102ms/step - loss: 0.4466 - accuracy: 0.8636 - val_loss: 0.4005 - val_accuracy: 0.8592\n",
      "Epoch 2/10\n",
      "117/117 [==============================] - 12s 99ms/step - loss: 0.3243 - accuracy: 0.8695 - val_loss: 0.2160 - val_accuracy: 0.9108\n",
      "Epoch 3/10\n",
      "117/117 [==============================] - 11s 96ms/step - loss: 0.1335 - accuracy: 0.9812 - val_loss: 0.1210 - val_accuracy: 0.9734\n",
      "Epoch 4/10\n",
      "117/117 [==============================] - 11s 98ms/step - loss: 0.0808 - accuracy: 0.9893 - val_loss: 0.0901 - val_accuracy: 0.9810\n",
      "Epoch 5/10\n",
      "117/117 [==============================] - 11s 97ms/step - loss: 0.0501 - accuracy: 0.9944 - val_loss: 0.0873 - val_accuracy: 0.9799\n",
      "Epoch 6/10\n",
      "117/117 [==============================] - 11s 96ms/step - loss: 0.0301 - accuracy: 0.9976 - val_loss: 0.0736 - val_accuracy: 0.9777\n",
      "Epoch 7/10\n",
      "117/117 [==============================] - 11s 97ms/step - loss: 0.0192 - accuracy: 0.9989 - val_loss: 0.0707 - val_accuracy: 0.9815\n",
      "Epoch 8/10\n",
      "117/117 [==============================] - 11s 96ms/step - loss: 0.0139 - accuracy: 0.9995 - val_loss: 0.0701 - val_accuracy: 0.9815\n",
      "Epoch 9/10\n",
      "117/117 [==============================] - 11s 92ms/step - loss: 0.0107 - accuracy: 0.9995 - val_loss: 0.0698 - val_accuracy: 0.9815\n",
      "Epoch 10/10\n",
      "117/117 [==============================] - 11s 93ms/step - loss: 0.0087 - accuracy: 0.9995 - val_loss: 0.0707 - val_accuracy: 0.9821\n"
     ]
    }
   ],
   "source": [
    "# Train the model\n",
    "r = model.fit(x=data_train, y=y_train, epochs=10, validation_data=(data_test, y_test))"
   ]
  },
  {
   "cell_type": "code",
   "execution_count": 18,
   "id": "48d39c61-c078-40a7-a227-73f065792d02",
   "metadata": {},
   "outputs": [
    {
     "data": {
      "image/png": "[encoded data removed]",
      "text/plain": [
       "<Figure size 640x480 with 1 Axes>"
      ]
     },
     "metadata": {},
     "output_type": "display_data"
    }
   ],
   "source": [
    "# Loss per iteration\n",
    "import matplotlib.pyplot as plt\n",
    "plt.plot(r.history['loss'], label='Loss')\n",
    "plt.plot(r.history['val_loss'], label='Validation Loss')\n",
    "plt.legend()\n",
    "plt.show()"
   ]
  },
  {
   "cell_type": "code",
   "execution_count": 19,
   "id": "aa0452ba-3c2d-4581-82ab-cd5d53cb7b4d",
   "metadata": {},
   "outputs": [
    {
     "data": {
      "image/png": "[encoded data removed]",
      "text/plain": [
       "<Figure size 640x480 with 1 Axes>"
      ]
     },
     "metadata": {},
     "output_type": "display_data"
    }
   ],
   "source": [
    "# Accuracy per iteration\n",
    "plt.plot(r.history['accuracy'], label='Accuracy')\n",
    "plt.plot(r.history['val_accuracy'], label='Validation accuracy')\n",
    "plt.legend()\n",
    "plt.show()"
   ]
  },
  {
   "cell_type": "code",
   "execution_count": null,
   "id": "fef7a558-18bd-4c44-aab1-ae57acac97bf",
   "metadata": {},
   "outputs": [],
   "source": []
  }
 ],
 "metadata": {
  "kernelspec": {
   "display_name": "Python 3 (ipykernel)",
   "language": "python",
   "name": "python3"
  },
  "language_info": {
   "codemirror_mode": {
    "name": "ipython",
    "version": 3
   },
   "file_extension": ".py",
   "mimetype": "text/x-python",
   "name": "python",
   "nbconvert_exporter": "python",
   "pygments_lexer": "ipython3",
   "version": "3.9.17"
  }
 },
 "nbformat": 4,
 "nbformat_minor": 5
}
