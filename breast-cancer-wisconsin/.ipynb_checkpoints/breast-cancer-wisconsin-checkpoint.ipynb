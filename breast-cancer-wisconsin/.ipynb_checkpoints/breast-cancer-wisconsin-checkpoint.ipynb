{
 "cells": [
  {
   "cell_type": "code",
   "execution_count": 2,
   "id": "2ae77932",
   "metadata": {},
   "outputs": [],
   "source": [
    "import pandas as pd"
   ]
  },
  {
   "cell_type": "code",
   "execution_count": 9,
   "id": "a59f9cd2",
   "metadata": {},
   "outputs": [
    {
     "ename": "TypeError",
     "evalue": "read_csv() got an unexpected keyword argument 'columns'",
     "output_type": "error",
     "traceback": [
      "\u001b[1;31m---------------------------------------------------------------------------\u001b[0m",
      "\u001b[1;31mTypeError\u001b[0m                                 Traceback (most recent call last)",
      "\u001b[1;32m<ipython-input-9-367c9c90711e>\u001b[0m in \u001b[0;36m<module>\u001b[1;34m\u001b[0m\n\u001b[1;32m----> 1\u001b[1;33m \u001b[0mdata\u001b[0m\u001b[1;33m=\u001b[0m\u001b[0mpd\u001b[0m\u001b[1;33m.\u001b[0m\u001b[0mread_csv\u001b[0m\u001b[1;33m(\u001b[0m\u001b[1;34m\"breast-cancer-wisconsin.data\"\u001b[0m\u001b[1;33m,\u001b[0m\u001b[0mcolumns\u001b[0m\u001b[1;33m=\u001b[0m\u001b[1;33m[\u001b[0m\u001b[1;34m'Sample code number'\u001b[0m\u001b[1;33m,\u001b[0m \u001b[1;34m'Clump Thickness'\u001b[0m\u001b[1;33m,\u001b[0m\u001b[1;34m'Uniformity of Cell Size'\u001b[0m\u001b[1;33m,\u001b[0m\u001b[1;34m'Uniformity of Cell Shape '\u001b[0m\u001b[1;33m,\u001b[0m\u001b[1;34m'Marginal Adhesion '\u001b[0m\u001b[1;33m,\u001b[0m\u001b[1;34m'Single Epithelial Cell Size'\u001b[0m\u001b[1;33m,\u001b[0m\u001b[1;34m'Bare Nuclei'\u001b[0m\u001b[1;33m,\u001b[0m\u001b[1;34m'Bland Chromatin'\u001b[0m\u001b[1;33m,\u001b[0m\u001b[1;34m'Normal Nucleoli'\u001b[0m\u001b[1;33m,\u001b[0m\u001b[1;34m'Mitoses'\u001b[0m\u001b[1;33m,\u001b[0m\u001b[1;34m'Class'\u001b[0m\u001b[1;33m]\u001b[0m\u001b[1;33m)\u001b[0m\u001b[1;33m\u001b[0m\u001b[1;33m\u001b[0m\u001b[0m\n\u001b[0m\u001b[0;32m      2\u001b[0m \u001b[0mdata\u001b[0m\u001b[1;33m.\u001b[0m\u001b[0mhead\u001b[0m\u001b[1;33m(\u001b[0m\u001b[1;36m2\u001b[0m\u001b[1;33m)\u001b[0m\u001b[1;33m\u001b[0m\u001b[1;33m\u001b[0m\u001b[0m\n",
      "\u001b[1;31mTypeError\u001b[0m: read_csv() got an unexpected keyword argument 'columns'"
     ]
    }
   ],
   "source": [
    "data=pd.read_csv(\"breast-cancer-wisconsin.data\",columns=['Sample code number', 'Clump Thickness','Uniformity of Cell Size',\\\n",
    "                                                        'Uniformity of Cell Shape ','Marginal Adhesion ','Single Epithelial Cell Size','Bare Nuclei',\\\n",
    "                                                        'Bland Chromatin','Normal Nucleoli','Mitoses','Class'])\n",
    "data.head(2)"
   ]
  }
 ],
 "metadata": {
  "kernelspec": {
   "display_name": "Python 3",
   "language": "python",
   "name": "python3"
  },
  "language_info": {
   "codemirror_mode": {
    "name": "ipython",
    "version": 3
   },
   "file_extension": ".py",
   "mimetype": "text/x-python",
   "name": "python",
   "nbconvert_exporter": "python",
   "pygments_lexer": "ipython3",
   "version": "3.6.13"
  }
 },
 "nbformat": 4,
 "nbformat_minor": 5
}
