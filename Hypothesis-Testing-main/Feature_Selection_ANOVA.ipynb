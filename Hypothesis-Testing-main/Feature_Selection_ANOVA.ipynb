{
 "cells": [
  {
   "cell_type": "code",
   "execution_count": 9,
   "id": "ecc9b542-7757-4a35-a336-73b4496eb844",
   "metadata": {},
   "outputs": [],
   "source": [
    "import numpy as np\n",
    "import pandas as pd\n",
    "from sklearn.feature_selection import SelectKBest\n",
    "from sklearn.feature_selection import f_classif"
   ]
  },
  {
   "cell_type": "code",
   "execution_count": 10,
   "id": "d451d9e7-59f0-4a88-91c3-cbe08cb96fd7",
   "metadata": {},
   "outputs": [],
   "source": [
    "# Create a sample dataset with three features and a target variable\n",
    "data = {\n",
    "    'Feature1': np.random.normal(0, 1, 100),\n",
    "    'Feature2': np.random.normal(2, 1, 100),\n",
    "    'Feature3': np.random.normal(5, 1, 100),\n",
    "    'Target': np.random.choice([0, 1], size=100)\n",
    "}"
   ]
  },
  {
   "cell_type": "code",
   "execution_count": 11,
   "id": "eb8f405e-e59d-499b-bb0a-6c30bf662a96",
   "metadata": {},
   "outputs": [],
   "source": [
    "df = pd.DataFrame(data)\n",
    "\n",
    "# Separate the features and target variable\n",
    "X = df[['Feature1', 'Feature2', 'Feature3']]\n",
    "y = df['Target']"
   ]
  },
  {
   "cell_type": "code",
   "execution_count": 12,
   "id": "5d0cdb40-896a-41bf-aa68-d3818b0e984a",
   "metadata": {},
   "outputs": [],
   "source": [
    "# You can adjust the value of k to select a different number of top features."
   ]
  },
  {
   "cell_type": "code",
   "execution_count": 13,
   "id": "a9830f8b-8643-447e-8c69-7a122bea2130",
   "metadata": {},
   "outputs": [],
   "source": [
    "# Apply ANOVA feature selection\n",
    "k_best = SelectKBest(score_func=f_classif, k=2)\n",
    "X_new = k_best.fit_transform(X, y)"
   ]
  },
  {
   "cell_type": "code",
   "execution_count": 14,
   "id": "079ce7d5-1149-4650-b129-d40eb4001d34",
   "metadata": {},
   "outputs": [],
   "source": [
    "# Get the indices of the selected features\n",
    "selected_feature_indices = k_best.get_support(indices=True)"
   ]
  },
  {
   "cell_type": "code",
   "execution_count": 15,
   "id": "417102b4-9776-42ab-a54e-346dfda6a1bf",
   "metadata": {},
   "outputs": [],
   "source": [
    "# Print the selected features\n",
    "selected_features = X.columns[selected_feature_indices]"
   ]
  },
  {
   "cell_type": "code",
   "execution_count": 16,
   "id": "95aae1f9-3669-46b7-a360-37294a9926b0",
   "metadata": {},
   "outputs": [
    {
     "name": "stdout",
     "output_type": "stream",
     "text": [
      "Selected Features:\n",
      "Index(['Feature1', 'Feature2'], dtype='object')\n"
     ]
    }
   ],
   "source": [
    "print(\"Selected Features:\")\n",
    "print(selected_features)"
   ]
  },
  {
   "cell_type": "code",
   "execution_count": null,
   "id": "0738e4e4-4ae1-4035-861b-732ab2a30641",
   "metadata": {},
   "outputs": [],
   "source": []
  }
 ],
 "metadata": {
  "kernelspec": {
   "display_name": "Python 3 (ipykernel)",
   "language": "python",
   "name": "python3"
  },
  "language_info": {
   "codemirror_mode": {
    "name": "ipython",
    "version": 3
   },
   "file_extension": ".py",
   "mimetype": "text/x-python",
   "name": "python",
   "nbconvert_exporter": "python",
   "pygments_lexer": "ipython3",
   "version": "3.9.17"
  }
 },
 "nbformat": 4,
 "nbformat_minor": 5
}
