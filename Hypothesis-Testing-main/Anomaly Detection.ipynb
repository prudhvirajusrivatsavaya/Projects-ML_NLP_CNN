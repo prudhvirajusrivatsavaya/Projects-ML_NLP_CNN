{
 "cells": [
  {
   "cell_type": "code",
   "execution_count": 1,
   "id": "34fbc4ef-132e-4eb5-b2d2-63e233379ccf",
   "metadata": {},
   "outputs": [],
   "source": [
    "import numpy as np\n",
    "from scipy import stats"
   ]
  },
  {
   "cell_type": "code",
   "execution_count": 3,
   "id": "aab12378-5dc7-4071-9d06-c6a74378ffd7",
   "metadata": {},
   "outputs": [],
   "source": [
    "# Generate a dataset with some anomalies\n",
    "data = np.concatenate([np.random.normal(0, 1, 100), np.random.normal(10, 1, 10)])"
   ]
  },
  {
   "cell_type": "code",
   "execution_count": 4,
   "id": "e1f27cf3-ed21-48e4-8843-922893941784",
   "metadata": {},
   "outputs": [],
   "source": [
    "# Perform a z-test for each data point\n",
    "z_scores = (data - np.mean(data)) / np.std(data)"
   ]
  },
  {
   "cell_type": "code",
   "execution_count": 5,
   "id": "03be2be0-af43-4e8d-828b-26475e96576e",
   "metadata": {},
   "outputs": [],
   "source": [
    "# Set a significance level (alpha)\n",
    "alpha = 0.05"
   ]
  },
  {
   "cell_type": "code",
   "execution_count": 6,
   "id": "2877049c-4ad8-4060-911c-97008ba09777",
   "metadata": {},
   "outputs": [],
   "source": [
    "# Identify anomalies based on the significance level\n",
    "anomalies = data[np.abs(z_scores) > stats.norm.ppf(1 - alpha/2)]"
   ]
  },
  {
   "cell_type": "code",
   "execution_count": 7,
   "id": "702b99db-27d5-411d-b0b6-e9ee57b32d2c",
   "metadata": {},
   "outputs": [
    {
     "name": "stdout",
     "output_type": "stream",
     "text": [
      "Anomalies:\n",
      "[10.63431807 10.65020239 10.23442282 10.40665764 11.34953621  9.71641255\n",
      "  8.67770591 10.07483699  9.67303723]\n"
     ]
    }
   ],
   "source": [
    "print(\"Anomalies:\")\n",
    "print(anomalies)"
   ]
  },
  {
   "cell_type": "markdown",
   "id": "67316251-81c7-4390-a4a4-0e27afbc860f",
   "metadata": {},
   "source": [
    "norm.ppf(1 - 0.05/2) calculates the z-score for the 95th percentile of a standard normal distribution. The division by 2 is used because the normal distribution is symmetric, and we want to find the critical value for the 2.5th percentile on each tail, which corresponds to the 95% confidence interval in the middle."
   ]
  },
  {
   "cell_type": "code",
   "execution_count": null,
   "id": "702d7072-e3ee-4b3a-8d37-525c7b8451f6",
   "metadata": {},
   "outputs": [],
   "source": []
  }
 ],
 "metadata": {
  "kernelspec": {
   "display_name": "Python 3 (ipykernel)",
   "language": "python",
   "name": "python3"
  },
  "language_info": {
   "codemirror_mode": {
    "name": "ipython",
    "version": 3
   },
   "file_extension": ".py",
   "mimetype": "text/x-python",
   "name": "python",
   "nbconvert_exporter": "python",
   "pygments_lexer": "ipython3",
   "version": "3.9.17"
  }
 },
 "nbformat": 4,
 "nbformat_minor": 5
}
