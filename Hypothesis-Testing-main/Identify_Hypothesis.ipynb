{
 "cells": [
  {
   "cell_type": "code",
   "execution_count": 1,
   "id": "1ea03477-f351-4d96-a576-eb2f30ae791a",
   "metadata": {},
   "outputs": [],
   "source": [
    "import numpy as np\n",
    "from scipy import stats"
   ]
  },
  {
   "cell_type": "code",
   "execution_count": 2,
   "id": "3eb5f623-3379-491e-ae32-a20d758b2f96",
   "metadata": {},
   "outputs": [],
   "source": [
    "# Generate a dataset with some outliers\n",
    "np.random.seed(0)\n",
    "data = np.concatenate([np.random.normal(0, 1, 100), np.random.normal(10, 1, 10)])"
   ]
  },
  {
   "cell_type": "code",
   "execution_count": 3,
   "id": "4d76661f-e2de-4578-9543-fddbb7c3a544",
   "metadata": {},
   "outputs": [],
   "source": [
    "# Define a significance level (alpha)\n",
    "alpha = 0.05"
   ]
  },
  {
   "cell_type": "code",
   "execution_count": 4,
   "id": "38f65ea9-2d46-48c1-a23b-04ec0f3685c6",
   "metadata": {},
   "outputs": [],
   "source": [
    "# Calculate the mean and standard deviation of the dataset\n",
    "mean = np.mean(data)\n",
    "std_dev = np.std(data)"
   ]
  },
  {
   "cell_type": "code",
   "execution_count": 8,
   "id": "ecdcc937-36c3-489d-bbe2-38b383a2cb90",
   "metadata": {
    "scrolled": true
   },
   "outputs": [
    {
     "data": {
      "text/plain": [
       "array([8.05452615e-01, 8.49809926e-01, 9.96369840e-01, 6.90180659e-01,\n",
       "       7.79969659e-01, 5.29124204e-01, 9.89068496e-01, 7.14718371e-01,\n",
       "       7.26226019e-01, 8.52424547e-01, 7.86260913e-01, 8.82858470e-01,\n",
       "       9.40940431e-01, 7.80771189e-01, 8.60765102e-01, 8.33201737e-01,\n",
       "       8.72832758e-01, 7.01933466e-01, 8.28068676e-01, 5.55193027e-01,\n",
       "       2.57357086e-01, 9.13678475e-01, 9.67247897e-01, 5.79412306e-01,\n",
       "       6.83399315e-01, 4.34369949e-01, 7.62222493e-01, 7.06195616e-01,\n",
       "       8.63104994e-01, 8.79056691e-01, 7.88940829e-01, 8.44307638e-01,\n",
       "       5.48001335e-01, 3.42168647e-01, 6.68425094e-01, 7.89285478e-01,\n",
       "       9.39576926e-01, 9.46672221e-01, 6.59285125e-01, 6.79063177e-01,\n",
       "       5.14330024e-01, 4.40846690e-01, 3.88577804e-01, 7.59650321e-01,\n",
       "       6.31246068e-01, 6.47591829e-01, 4.73158330e-01, 9.45122877e-01,\n",
       "       4.05017516e-01, 7.00138393e-01, 5.46368206e-01, 8.46493175e-01,\n",
       "       6.30984218e-01, 4.87494560e-01, 7.44286790e-01, 8.56868890e-01,\n",
       "       7.67281421e-01, 8.25432128e-01, 6.03205767e-01, 6.64980493e-01,\n",
       "       5.94741084e-01, 6.65720434e-01, 5.63995991e-01, 3.85070447e-01,\n",
       "       7.94473435e-01, 6.55945940e-01, 4.02086644e-01, 8.65515719e-01,\n",
       "       5.43857202e-01, 7.63729193e-01, 9.32823852e-01, 7.82563517e-01,\n",
       "       9.62697024e-01, 4.76706393e-01, 8.50356798e-01, 5.92011797e-01,\n",
       "       5.51622075e-01, 6.15613423e-01, 6.76900469e-01, 7.64757397e-01,\n",
       "       4.90600614e-01, 9.76516572e-01, 8.66239372e-01, 4.19154339e-01,\n",
       "       8.74299122e-01, 7.73034317e-01, 9.52675042e-01, 7.07919521e-01,\n",
       "       5.09766484e-01, 9.84334656e-01, 6.55623796e-01, 9.41570922e-01,\n",
       "       8.02082955e-01, 9.95834905e-01, 8.38862506e-01, 9.27107167e-01,\n",
       "       7.53653287e-01, 8.00062805e-01, 7.82055512e-01, 8.50268601e-01,\n",
       "       5.04124292e-04, 1.44237612e-02, 1.34654474e-02, 1.43914618e-03,\n",
       "       1.23383967e-02, 4.68988016e-04, 6.05261141e-03, 8.33269852e-03,\n",
       "       4.80738139e-04, 8.08276803e-04])"
      ]
     },
     "execution_count": 8,
     "metadata": {},
     "output_type": "execute_result"
    }
   ],
   "source": [
    "# Perform a two-tailed Z-test for each data point\n",
    "z_scores = (data - mean) / std_dev\n",
    "p_values = 2 * (1 - stats.norm.cdf(np.abs(z_scores)))\n",
    "p_values"
   ]
  },
  {
   "cell_type": "code",
   "execution_count": 6,
   "id": "b21c3676-2cac-4518-a94e-8415b33e2f39",
   "metadata": {},
   "outputs": [],
   "source": [
    "# Identify outliers based on the significance level\n",
    "outliers = data[p_values < alpha]"
   ]
  },
  {
   "cell_type": "code",
   "execution_count": 7,
   "id": "42021a0c-7088-4ca9-8118-86178802255d",
   "metadata": {},
   "outputs": [
    {
     "name": "stdout",
     "output_type": "stream",
     "text": [
      "Outliers:\n",
      "[11.8831507   8.65224094  8.729515   10.96939671  8.82687659 11.94362119\n",
      "  9.58638102  9.25254519 11.92294203 11.48051479]\n"
     ]
    }
   ],
   "source": [
    "print(\"Outliers:\")\n",
    "print(outliers)"
   ]
  },
  {
   "cell_type": "code",
   "execution_count": null,
   "id": "6c4ffa82-82e8-4cbc-aa48-4f4f9479d08e",
   "metadata": {},
   "outputs": [],
   "source": []
  }
 ],
 "metadata": {
  "kernelspec": {
   "display_name": "Python 3 (ipykernel)",
   "language": "python",
   "name": "python3"
  },
  "language_info": {
   "codemirror_mode": {
    "name": "ipython",
    "version": 3
   },
   "file_extension": ".py",
   "mimetype": "text/x-python",
   "name": "python",
   "nbconvert_exporter": "python",
   "pygments_lexer": "ipython3",
   "version": "3.9.17"
  }
 },
 "nbformat": 4,
 "nbformat_minor": 5
}
