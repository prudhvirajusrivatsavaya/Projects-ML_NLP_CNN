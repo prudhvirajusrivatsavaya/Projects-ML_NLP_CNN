{
 "cells": [
  {
   "cell_type": "code",
   "execution_count": 1,
   "id": "c70401b7-70bb-4b5a-8286-d5dc3df5658c",
   "metadata": {},
   "outputs": [],
   "source": [
    "import pandas as pd\n",
    "from scipy import stats"
   ]
  },
  {
   "cell_type": "code",
   "execution_count": 2,
   "id": "93a4f37f-cd96-48e6-bee6-9a8a214ce087",
   "metadata": {},
   "outputs": [],
   "source": [
    "# Generate a sample dataset (you can replace this with your dataset)\n",
    "data = {\n",
    "    'Feature_A': [10, 15, 20, 25, 30],\n",
    "    'Feature_B': [2, 4, 6, 8, 10],\n",
    "    'Feature_C': [7, 14, 21, 28, 35],\n",
    "    'Target': [1, 0, 1, 0, 1]  # Target variable (binary classification)\n",
    "}\n",
    "df = pd.DataFrame(data)"
   ]
  },
  {
   "cell_type": "code",
   "execution_count": 3,
   "id": "7879f3fd-44d9-47e0-bbbf-893ccb34a6cf",
   "metadata": {},
   "outputs": [
    {
     "name": "stdout",
     "output_type": "stream",
     "text": [
      "Feature: Feature_A, F-Statistic: 0.0000, p-value: 1.0000\n",
      "  Feature_A is not significant for predicting the target variable.\n",
      "Feature: Feature_B, F-Statistic: 0.0000, p-value: 1.0000\n",
      "  Feature_B is not significant for predicting the target variable.\n",
      "Feature: Feature_C, F-Statistic: 0.0000, p-value: 1.0000\n",
      "  Feature_C is not significant for predicting the target variable.\n"
     ]
    }
   ],
   "source": [
    "# Perform ANOVA test for each feature with respect to the target variable\n",
    "feature_names = df.columns[:-1]  # Excluding the target variable column\n",
    "\n",
    "for feature in feature_names:\n",
    "    f_statistic, p_value = stats.f_oneway(df[feature][df['Target'] == 0], df[feature][df['Target'] == 1])\n",
    "    print(f\"Feature: {feature}, F-Statistic: {f_statistic:.4f}, p-value: {p_value:.4f}\")\n",
    "\n",
    "    alpha = 0.05\n",
    "    if p_value < alpha:\n",
    "        print(f\"  {feature} is significant for predicting the target variable.\")\n",
    "    else:\n",
    "        print(f\"  {feature} is not significant for predicting the target variable.\")"
   ]
  },
  {
   "cell_type": "code",
   "execution_count": null,
   "id": "b615a8e5-5655-49df-95b0-81c2e39724f8",
   "metadata": {},
   "outputs": [],
   "source": []
  }
 ],
 "metadata": {
  "kernelspec": {
   "display_name": "Python 3 (ipykernel)",
   "language": "python",
   "name": "python3"
  },
  "language_info": {
   "codemirror_mode": {
    "name": "ipython",
    "version": 3
   },
   "file_extension": ".py",
   "mimetype": "text/x-python",
   "name": "python",
   "nbconvert_exporter": "python",
   "pygments_lexer": "ipython3",
   "version": "3.9.17"
  }
 },
 "nbformat": 4,
 "nbformat_minor": 5
}
