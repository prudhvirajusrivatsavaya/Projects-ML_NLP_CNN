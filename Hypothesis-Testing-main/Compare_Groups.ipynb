{
 "cells": [
  {
   "cell_type": "code",
   "execution_count": 1,
   "id": "996a998a-68d6-482c-9e9a-133e02366fab",
   "metadata": {},
   "outputs": [],
   "source": [
    "import numpy as np\n",
    "from scipy import stats"
   ]
  },
  {
   "cell_type": "code",
   "execution_count": 2,
   "id": "37cd7ff9-fd81-4f8a-a445-405fe1dd8dbb",
   "metadata": {},
   "outputs": [],
   "source": [
    "# Generate two sets of data representing two groups (e.g., Group A and Group B)\n",
    "group_a_data = np.array([75, 80, 85, 90, 95, 100])\n",
    "group_b_data = np.array([60, 65, 70, 75, 80, 85])"
   ]
  },
  {
   "cell_type": "code",
   "execution_count": 3,
   "id": "52b89b39-ffaa-4166-b947-f010bf2ba62a",
   "metadata": {},
   "outputs": [],
   "source": [
    "# Perform an independent two-sample t-test to compare the means of the two groups\n",
    "t_statistic, p_value = stats.ttest_ind(group_a_data, group_b_data)"
   ]
  },
  {
   "cell_type": "code",
   "execution_count": 4,
   "id": "dd5cd603-8aa5-4bf0-8b6a-397f494599e0",
   "metadata": {},
   "outputs": [
    {
     "name": "stdout",
     "output_type": "stream",
     "text": [
      "The means of Group A and Group B are significantly different.\n"
     ]
    }
   ],
   "source": [
    "# Define a significance level (alpha)\n",
    "alpha = 0.05\n",
    "\n",
    "# Check if the p-value is less than alpha to determine significance\n",
    "if p_value < alpha:\n",
    "    print(\"The means of Group A and Group B are significantly different.\")\n",
    "else:\n",
    "    print(\"There is no significant difference between the means of Group A and Group B.\")"
   ]
  },
  {
   "cell_type": "code",
   "execution_count": null,
   "id": "f5754ca2-5787-4d5a-b078-a5b2f5ba45a1",
   "metadata": {},
   "outputs": [],
   "source": []
  }
 ],
 "metadata": {
  "kernelspec": {
   "display_name": "Python 3 (ipykernel)",
   "language": "python",
   "name": "python3"
  },
  "language_info": {
   "codemirror_mode": {
    "name": "ipython",
    "version": 3
   },
   "file_extension": ".py",
   "mimetype": "text/x-python",
   "name": "python",
   "nbconvert_exporter": "python",
   "pygments_lexer": "ipython3",
   "version": "3.9.17"
  }
 },
 "nbformat": 4,
 "nbformat_minor": 5
}
