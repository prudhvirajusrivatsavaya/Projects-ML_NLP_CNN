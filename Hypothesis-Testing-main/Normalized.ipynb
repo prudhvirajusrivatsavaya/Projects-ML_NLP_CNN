{
 "cells": [
  {
   "cell_type": "code",
   "execution_count": 1,
   "id": "0b48b4ce-d33a-4c28-8839-1c40e58221eb",
   "metadata": {},
   "outputs": [],
   "source": [
    "import numpy as np\n",
    "from scipy import stats"
   ]
  },
  {
   "cell_type": "code",
   "execution_count": 2,
   "id": "d283d371-a84e-42c4-9bf1-4011f2cb53fc",
   "metadata": {},
   "outputs": [],
   "source": [
    "# Generate a sample dataset with a non-normally distributed variable\n",
    "data = np.random.exponential(scale=2, size=100)"
   ]
  },
  {
   "cell_type": "code",
   "execution_count": 3,
   "id": "94ef2c7f-e4e9-4696-b5f8-a2cf893639bd",
   "metadata": {},
   "outputs": [],
   "source": [
    "# Perform the Shapiro-Wilk test to assess the normality of the original data\n",
    "original_statistic, original_p_value = stats.shapiro(data)\n",
    "\n",
    "# Normalize the data (e.g., by taking the natural logarithm)\n",
    "normalized_data = np.log(data)\n",
    "\n",
    "# Perform the Shapiro-Wilk test on the normalized data\n",
    "normalized_statistic, normalized_p_value = stats.shapiro(normalized_data)\n",
    "\n",
    "# Define a significance level (alpha)\n",
    "alpha = 0.05"
   ]
  },
  {
   "cell_type": "code",
   "execution_count": 4,
   "id": "dbd0f6da-8463-40c1-ac1b-ec4eaa1fa7c8",
   "metadata": {},
   "outputs": [
    {
     "name": "stdout",
     "output_type": "stream",
     "text": [
      "Original data is not normally distributed.\n",
      "Normalized data is not normally distributed.\n"
     ]
    }
   ],
   "source": [
    "# Check the p-values to determine the normality of the data\n",
    "if original_p_value < alpha:\n",
    "    print(\"Original data is not normally distributed.\")\n",
    "else:\n",
    "    print(\"Original data is normally distributed.\")\n",
    "\n",
    "if normalized_p_value < alpha:\n",
    "    print(\"Normalized data is not normally distributed.\")\n",
    "else:\n",
    "    print(\"Normalized data is normally distributed.\")"
   ]
  },
  {
   "cell_type": "code",
   "execution_count": null,
   "id": "baedbfbc-83f3-484c-8b81-d0d5b2f5b588",
   "metadata": {},
   "outputs": [],
   "source": []
  }
 ],
 "metadata": {
  "kernelspec": {
   "display_name": "Python 3 (ipykernel)",
   "language": "python",
   "name": "python3"
  },
  "language_info": {
   "codemirror_mode": {
    "name": "ipython",
    "version": 3
   },
   "file_extension": ".py",
   "mimetype": "text/x-python",
   "name": "python",
   "nbconvert_exporter": "python",
   "pygments_lexer": "ipython3",
   "version": "3.9.17"
  }
 },
 "nbformat": 4,
 "nbformat_minor": 5
}
